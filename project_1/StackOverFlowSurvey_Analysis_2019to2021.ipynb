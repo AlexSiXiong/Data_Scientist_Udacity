{
 "cells": [
  {
   "cell_type": "code",
   "execution_count": 149,
   "metadata": {},
   "outputs": [],
   "source": [
    "import pandas as pd\n",
    "import numpy as np\n",
    "\n",
    "def read_data(path):\n",
    "    \"\"\"\n",
    "    read csv file\n",
    "    \n",
    "    input:\n",
    "        path: the file path\n",
    "    output:\n",
    "        a dataframe that stores all the files\n",
    "            \n",
    "    \"\"\"\n",
    "    df_chunk=pd.read_csv(path,chunksize=20000)\n",
    "\n",
    "    res_chunk=[]\n",
    "    for chunk in df_chunk:\n",
    "        res_chunk.append(chunk)\n",
    "    return pd.concat(res_chunk)"
   ]
  },
  {
   "cell_type": "code",
   "execution_count": 150,
   "metadata": {},
   "outputs": [],
   "source": [
    "import warnings\n",
    "\n",
    "warnings.filterwarnings('ignore')"
   ]
  },
  {
   "cell_type": "markdown",
   "metadata": {},
   "source": [
    "# Session 1: \n",
    "# - Introduction\n",
    "\n",
    "### In this mini project, we will use the Annual Developer Survey from StackOverflow from 2019 to 2021 to analysis the education and language preference of the programmers from the United States.\n"
   ]
  },
  {
   "cell_type": "markdown",
   "metadata": {},
   "source": [
    "\n",
    "# This short report will answer 4 questions:\n",
    "\n",
    "### 1.What is the relationship between working years/education and salary?\n",
    "### 2.Do professional developers have a higher the education level?\n",
    "### 3.Do students in this survey tend to have a higher the education level?\n",
    "### 4.What is the most popular language among professional developers in the recent 3 years？"
   ]
  },
  {
   "cell_type": "markdown",
   "metadata": {},
   "source": [
    "# Note: \n",
    "- Data cleaning works were done when analysing specific business questions."
   ]
  },
  {
   "cell_type": "markdown",
   "metadata": {},
   "source": [
    "# Session 2: \n",
    "# - Data Preparation"
   ]
  },
  {
   "cell_type": "code",
   "execution_count": 151,
   "metadata": {},
   "outputs": [],
   "source": [
    "def extract_us_survey(df):\n",
    "    \"\"\"\n",
    "    extract participants from US only, ignore nan data\n",
    "    \n",
    "    input:\n",
    "        df: dataframe\n",
    "    output:\n",
    "        data from survery participants from US\n",
    "        \n",
    "    reference: https://stackoverflow.com/questions/28311655/ignoring-nans-with-str-contains\n",
    "    \"\"\"\n",
    "    return df[df.Country.str.contains('United States', na=False)]\n",
    "\n",
    "\n",
    "def read_all_data(path_arr):\n",
    "    \"\"\"\n",
    "    an efficient file loading trick\n",
    "    \n",
    "    input:\n",
    "        path_arr: list\n",
    "        a list storing all the file paths\n",
    "\n",
    "    output:\n",
    "        res: list\n",
    "        a list contains the data loaded in dataframe\n",
    "    \"\"\"\n",
    "    res = []\n",
    "    for i in path_arr:\n",
    "        survey = read_data(i)\n",
    "        us_survey = extract_us_survey(survey)\n",
    "        # convert all the attributes to lower cases\n",
    "        us_survey.columns = [i.lower() for i in us_survey.columns]\n",
    "        res.append(us_survey)\n",
    "    return res\n",
    "\n",
    "path_arr = [\n",
    "    './data/stack-overflow-developer-survey-2017/survey_results_public.csv',\n",
    "    './data/stack-overflow-developer-survey-2018/survey_results_public.csv',\n",
    "    './data/stack-overflow-developer-survey-2019/survey_results_public.csv',\n",
    "    './data/stack-overflow-developer-survey-2020/survey_results_public.csv',\n",
    "    './data/stack-overflow-developer-survey-2021/survey_results_public.csv'\n",
    "]"
   ]
  },
  {
   "cell_type": "code",
   "execution_count": 153,
   "metadata": {},
   "outputs": [],
   "source": [
    "survey_results = read_all_data(path_arr)"
   ]
  },
  {
   "cell_type": "markdown",
   "metadata": {},
   "source": [
    "### Check the difference of the questionnaire those years"
   ]
  },
  {
   "cell_type": "code",
   "execution_count": 155,
   "metadata": {},
   "outputs": [],
   "source": [
    "def check_df_columns(survey_res_arr):\n",
    "    \"\"\"\n",
    "    a list contains the surver dataframe from 2017-2021\n",
    "    \"\"\"\n",
    "    try:\n",
    "        return list(set(survey_res_arr[0]).intersection(*survey_res_arr[1:]))\n",
    "    except:\n",
    "        print(\"the survey list should be a list and its length should be greater than 1\")"
   ]
  },
  {
   "cell_type": "code",
   "execution_count": 156,
   "metadata": {},
   "outputs": [
    {
     "data": {
      "text/plain": [
       "['gender', 'country']"
      ]
     },
     "execution_count": 156,
     "metadata": {},
     "output_type": "execute_result"
    }
   ],
   "source": [
    "check_df_columns(survey_results)"
   ]
  },
  {
   "cell_type": "markdown",
   "metadata": {},
   "source": [
    "### Finding: \n",
    "- There are only two same attributes in the surveys, so we can see that the survey contents may have been chanching each year."
   ]
  },
  {
   "cell_type": "markdown",
   "metadata": {},
   "source": [
    "# Session 3:\n",
    "# Q1. The relationship between education level and salary/position"
   ]
  },
  {
   "cell_type": "code",
   "execution_count": 522,
   "metadata": {
    "scrolled": false
   },
   "outputs": [],
   "source": [
    "def check_related_columns(survey_results, topic_list):\n",
    "    \"\"\"\n",
    "    check the topic related questions in the questionaire each year\n",
    "    \n",
    "        input:\n",
    "            survey_results: the survery data\n",
    "            topic_list: the attributes to be explored\n",
    "            \n",
    "        output:\n",
    "            res: dictionary\n",
    "            a dict sotres all the resutls\n",
    "            \n",
    "            format:\n",
    "            key - year\n",
    "            value - a list contains all topic related attributes\n",
    "            \n",
    "    \"\"\"\n",
    "    res = {}\n",
    "    year = 2017\n",
    "    for survey_df in survey_results:\n",
    "        columns = [i.lower() for i in survey_df.columns]\n",
    "        res[year] = []\n",
    "        for item in columns:\n",
    "            for i in topic_list:\n",
    "                if i in item:\n",
    "                    res[year].append(item)\n",
    "                    continue\n",
    "        year+=1\n",
    "    return res"
   ]
  },
  {
   "cell_type": "code",
   "execution_count": 523,
   "metadata": {
    "scrolled": true
   },
   "outputs": [
    {
     "data": {
      "text/plain": [
       "{2017: ['university',\n",
       "  'formaleducation',\n",
       "  'learningnewtech',\n",
       "  'learnedhiring',\n",
       "  'importanthiringeducation',\n",
       "  'educationimportant',\n",
       "  'educationtypes',\n",
       "  'cousineducation',\n",
       "  'highesteducationparents'],\n",
       " 2018: ['formaleducation', 'educationtypes', 'educationparents'],\n",
       " 2019: ['edlevel'],\n",
       " 2020: ['edlevel', 'newlearn'],\n",
       " 2021: ['edlevel', 'learncode']}"
      ]
     },
     "execution_count": 523,
     "metadata": {},
     "output_type": "execute_result"
    }
   ],
   "source": [
    "# look at the education related attributes\n",
    "check_related_columns(survey_results, ['education', 'university', 'edlevel','learn','study'])"
   ]
  },
  {
   "cell_type": "markdown",
   "metadata": {},
   "source": [
    "### Finding:\n",
    "- As the education related contents were discreate, so I will only focus on the data colleted in the year of 2019,2020,2021 regarding to education."
   ]
  },
  {
   "cell_type": "code",
   "execution_count": 526,
   "metadata": {
    "scrolled": true
   },
   "outputs": [
    {
     "data": {
      "text/plain": [
       "{2017: ['stackoverflowmakemoney', 'salary', 'expectedsalary'],\n",
       " 2018: ['salary', 'salarytype', 'convertedsalary'],\n",
       " 2019: ['mgrmoney'],\n",
       " 2020: [],\n",
       " 2021: []}"
      ]
     },
     "execution_count": 526,
     "metadata": {},
     "output_type": "execute_result"
    }
   ],
   "source": [
    "# look at the salary related attributes\n",
    "check_related_columns(survey_results, ['salary', 'money'])"
   ]
  },
  {
   "cell_type": "code",
   "execution_count": 160,
   "metadata": {},
   "outputs": [
    {
     "data": {
      "text/plain": [
       "{2017: [], 2018: [], 2019: [], 2020: [], 2021: []}"
      ]
     },
     "execution_count": 160,
     "metadata": {},
     "output_type": "execute_result"
    }
   ],
   "source": [
    "# look at the position related attributes\n",
    "check_related_columns(survey_results, ['position'])"
   ]
  },
  {
   "cell_type": "code",
   "execution_count": 527,
   "metadata": {},
   "outputs": [
    {
     "data": {
      "text/plain": [
       "{2017: ['importanthiringtitles'], 2018: [], 2019: [], 2020: [], 2021: []}"
      ]
     },
     "execution_count": 527,
     "metadata": {},
     "output_type": "execute_result"
    }
   ],
   "source": [
    "# look at the title related attributes\n",
    "check_related_columns(survey_results, ['title'])"
   ]
  },
  {
   "cell_type": "markdown",
   "metadata": {},
   "source": [
    "### Finding:\n",
    "- A1. Unfortunately, the surveies in recent two years do not have 'salary' related questions, so I cannot analyze the relations between education level and salary."
   ]
  },
  {
   "cell_type": "markdown",
   "metadata": {},
   "source": [
    "# Session 4："
   ]
  },
  {
   "cell_type": "markdown",
   "metadata": {},
   "source": [
    "# Q2. do professional developers have a higher the education level?"
   ]
  },
  {
   "cell_type": "markdown",
   "metadata": {},
   "source": [
    "# Q3. do students in this survey tend to have a higher the education level?"
   ]
  },
  {
   "cell_type": "markdown",
   "metadata": {},
   "source": [
    "### Finding:\n",
    "- people calimed their identity such as developers, students and so on under this attribute --- MainBranch"
   ]
  },
  {
   "cell_type": "code",
   "execution_count": 532,
   "metadata": {},
   "outputs": [
    {
     "data": {
      "text/plain": [
       "{2017: [],\n",
       " 2018: [],\n",
       " 2019: ['mainbranch'],\n",
       " 2020: ['mainbranch'],\n",
       " 2021: ['mainbranch']}"
      ]
     },
     "execution_count": 532,
     "metadata": {},
     "output_type": "execute_result"
    }
   ],
   "source": [
    "# look at the identity related attributes\n",
    "check_related_columns(survey_results, ['branch'])"
   ]
  },
  {
   "cell_type": "markdown",
   "metadata": {},
   "source": [
    "### The education level of the paticipants who answered the questionaire."
   ]
  },
  {
   "cell_type": "code",
   "execution_count": 162,
   "metadata": {},
   "outputs": [],
   "source": [
    "def build_dictionary_survey_result(survey_results_arr):\n",
    "    \"\"\"\n",
    "    store the survey results to a dictionary\n",
    "    \n",
    "    format:\n",
    "        key: int, year\n",
    "        val: DataFrame, survery result\n",
    "    \n",
    "    input:\n",
    "        survey_results_arr - list\n",
    "    output:\n",
    "        dict_survey_results - dictionary\n",
    "        \n",
    "    \"\"\"\n",
    "    dict_survey_results = {}\n",
    "\n",
    "    year = 2017\n",
    "    \n",
    "    for i in survey_results_arr:\n",
    "        dict_survey_results[year] = i\n",
    "        year += 1\n",
    "        \n",
    "    return dict_survey_results\n",
    "\n",
    "dict_survey_results = build_dictionary_survey_result(survey_results)"
   ]
  },
  {
   "cell_type": "code",
   "execution_count": 163,
   "metadata": {},
   "outputs": [],
   "source": [
    "data_2019 = dict_survey_results[2019]\n",
    "data_2020 = dict_survey_results[2020]\n",
    "data_2021 = dict_survey_results[2021]"
   ]
  },
  {
   "cell_type": "code",
   "execution_count": 164,
   "metadata": {},
   "outputs": [],
   "source": [
    "education_data = [data_2019, data_2020, data_2021]"
   ]
  },
  {
   "cell_type": "markdown",
   "metadata": {},
   "source": [
    "### extract the survery filled by developers and students"
   ]
  },
  {
   "cell_type": "code",
   "execution_count": 165,
   "metadata": {},
   "outputs": [],
   "source": [
    "def extract_profession_developer(df):\n",
    "    \"\"\"\n",
    "    extract the surveys from developers\n",
    "    \"\"\"\n",
    "    return df[df.mainbranch.str.contains('I am a developer by profession', na=False)]\n",
    "\n",
    "def extract_student_developer(df):\n",
    "    \"\"\"\n",
    "    extract the surveys from students\n",
    "    \"\"\"\n",
    "    return df[df.mainbranch.str.contains('I am a student', na=False)]"
   ]
  },
  {
   "cell_type": "code",
   "execution_count": 166,
   "metadata": {},
   "outputs": [],
   "source": [
    "profession_education_data = []\n",
    "student_education_data = []\n",
    "\n",
    "for i in education_data:\n",
    "    profession_education_data.append(extract_profession_developer(i))\n",
    "    student_education_data.append(extract_student_developer(i))"
   ]
  },
  {
   "cell_type": "markdown",
   "metadata": {},
   "source": [
    "### glance at the education distribution in the recent 3 years"
   ]
  },
  {
   "cell_type": "code",
   "execution_count": 177,
   "metadata": {
    "scrolled": false
   },
   "outputs": [
    {
     "name": "stdout",
     "output_type": "stream",
     "text": [
      "Year 2019\n",
      "Bachelor’s degree (BA, BS, B.Eng., etc.)                                              0.596495\n",
      "Master’s degree (MA, MS, M.Eng., MBA, etc.)                                           0.178967\n",
      "Some college/university study without earning a degree                                0.121252\n",
      "Associate degree                                                                      0.044194\n",
      "Other doctoral degree (Ph.D, Ed.D., etc.)                                             0.025039\n",
      "Secondary school (e.g. American high school, German Realschule or Gymnasium, etc.)    0.023099\n",
      "Professional degree (JD, MD, etc.)                                                    0.004507\n",
      "I never completed any formal education                                                0.003318\n",
      "Primary/elementary school                                                             0.003130\n",
      "Name: edlevel, dtype: float64\n",
      "--------------------------------------------------------------------------------------------\n",
      "Year 2020\n",
      "Bachelor’s degree (B.A., B.S., B.Eng., etc.)                                          0.583223\n",
      "Master’s degree (M.A., M.S., M.Eng., MBA, etc.)                                       0.190824\n",
      "Some college/university study without earning a degree                                0.116135\n",
      "Associate degree (A.A., A.S., etc.)                                                   0.046653\n",
      "Other doctoral degree (Ph.D., Ed.D., etc.)                                            0.027704\n",
      "Secondary school (e.g. American high school, German Realschule or Gymnasium, etc.)    0.023936\n",
      "Professional degree (JD, MD, etc.)                                                    0.004211\n",
      "I never completed any formal education                                                0.004100\n",
      "Primary/elementary school                                                             0.003214\n",
      "Name: edlevel, dtype: float64\n",
      "--------------------------------------------------------------------------------------------\n",
      "Year 2021\n",
      "Bachelor’s degree (B.A., B.S., B.Eng., etc.)                                          0.573422\n",
      "Master’s degree (M.A., M.S., M.Eng., MBA, etc.)                                       0.186611\n",
      "Some college/university study without earning a degree                                0.125645\n",
      "Associate degree (A.A., A.S., etc.)                                                   0.041218\n",
      "Other doctoral degree (Ph.D., Ed.D., etc.)                                            0.032974\n",
      "Secondary school (e.g. American high school, German Realschule or Gymnasium, etc.)    0.025274\n",
      "Something else                                                                        0.005254\n",
      "Professional degree (JD, MD, etc.)                                                    0.005073\n",
      "Primary/elementary school                                                             0.004529\n",
      "Name: edlevel, dtype: float64\n",
      "--------------------------------------------------------------------------------------------\n"
     ]
    }
   ],
   "source": [
    "year = 2019\n",
    "for i in profession_education_data:\n",
    "    print('Year', year)\n",
    "    print(i.edlevel.value_counts(normalize=True))\n",
    "    print('--------------------------------------------------------------------------------------------')\n",
    "    year += 1"
   ]
  },
  {
   "cell_type": "code",
   "execution_count": 243,
   "metadata": {},
   "outputs": [],
   "source": [
    "def get_edlevel_percentage_list(df_arr):\n",
    "    \"\"\"\n",
    "    get the distribution and store them in a list in percentage of the education level\n",
    "    \n",
    "    the results are stored in a descending sort\n",
    "    \n",
    "    Six decimal places\n",
    "    \n",
    "    input:\n",
    "        the suvery result array\n",
    "        \n",
    "    output:\n",
    "        the education percentage array\n",
    "    \"\"\"\n",
    "    edlevel_percentage_list = []\n",
    "    for i in df_arr:\n",
    "        temp = pd.DataFrame(i.edlevel.value_counts(normalize=True)).reset_index()\n",
    "        temp.columns = ['edlevel', 'percentage']\n",
    "        temp.replace('I never completed any formal education', 'Something else',inplace=True)\n",
    "        temp.sort_values('edlevel',inplace=True)\n",
    "        edlevel_percentage_list.append([int(item * 10000) / 10000 for item in list(temp.percentage.values)])\n",
    "        \n",
    "    return edlevel_percentage_list"
   ]
  },
  {
   "cell_type": "code",
   "execution_count": 287,
   "metadata": {},
   "outputs": [
    {
     "name": "stdout",
     "output_type": "stream",
     "text": [
      "Year 2019\n",
      "Secondary school (e.g. American high school, German Realschule or Gymnasium, etc.)    0.308140\n",
      "Some college/university study without earning a degree                                0.292636\n",
      "Bachelor’s degree (BA, BS, B.Eng., etc.)                                              0.173773\n",
      "Primary/elementary school                                                             0.083979\n",
      "Associate degree                                                                      0.078811\n",
      "Master’s degree (MA, MS, M.Eng., MBA, etc.)                                           0.049742\n",
      "Other doctoral degree (Ph.D, Ed.D., etc.)                                             0.004522\n",
      "I never completed any formal education                                                0.004522\n",
      "Professional degree (JD, MD, etc.)                                                    0.003876\n",
      "Name: edlevel, dtype: float64\n",
      "--------------------------------------------------------------------------------------------\n",
      "Year 2020\n",
      "Some college/university study without earning a degree                                0.304837\n",
      "Bachelor’s degree (B.A., B.S., B.Eng., etc.)                                          0.232846\n",
      "Secondary school (e.g. American high school, German Realschule or Gymnasium, etc.)    0.222722\n",
      "Primary/elementary school                                                             0.085489\n",
      "Associate degree (A.A., A.S., etc.)                                                   0.069741\n",
      "Master’s degree (M.A., M.S., M.Eng., MBA, etc.)                                       0.062992\n",
      "Other doctoral degree (Ph.D., Ed.D., etc.)                                            0.010124\n",
      "I never completed any formal education                                                0.008999\n",
      "Professional degree (JD, MD, etc.)                                                    0.002250\n",
      "Name: edlevel, dtype: float64\n",
      "--------------------------------------------------------------------------------------------\n",
      "Year 2021\n",
      "Secondary school (e.g. American high school, German Realschule or Gymnasium, etc.)    0.3304\n",
      "Some college/university study without earning a degree                                0.2608\n",
      "Primary/elementary school                                                             0.1392\n",
      "Bachelor’s degree (B.A., B.S., B.Eng., etc.)                                          0.1320\n",
      "Associate degree (A.A., A.S., etc.)                                                   0.0688\n",
      "Master’s degree (M.A., M.S., M.Eng., MBA, etc.)                                       0.0352\n",
      "Something else                                                                        0.0280\n",
      "Professional degree (JD, MD, etc.)                                                    0.0032\n",
      "Other doctoral degree (Ph.D., Ed.D., etc.)                                            0.0024\n",
      "Name: edlevel, dtype: float64\n",
      "--------------------------------------------------------------------------------------------\n"
     ]
    }
   ],
   "source": [
    "year = 2019\n",
    "for i in student_education_data:\n",
    "    print('Year', year)\n",
    "    print(i.edlevel.value_counts(normalize=True))\n",
    "    print('--------------------------------------------------------------------------------------------')\n",
    "    year += 1"
   ]
  },
  {
   "cell_type": "code",
   "execution_count": 348,
   "metadata": {},
   "outputs": [],
   "source": [
    "def get_edlevel_percentage_dict(df_arr):\n",
    "    \"\"\"\n",
    "    get the distribution and store them in a dictionary in percentage of the education level\n",
    "    \n",
    "    the results are stored in a descending sort\n",
    "    \n",
    "    six decimal places\n",
    "    \n",
    "    note - to keep the consistency of the analysis, some name of the columns will be modified.\n",
    "    \n",
    "    input:\n",
    "        the survery results array\n",
    "        \n",
    "    output:\n",
    "        the education percentage dictionary\n",
    "    \"\"\"\n",
    "    student_edlevel_percentage_dict = {}\n",
    "    year = 2019\n",
    "    for i in df_arr:\n",
    "        temp = pd.DataFrame(i.edlevel.value_counts(normalize=True)).reset_index()\n",
    "        temp.columns = ['edlevel', 'percentage']\n",
    "        temp.replace('I never completed any formal education', 'Something else',inplace=True)\n",
    "        temp.replace('Other doctoral degree (Ph.D, Ed.D., etc.)', 'Other doctoral degree (Ph.D., Ed.D., etc.)', inplace=True)\n",
    "        temp.replace('Master’s degree (MA, MS, M.Eng., MBA, etc.)', 'Master’s degree (M.A., M.S., M.Eng., MBA, etc.)', inplace=True)\n",
    "        temp.replace('Associate degree', 'Associate degree (A.A., A.S., etc.)',inplace=True)\n",
    "        temp.replace('Bachelor’s degree (BA, BS, B.Eng., etc.)', 'Bachelor’s degree (B.A., B.S., B.Eng., etc.)', inplace=True)\n",
    "        temp.sort_values('edlevel',inplace=True)\n",
    "        temp['percentage'] = [int(item * 10000) / 10000 for item in list(temp.percentage.values)]\n",
    "        \n",
    "        i_edleevl_dict = temp.set_index(['edlevel'])['percentage'].to_dict()\n",
    "        \n",
    "        student_edlevel_percentage_dict[year] = i_edleevl_dict\n",
    "        \n",
    "        year+=1\n",
    "    return student_edlevel_percentage_dict"
   ]
  },
  {
   "cell_type": "code",
   "execution_count": 349,
   "metadata": {},
   "outputs": [],
   "source": [
    "student_edlevel_percentage_dict = get_edlevel_percentage_dict(student_education_data)"
   ]
  },
  {
   "cell_type": "code",
   "execution_count": 368,
   "metadata": {},
   "outputs": [],
   "source": [
    "professional_edlevel_percentage_dict = get_edlevel_percentage_dict(profession_education_data)"
   ]
  },
  {
   "cell_type": "code",
   "execution_count": 350,
   "metadata": {},
   "outputs": [],
   "source": [
    "def sort_edlevel_percentage(student_edlevel_percentage_dict, year=2019):\n",
    "    \"\"\"\n",
    "    sort the education level percentage according to their keys, as the sequence of categories were different each year\n",
    "\n",
    "    input:\n",
    "        student_edlevel_percentage_dict: dictionary\n",
    "                                         key - year, int\n",
    "                                         value - education level percentage of the year, float\n",
    "        year: int\n",
    "              the start year of the education level being analyzed\n",
    "      \n",
    "    output:\n",
    "        labels: list\n",
    "                it contains all the categories\n",
    "\n",
    "        percentage_arr: 2D list\n",
    "                it stores all the education level percentage data of the years being analyzed, and the sequence in \n",
    "                the same order as the categories.\n",
    "            \n",
    "        \n",
    "    \"\"\"\n",
    "    data_first_group_dict = student_edlevel_percentage_dict[year]\n",
    "    percentage_first_group = np.array(list(data_first_group_dict.values()))\n",
    "    labels_first_group = np.array(list(data_first_group_dict.keys()))\n",
    "    \n",
    "    first_group = sorted(percentage_first_group)\n",
    "    first_sort_index = percentage_first_group.argsort()\n",
    "    \n",
    "    labels = labels_first_group[first_sort_index]\n",
    "    \n",
    "    percentage_arr = []\n",
    "    percentage_arr.append(first_group)\n",
    "\n",
    "    for idx, val in enumerate(student_edlevel_percentage_dict):\n",
    "\n",
    "        if idx == 0:\n",
    "            continue\n",
    "        cur_percentage_arr = []\n",
    "\n",
    "\n",
    "        for i in labels:\n",
    "\n",
    "            cur_percentage_arr.append(student_edlevel_percentage_dict[val][i])\n",
    "        percentage_arr.append(cur_percentage_arr)\n",
    "        \n",
    "    return labels, percentage_arr"
   ]
  },
  {
   "cell_type": "code",
   "execution_count": 351,
   "metadata": {},
   "outputs": [],
   "source": [
    "labels, student_edlevel_percentage_arr = sort_edlevel_percentage(student_edlevel_percentage_dict)"
   ]
  },
  {
   "cell_type": "code",
   "execution_count": 369,
   "metadata": {},
   "outputs": [],
   "source": [
    "labels2, professional_edlevel_percentage_arr = sort_edlevel_percentage(professional_edlevel_percentage_dict)"
   ]
  },
  {
   "cell_type": "code",
   "execution_count": 366,
   "metadata": {},
   "outputs": [],
   "source": [
    "def plot_edlevel_chart(labels, edulevel_percentage_arr, title_content, years_label=[2019,2020,2021]):\n",
    "    \"\"\"\n",
    "    plot the education level bar chart\n",
    "    \n",
    "    \"\"\"\n",
    "    # get the labels\n",
    "\n",
    "    years = years_label\n",
    "\n",
    "    # preparation works for drawing\n",
    "    plt.figure(figsize=(28, 8))\n",
    "\n",
    "    # sort the data to make them in an ascending order\n",
    "    first = edulevel_percentage_arr[0]\n",
    "    second = edulevel_percentage_arr[1]\n",
    "    third = edulevel_percentage_arr[2]\n",
    "\n",
    "    plt.subplot(132)\n",
    "    x = np.arange(len(labels))  # the position of x labels\n",
    "    width = 0.25  # width of bar\n",
    "    # x - width，x， x + width === the position of each group of data in x axis\n",
    "    plt.bar(x - width, first, width, label='2019')\n",
    "    plt.bar(x, second, width, label='2020')\n",
    "    plt.bar(x + width, third, width, label='2021')\n",
    "    plt.ylabel('Percentage')\n",
    "#     plt.title('The Education Level of Professional Developers in 2019,2020,2021')\n",
    "    plt.title(title_content)\n",
    "\n",
    "    plt.xticks(x, labels=labels)\n",
    "    plt.xticks(rotation=-90)\n",
    "    plt.legend()\n",
    "\n",
    "    plt.show()"
   ]
  },
  {
   "cell_type": "markdown",
   "metadata": {},
   "source": [
    "# A2. The Education Level of profession developers in 2019,2020,2021'\n"
   ]
  },
  {
   "cell_type": "code",
   "execution_count": 533,
   "metadata": {},
   "outputs": [
    {
     "data": {
      "image/png": "[encoded data removed]",
      "text/plain": [
       "<Figure size 2016x576 with 1 Axes>"
      ]
     },
     "metadata": {
      "needs_background": "light"
     },
     "output_type": "display_data"
    }
   ],
   "source": [
    "plot_edlevel_chart(labels2, professional_edlevel_percentage_arr, title_content='The Education Level of profession developers in 2019,2020,2021')"
   ]
  },
  {
   "cell_type": "markdown",
   "metadata": {},
   "source": [
    "### Finding：\n",
    "- From the chart we can see that from 2018 to 2021, around 80% of the professional developers have recerived higher education (higher or equal to college/university experience)"
   ]
  },
  {
   "cell_type": "markdown",
   "metadata": {},
   "source": [
    "# A3. The Education Level of student programmers in 2019,2020,2021"
   ]
  },
  {
   "cell_type": "code",
   "execution_count": 535,
   "metadata": {},
   "outputs": [
    {
     "data": {
      "image/png": "[encoded data removed]",
      "text/plain": [
       "<Figure size 2016x576 with 1 Axes>"
      ]
     },
     "metadata": {
      "needs_background": "light"
     },
     "output_type": "display_data"
    }
   ],
   "source": [
    "plot_edlevel_chart(labels, student_edlevel_percentage_arr, title_content='The Education Level of student programmers in 2019,2020,2021')"
   ]
  },
  {
   "cell_type": "markdown",
   "metadata": {},
   "source": [
    "### Finding:\n",
    "- From the chart, we can see that the number of programmers under university has increased, particularly in 2021, and the percentage of the respondents who have higher education experience is compressed in 2021.\n",
    "\n",
    "- We may predict that the number of younger programmers will be increasing in the US.\n"
   ]
  },
  {
   "cell_type": "markdown",
   "metadata": {},
   "source": [
    "# Sesson 5:"
   ]
  },
  {
   "cell_type": "markdown",
   "metadata": {},
   "source": [
    "# Q4. What is the most popular language among professional developers？"
   ]
  },
  {
   "cell_type": "code",
   "execution_count": 519,
   "metadata": {},
   "outputs": [
    {
     "data": {
      "text/plain": [
       "{2017: ['haveworkedlanguage', 'wantworklanguage'],\n",
       " 2018: ['languageworkedwith', 'languagedesirenextyear'],\n",
       " 2019: ['languageworkedwith', 'languagedesirenextyear'],\n",
       " 2020: ['languagedesirenextyear', 'languageworkedwith'],\n",
       " 2021: ['languageworkedwith', 'languagedesirenextyear']}"
      ]
     },
     "execution_count": 519,
     "metadata": {},
     "output_type": "execute_result"
    }
   ],
   "source": [
    "# languages\n",
    "check_related_columns(survey_results, ['language'])"
   ]
  },
  {
   "cell_type": "code",
   "execution_count": 410,
   "metadata": {},
   "outputs": [
    {
     "data": {
      "text/html": [
       "<div>\n",
       "<style scoped>\n",
       "    .dataframe tbody tr th:only-of-type {\n",
       "        vertical-align: middle;\n",
       "    }\n",
       "\n",
       "    .dataframe tbody tr th {\n",
       "        vertical-align: top;\n",
       "    }\n",
       "\n",
       "    .dataframe thead th {\n",
       "        text-align: right;\n",
       "    }\n",
       "</style>\n",
       "<table border=\"1\" class=\"dataframe\">\n",
       "  <thead>\n",
       "    <tr style=\"text-align: right;\">\n",
       "      <th></th>\n",
       "      <th>respondent</th>\n",
       "      <th>mainbranch</th>\n",
       "      <th>hobbyist</th>\n",
       "      <th>opensourcer</th>\n",
       "      <th>opensource</th>\n",
       "      <th>employment</th>\n",
       "      <th>country</th>\n",
       "      <th>student</th>\n",
       "      <th>edlevel</th>\n",
       "      <th>undergradmajor</th>\n",
       "      <th>...</th>\n",
       "      <th>welcomechange</th>\n",
       "      <th>sonewcontent</th>\n",
       "      <th>age</th>\n",
       "      <th>gender</th>\n",
       "      <th>trans</th>\n",
       "      <th>sexuality</th>\n",
       "      <th>ethnicity</th>\n",
       "      <th>dependents</th>\n",
       "      <th>surveylength</th>\n",
       "      <th>surveyease</th>\n",
       "    </tr>\n",
       "  </thead>\n",
       "  <tbody>\n",
       "    <tr>\n",
       "      <th>3</th>\n",
       "      <td>4</td>\n",
       "      <td>I am a developer by profession</td>\n",
       "      <td>No</td>\n",
       "      <td>Never</td>\n",
       "      <td>The quality of OSS and closed source software ...</td>\n",
       "      <td>Employed full-time</td>\n",
       "      <td>United States</td>\n",
       "      <td>No</td>\n",
       "      <td>Bachelor’s degree (BA, BS, B.Eng., etc.)</td>\n",
       "      <td>Computer science, computer engineering, or sof...</td>\n",
       "      <td>...</td>\n",
       "      <td>Just as welcome now as I felt last year</td>\n",
       "      <td>Tech articles written by other developers;Indu...</td>\n",
       "      <td>22.0</td>\n",
       "      <td>Man</td>\n",
       "      <td>No</td>\n",
       "      <td>Straight / Heterosexual</td>\n",
       "      <td>White or of European descent</td>\n",
       "      <td>No</td>\n",
       "      <td>Appropriate in length</td>\n",
       "      <td>Easy</td>\n",
       "    </tr>\n",
       "    <tr>\n",
       "      <th>12</th>\n",
       "      <td>13</td>\n",
       "      <td>I am a developer by profession</td>\n",
       "      <td>Yes</td>\n",
       "      <td>Less than once a month but more than once per ...</td>\n",
       "      <td>OSS is, on average, of HIGHER quality than pro...</td>\n",
       "      <td>Employed full-time</td>\n",
       "      <td>United States</td>\n",
       "      <td>No</td>\n",
       "      <td>Master’s degree (MA, MS, M.Eng., MBA, etc.)</td>\n",
       "      <td>Computer science, computer engineering, or sof...</td>\n",
       "      <td>...</td>\n",
       "      <td>Somewhat more welcome now than last year</td>\n",
       "      <td>Tech articles written by other developers;Cour...</td>\n",
       "      <td>28.0</td>\n",
       "      <td>Man</td>\n",
       "      <td>No</td>\n",
       "      <td>Straight / Heterosexual</td>\n",
       "      <td>White or of European descent</td>\n",
       "      <td>Yes</td>\n",
       "      <td>Appropriate in length</td>\n",
       "      <td>Easy</td>\n",
       "    </tr>\n",
       "    <tr>\n",
       "      <th>21</th>\n",
       "      <td>22</td>\n",
       "      <td>I am a developer by profession</td>\n",
       "      <td>Yes</td>\n",
       "      <td>Less than once per year</td>\n",
       "      <td>OSS is, on average, of HIGHER quality than pro...</td>\n",
       "      <td>Employed full-time</td>\n",
       "      <td>United States</td>\n",
       "      <td>No</td>\n",
       "      <td>Some college/university study without earning ...</td>\n",
       "      <td>NaN</td>\n",
       "      <td>...</td>\n",
       "      <td>Just as welcome now as I felt last year</td>\n",
       "      <td>Tech articles written by other developers;Indu...</td>\n",
       "      <td>47.0</td>\n",
       "      <td>Man</td>\n",
       "      <td>No</td>\n",
       "      <td>Straight / Heterosexual</td>\n",
       "      <td>White or of European descent</td>\n",
       "      <td>Yes</td>\n",
       "      <td>Appropriate in length</td>\n",
       "      <td>Easy</td>\n",
       "    </tr>\n",
       "    <tr>\n",
       "      <th>22</th>\n",
       "      <td>23</td>\n",
       "      <td>I am a developer by profession</td>\n",
       "      <td>Yes</td>\n",
       "      <td>Less than once per year</td>\n",
       "      <td>The quality of OSS and closed source software ...</td>\n",
       "      <td>Employed full-time</td>\n",
       "      <td>United States</td>\n",
       "      <td>No</td>\n",
       "      <td>Bachelor’s degree (BA, BS, B.Eng., etc.)</td>\n",
       "      <td>Information systems, information technology, o...</td>\n",
       "      <td>...</td>\n",
       "      <td>Just as welcome now as I felt last year</td>\n",
       "      <td>Tech articles written by other developers;Tech...</td>\n",
       "      <td>22.0</td>\n",
       "      <td>Man</td>\n",
       "      <td>No</td>\n",
       "      <td>Straight / Heterosexual</td>\n",
       "      <td>Black or of African descent</td>\n",
       "      <td>No</td>\n",
       "      <td>Appropriate in length</td>\n",
       "      <td>Easy</td>\n",
       "    </tr>\n",
       "    <tr>\n",
       "      <th>25</th>\n",
       "      <td>26</td>\n",
       "      <td>I am a developer by profession</td>\n",
       "      <td>Yes</td>\n",
       "      <td>Less than once per year</td>\n",
       "      <td>The quality of OSS and closed source software ...</td>\n",
       "      <td>Employed full-time</td>\n",
       "      <td>United States</td>\n",
       "      <td>No</td>\n",
       "      <td>Some college/university study without earning ...</td>\n",
       "      <td>Computer science, computer engineering, or sof...</td>\n",
       "      <td>...</td>\n",
       "      <td>Just as welcome now as I felt last year</td>\n",
       "      <td>NaN</td>\n",
       "      <td>34.0</td>\n",
       "      <td>Man</td>\n",
       "      <td>No</td>\n",
       "      <td>Gay or Lesbian</td>\n",
       "      <td>NaN</td>\n",
       "      <td>No</td>\n",
       "      <td>Appropriate in length</td>\n",
       "      <td>Easy</td>\n",
       "    </tr>\n",
       "    <tr>\n",
       "      <th>...</th>\n",
       "      <td>...</td>\n",
       "      <td>...</td>\n",
       "      <td>...</td>\n",
       "      <td>...</td>\n",
       "      <td>...</td>\n",
       "      <td>...</td>\n",
       "      <td>...</td>\n",
       "      <td>...</td>\n",
       "      <td>...</td>\n",
       "      <td>...</td>\n",
       "      <td>...</td>\n",
       "      <td>...</td>\n",
       "      <td>...</td>\n",
       "      <td>...</td>\n",
       "      <td>...</td>\n",
       "      <td>...</td>\n",
       "      <td>...</td>\n",
       "      <td>...</td>\n",
       "      <td>...</td>\n",
       "      <td>...</td>\n",
       "      <td>...</td>\n",
       "    </tr>\n",
       "    <tr>\n",
       "      <th>88312</th>\n",
       "      <td>88865</td>\n",
       "      <td>I am a developer by profession</td>\n",
       "      <td>No</td>\n",
       "      <td>Less than once a month but more than once per ...</td>\n",
       "      <td>The quality of OSS and closed source software ...</td>\n",
       "      <td>Employed full-time</td>\n",
       "      <td>United States</td>\n",
       "      <td>No</td>\n",
       "      <td>Bachelor’s degree (BA, BS, B.Eng., etc.)</td>\n",
       "      <td>A social science (ex. anthropology, psychology...</td>\n",
       "      <td>...</td>\n",
       "      <td>Just as welcome now as I felt last year</td>\n",
       "      <td>NaN</td>\n",
       "      <td>36.0</td>\n",
       "      <td>Man</td>\n",
       "      <td>No</td>\n",
       "      <td>Gay or Lesbian</td>\n",
       "      <td>White or of European descent</td>\n",
       "      <td>No</td>\n",
       "      <td>Appropriate in length</td>\n",
       "      <td>Easy</td>\n",
       "    </tr>\n",
       "    <tr>\n",
       "      <th>88321</th>\n",
       "      <td>88874</td>\n",
       "      <td>I am a developer by profession</td>\n",
       "      <td>Yes</td>\n",
       "      <td>Once a month or more often</td>\n",
       "      <td>OSS is, on average, of LOWER quality than prop...</td>\n",
       "      <td>Employed full-time</td>\n",
       "      <td>United States</td>\n",
       "      <td>No</td>\n",
       "      <td>Bachelor’s degree (BA, BS, B.Eng., etc.)</td>\n",
       "      <td>A social science (ex. anthropology, psychology...</td>\n",
       "      <td>...</td>\n",
       "      <td>Just as welcome now as I felt last year</td>\n",
       "      <td>NaN</td>\n",
       "      <td>26.0</td>\n",
       "      <td>Man</td>\n",
       "      <td>No</td>\n",
       "      <td>Straight / Heterosexual</td>\n",
       "      <td>White or of European descent</td>\n",
       "      <td>No</td>\n",
       "      <td>Appropriate in length</td>\n",
       "      <td>Easy</td>\n",
       "    </tr>\n",
       "    <tr>\n",
       "      <th>88323</th>\n",
       "      <td>88876</td>\n",
       "      <td>I am a developer by profession</td>\n",
       "      <td>Yes</td>\n",
       "      <td>Never</td>\n",
       "      <td>OSS is, on average, of HIGHER quality than pro...</td>\n",
       "      <td>Employed full-time</td>\n",
       "      <td>United States</td>\n",
       "      <td>No</td>\n",
       "      <td>Bachelor’s degree (BA, BS, B.Eng., etc.)</td>\n",
       "      <td>Computer science, computer engineering, or sof...</td>\n",
       "      <td>...</td>\n",
       "      <td>A lot less welcome now than last year</td>\n",
       "      <td>NaN</td>\n",
       "      <td>23.0</td>\n",
       "      <td>Man</td>\n",
       "      <td>No</td>\n",
       "      <td>Straight / Heterosexual</td>\n",
       "      <td>White or of European descent</td>\n",
       "      <td>No</td>\n",
       "      <td>Appropriate in length</td>\n",
       "      <td>Easy</td>\n",
       "    </tr>\n",
       "    <tr>\n",
       "      <th>88324</th>\n",
       "      <td>88877</td>\n",
       "      <td>I am a developer by profession</td>\n",
       "      <td>Yes</td>\n",
       "      <td>Less than once per year</td>\n",
       "      <td>OSS is, on average, of HIGHER quality than pro...</td>\n",
       "      <td>Employed full-time</td>\n",
       "      <td>United States</td>\n",
       "      <td>No</td>\n",
       "      <td>Bachelor’s degree (BA, BS, B.Eng., etc.)</td>\n",
       "      <td>Computer science, computer engineering, or sof...</td>\n",
       "      <td>...</td>\n",
       "      <td>Somewhat more welcome now than last year</td>\n",
       "      <td>Tech articles written by other developers;Cour...</td>\n",
       "      <td>48.0</td>\n",
       "      <td>Man</td>\n",
       "      <td>No</td>\n",
       "      <td>Straight / Heterosexual</td>\n",
       "      <td>South Asian</td>\n",
       "      <td>Yes</td>\n",
       "      <td>Too long</td>\n",
       "      <td>Neither easy nor difficult</td>\n",
       "    </tr>\n",
       "    <tr>\n",
       "      <th>88325</th>\n",
       "      <td>88878</td>\n",
       "      <td>I am a developer by profession</td>\n",
       "      <td>Yes</td>\n",
       "      <td>Less than once per year</td>\n",
       "      <td>The quality of OSS and closed source software ...</td>\n",
       "      <td>Employed full-time</td>\n",
       "      <td>United States</td>\n",
       "      <td>No</td>\n",
       "      <td>Bachelor’s degree (BA, BS, B.Eng., etc.)</td>\n",
       "      <td>Computer science, computer engineering, or sof...</td>\n",
       "      <td>...</td>\n",
       "      <td>Just as welcome now as I felt last year</td>\n",
       "      <td>Tech articles written by other developers;Indu...</td>\n",
       "      <td>26.0</td>\n",
       "      <td>Man</td>\n",
       "      <td>No</td>\n",
       "      <td>Straight / Heterosexual</td>\n",
       "      <td>South Asian</td>\n",
       "      <td>No</td>\n",
       "      <td>Appropriate in length</td>\n",
       "      <td>Easy</td>\n",
       "    </tr>\n",
       "  </tbody>\n",
       "</table>\n",
       "<p>16100 rows × 85 columns</p>\n",
       "</div>"
      ],
      "text/plain": [
       "       respondent                      mainbranch hobbyist  \\\n",
       "3               4  I am a developer by profession       No   \n",
       "12             13  I am a developer by profession      Yes   \n",
       "21             22  I am a developer by profession      Yes   \n",
       "22             23  I am a developer by profession      Yes   \n",
       "25             26  I am a developer by profession      Yes   \n",
       "...           ...                             ...      ...   \n",
       "88312       88865  I am a developer by profession       No   \n",
       "88321       88874  I am a developer by profession      Yes   \n",
       "88323       88876  I am a developer by profession      Yes   \n",
       "88324       88877  I am a developer by profession      Yes   \n",
       "88325       88878  I am a developer by profession      Yes   \n",
       "\n",
       "                                             opensourcer  \\\n",
       "3                                                  Never   \n",
       "12     Less than once a month but more than once per ...   \n",
       "21                               Less than once per year   \n",
       "22                               Less than once per year   \n",
       "25                               Less than once per year   \n",
       "...                                                  ...   \n",
       "88312  Less than once a month but more than once per ...   \n",
       "88321                         Once a month or more often   \n",
       "88323                                              Never   \n",
       "88324                            Less than once per year   \n",
       "88325                            Less than once per year   \n",
       "\n",
       "                                              opensource          employment  \\\n",
       "3      The quality of OSS and closed source software ...  Employed full-time   \n",
       "12     OSS is, on average, of HIGHER quality than pro...  Employed full-time   \n",
       "21     OSS is, on average, of HIGHER quality than pro...  Employed full-time   \n",
       "22     The quality of OSS and closed source software ...  Employed full-time   \n",
       "25     The quality of OSS and closed source software ...  Employed full-time   \n",
       "...                                                  ...                 ...   \n",
       "88312  The quality of OSS and closed source software ...  Employed full-time   \n",
       "88321  OSS is, on average, of LOWER quality than prop...  Employed full-time   \n",
       "88323  OSS is, on average, of HIGHER quality than pro...  Employed full-time   \n",
       "88324  OSS is, on average, of HIGHER quality than pro...  Employed full-time   \n",
       "88325  The quality of OSS and closed source software ...  Employed full-time   \n",
       "\n",
       "             country student  \\\n",
       "3      United States      No   \n",
       "12     United States      No   \n",
       "21     United States      No   \n",
       "22     United States      No   \n",
       "25     United States      No   \n",
       "...              ...     ...   \n",
       "88312  United States      No   \n",
       "88321  United States      No   \n",
       "88323  United States      No   \n",
       "88324  United States      No   \n",
       "88325  United States      No   \n",
       "\n",
       "                                                 edlevel  \\\n",
       "3               Bachelor’s degree (BA, BS, B.Eng., etc.)   \n",
       "12           Master’s degree (MA, MS, M.Eng., MBA, etc.)   \n",
       "21     Some college/university study without earning ...   \n",
       "22              Bachelor’s degree (BA, BS, B.Eng., etc.)   \n",
       "25     Some college/university study without earning ...   \n",
       "...                                                  ...   \n",
       "88312           Bachelor’s degree (BA, BS, B.Eng., etc.)   \n",
       "88321           Bachelor’s degree (BA, BS, B.Eng., etc.)   \n",
       "88323           Bachelor’s degree (BA, BS, B.Eng., etc.)   \n",
       "88324           Bachelor’s degree (BA, BS, B.Eng., etc.)   \n",
       "88325           Bachelor’s degree (BA, BS, B.Eng., etc.)   \n",
       "\n",
       "                                          undergradmajor  ...  \\\n",
       "3      Computer science, computer engineering, or sof...  ...   \n",
       "12     Computer science, computer engineering, or sof...  ...   \n",
       "21                                                   NaN  ...   \n",
       "22     Information systems, information technology, o...  ...   \n",
       "25     Computer science, computer engineering, or sof...  ...   \n",
       "...                                                  ...  ...   \n",
       "88312  A social science (ex. anthropology, psychology...  ...   \n",
       "88321  A social science (ex. anthropology, psychology...  ...   \n",
       "88323  Computer science, computer engineering, or sof...  ...   \n",
       "88324  Computer science, computer engineering, or sof...  ...   \n",
       "88325  Computer science, computer engineering, or sof...  ...   \n",
       "\n",
       "                                  welcomechange  \\\n",
       "3       Just as welcome now as I felt last year   \n",
       "12     Somewhat more welcome now than last year   \n",
       "21      Just as welcome now as I felt last year   \n",
       "22      Just as welcome now as I felt last year   \n",
       "25      Just as welcome now as I felt last year   \n",
       "...                                         ...   \n",
       "88312   Just as welcome now as I felt last year   \n",
       "88321   Just as welcome now as I felt last year   \n",
       "88323     A lot less welcome now than last year   \n",
       "88324  Somewhat more welcome now than last year   \n",
       "88325   Just as welcome now as I felt last year   \n",
       "\n",
       "                                            sonewcontent   age gender trans  \\\n",
       "3      Tech articles written by other developers;Indu...  22.0    Man    No   \n",
       "12     Tech articles written by other developers;Cour...  28.0    Man    No   \n",
       "21     Tech articles written by other developers;Indu...  47.0    Man    No   \n",
       "22     Tech articles written by other developers;Tech...  22.0    Man    No   \n",
       "25                                                   NaN  34.0    Man    No   \n",
       "...                                                  ...   ...    ...   ...   \n",
       "88312                                                NaN  36.0    Man    No   \n",
       "88321                                                NaN  26.0    Man    No   \n",
       "88323                                                NaN  23.0    Man    No   \n",
       "88324  Tech articles written by other developers;Cour...  48.0    Man    No   \n",
       "88325  Tech articles written by other developers;Indu...  26.0    Man    No   \n",
       "\n",
       "                     sexuality                     ethnicity dependents  \\\n",
       "3      Straight / Heterosexual  White or of European descent         No   \n",
       "12     Straight / Heterosexual  White or of European descent        Yes   \n",
       "21     Straight / Heterosexual  White or of European descent        Yes   \n",
       "22     Straight / Heterosexual   Black or of African descent         No   \n",
       "25              Gay or Lesbian                           NaN         No   \n",
       "...                        ...                           ...        ...   \n",
       "88312           Gay or Lesbian  White or of European descent         No   \n",
       "88321  Straight / Heterosexual  White or of European descent         No   \n",
       "88323  Straight / Heterosexual  White or of European descent         No   \n",
       "88324  Straight / Heterosexual                   South Asian        Yes   \n",
       "88325  Straight / Heterosexual                   South Asian         No   \n",
       "\n",
       "                surveylength                  surveyease  \n",
       "3      Appropriate in length                        Easy  \n",
       "12     Appropriate in length                        Easy  \n",
       "21     Appropriate in length                        Easy  \n",
       "22     Appropriate in length                        Easy  \n",
       "25     Appropriate in length                        Easy  \n",
       "...                      ...                         ...  \n",
       "88312  Appropriate in length                        Easy  \n",
       "88321  Appropriate in length                        Easy  \n",
       "88323  Appropriate in length                        Easy  \n",
       "88324               Too long  Neither easy nor difficult  \n",
       "88325  Appropriate in length                        Easy  \n",
       "\n",
       "[16100 rows x 85 columns]"
      ]
     },
     "execution_count": 410,
     "metadata": {},
     "output_type": "execute_result"
    }
   ],
   "source": [
    "profession_education_data"
   ]
  },
  {
   "cell_type": "code",
   "execution_count": 398,
   "metadata": {},
   "outputs": [],
   "source": [
    "def convert_language_attributes(df_arr):\n",
    "    \"\"\"\n",
    "    convert the column names of some attributes to maintain the consistency\n",
    "    \"\"\"\n",
    "    for i in df_arr:\n",
    "        attributes = i.columns\n",
    "        if 'haveworkedlanguage' in attributes:\n",
    "            i.rename(columns={\"haveworkedlanguage\": \"languageworkedwith\"},inplace=True)\n",
    "        if 'languagehaveworkedwith' in attributes:\n",
    "            i.rename(columns={\"languagehaveworkedwith\": \"languageworkedwith\"},inplace=True)\n",
    "        if 'wantworklanguage' in attributes:\n",
    "            i.rename(columns={\"wantworklanguage\": \"languagedesirenextyear\"},inplace=True)\n",
    "        if 'languagewanttoworkwith' in attributes:\n",
    "            i.rename(columns={\"languagewanttoworkwith\": \"languagedesirenextyear\"},inplace=True)\n",
    "\n",
    "    return df_arr"
   ]
  },
  {
   "cell_type": "code",
   "execution_count": 411,
   "metadata": {},
   "outputs": [],
   "source": [
    "language_data = convert_language_attributes(profession_education_data)"
   ]
  },
  {
   "cell_type": "code",
   "execution_count": 412,
   "metadata": {},
   "outputs": [
    {
     "data": {
      "text/plain": [
       "{2017: ['languageworkedwith', 'languagedesirenextyear'],\n",
       " 2018: ['languagedesirenextyear', 'languageworkedwith'],\n",
       " 2019: ['languageworkedwith', 'languagedesirenextyear']}"
      ]
     },
     "execution_count": 412,
     "metadata": {},
     "output_type": "execute_result"
    }
   ],
   "source": [
    "# look at the languae related attributes\n",
    "check_related_columns(b, ['language'])"
   ]
  },
  {
   "cell_type": "code",
   "execution_count": 502,
   "metadata": {},
   "outputs": [
    {
     "name": "stdout",
     "output_type": "stream",
     "text": [
      "Year 2019\n",
      "7646\n",
      "C#;HTML/CSS;JavaScript;SQL                                                                             0.022634\n",
      "C#;HTML/CSS;JavaScript;SQL;TypeScript                                                                  0.016158\n",
      "HTML/CSS;JavaScript                                                                                    0.012756\n",
      "HTML/CSS;JavaScript;PHP;SQL                                                                            0.011186\n",
      "Bash/Shell/PowerShell;C#;HTML/CSS;JavaScript;SQL;TypeScript                                            0.011121\n",
      "                                                                                                         ...   \n",
      "Assembly;Bash/Shell/PowerShell;C++;C#;F#;HTML/CSS;Java;JavaScript;Kotlin;PHP;Python;R;Ruby;Rust;SQL    0.000065\n",
      "Bash/Shell/PowerShell;C++;Go;Java;Python;SQL;Other(s):                                                 0.000065\n",
      "Bash/Shell/PowerShell;C++;C#;HTML/CSS;Java;JavaScript;Python;Ruby;SQL;TypeScript                       0.000065\n",
      "Bash/Shell/PowerShell;C;C++;C#;HTML/CSS;Java;JavaScript;PHP;SQL;TypeScript                             0.000065\n",
      "Assembly;Bash/Shell/PowerShell;C;C++;Clojure;Python;Ruby;Rust                                          0.000065\n",
      "Name: languageworkedwith, Length: 5985, dtype: float64\n",
      "--------------------------------------------------------------------------------------------\n",
      "Year 2020\n",
      "4101\n",
      "C#;HTML/CSS;JavaScript;SQL                                                      0.023497\n",
      "C#;HTML/CSS;JavaScript;SQL;TypeScript                                           0.019641\n",
      "HTML/CSS;JavaScript;TypeScript                                                  0.012652\n",
      "Bash/Shell/PowerShell;C#;HTML/CSS;JavaScript;SQL;TypeScript                     0.012411\n",
      "HTML/CSS;JavaScript;PHP;SQL                                                     0.011086\n",
      "                                                                                  ...   \n",
      "Bash/Shell/PowerShell;Haskell;HTML/CSS;Java;JavaScript;PHP;Python;TypeScript    0.000120\n",
      "Assembly;C;C#;C++;Perl;Python                                                   0.000120\n",
      "Java;Kotlin;R                                                                   0.000120\n",
      "Assembly;Bash/Shell/PowerShell;C#;HTML/CSS;JavaScript;R;SQL;TypeScript;VBA      0.000120\n",
      "Java;JavaScript;Perl;Python;Scala;TypeScript                                    0.000120\n",
      "Name: languageworkedwith, Length: 3529, dtype: float64\n",
      "--------------------------------------------------------------------------------------------\n",
      "Year 2021\n",
      "5633\n",
      "C#;HTML/CSS;JavaScript;SQL                                                              0.011682\n",
      "HTML/CSS;JavaScript;Node.js;TypeScript                                                  0.008275\n",
      "Python                                                                                  0.007399\n",
      "C#                                                                                      0.006815\n",
      "C#;HTML/CSS;JavaScript;SQL;TypeScript                                                   0.006425\n",
      "                                                                                          ...   \n",
      "Bash/Shell;C#;Groovy;JavaScript;Node.js;TypeScript                                      0.000097\n",
      "C#;Go;Java;JavaScript;SQL;TypeScript                                                    0.000097\n",
      "Bash/Shell;C;Go;HTML/CSS;JavaScript;Node.js;Objective-C;Python;Rust;Swift;TypeScript    0.000097\n",
      "Bash/Shell;C++;HTML/CSS;Java;JavaScript;Objective-C;PHP;PowerShell;SQL;Swift;VBA        0.000097\n",
      "Bash/Shell;C++;HTML/CSS;Node.js;Python;TypeScript                                       0.000097\n",
      "Name: languageworkedwith, Length: 5746, dtype: float64\n",
      "--------------------------------------------------------------------------------------------\n"
     ]
    }
   ],
   "source": [
    "year = 2019\n",
    "for i in language_data:\n",
    "    print('Year', year)\n",
    "    print(len(i.languagedesirenextyear.unique()))\n",
    "    print(i.languageworkedwith.value_counts(normalize=True))\n",
    "    print('--------------------------------------------------------------------------------------------')\n",
    "    year += 1"
   ]
  },
  {
   "cell_type": "code",
   "execution_count": 505,
   "metadata": {},
   "outputs": [],
   "source": [
    "def counter2percentile(arr):\n",
    "    \"\"\"\n",
    "    Keep four decimal places\n",
    "    \n",
    "    input:\n",
    "        arr: a list sotring numbers\n",
    "    \n",
    "    output:\n",
    "        res: a list sotring numbers with only 4 decimal places\n",
    "    \n",
    "    \"\"\"\n",
    "    total = sum(list(dict(arr).values()))\n",
    "    res = {}\n",
    "    i = 0\n",
    "    for k,v in dict(arr).items():\n",
    "        res[k] = int(v/total * 10000) / 10000\n",
    "        i += 1\n",
    "        if i == 10:\n",
    "            break\n",
    "    return res\n",
    "        \n",
    "        \n",
    "def LanguageCounter(df_arr, attribute, year):\n",
    "    \"\"\"\n",
    "    get the total number of the languages be voted.\n",
    "    1) extract each language from the raw data combined with ';'\n",
    "    2) calculate its percentage\n",
    "    3) rank and store them in a dictionary - key: int - year, values: list - percentages\n",
    "\n",
    "    input:\n",
    "            df_arr: pandas dataframe\n",
    "            attribute: the attribute we want to explore. we will look at the language situation later\n",
    "            year: the first year of the years that we want to explore\n",
    "    output:\n",
    "            res: dictionary\n",
    "            \n",
    "            format:\n",
    "            {\n",
    "            year_1:\n",
    "                {\n",
    "                    language_A: percentage,\n",
    "                    language_B: percentage...\n",
    "                },\n",
    "            year_2:\n",
    "                {\n",
    "                    language_A: percentage,\n",
    "                    language_B: percentage...\n",
    "                },\n",
    "            }\n",
    "    \"\"\"\n",
    "    res = {}\n",
    "    year = year\n",
    "    for i in df_arr:\n",
    "        i.dropna(axis='index', how='all', subset=[attribute], inplace=True)\n",
    "        # remove na\n",
    "        language = [g for col in i[attribute] for g in col.split(';')]\n",
    "        cur_counter = Counter(language).most_common()\n",
    "        cur_counter = counter2percentile(cur_counter)\n",
    "        res[year] = cur_counter\n",
    "        year += 1\n",
    "    return res"
   ]
  },
  {
   "cell_type": "code",
   "execution_count": 506,
   "metadata": {},
   "outputs": [],
   "source": [
    "worked_language_counter_dict = LanguageCounter(language_data, 'languageworkedwith', 2019)"
   ]
  },
  {
   "cell_type": "code",
   "execution_count": 508,
   "metadata": {},
   "outputs": [],
   "source": [
    "tolearn_language_counter_dict = LanguageCounter(language_data, 'languagedesirenextyear', 2019)"
   ]
  },
  {
   "cell_type": "code",
   "execution_count": 510,
   "metadata": {},
   "outputs": [],
   "source": [
    "def build_language_ranking_table(language_statistic_dict):\n",
    "    \"\"\"\n",
    "    build a table that sotres the language popularity\n",
    "\n",
    "    input:\n",
    "            language_statistic_dict: a dictionary that store the ranks of the languages\n",
    "\n",
    "            format:\n",
    "            {\n",
    "            year_1:\n",
    "                {\n",
    "                    language_A: percentage,\n",
    "                    language_B: percentage...\n",
    "                },\n",
    "            year_2:\n",
    "                {\n",
    "                    language_A: percentage,\n",
    "                    language_B: percentage...\n",
    "                },\n",
    "            }\n",
    "    output:\n",
    "            a new dataframe\n",
    "    \"\"\"\n",
    "    res = pd.DataFrame()\n",
    "    for i in language_statistic_dict:\n",
    "        res[i] = list(language_statistic_dict[i].keys())\n",
    "    res.reset_index(inplace=True)\n",
    "    res.rename(columns={'index':'rank'},inplace=True)\n",
    "    res['rank'] += 1\n",
    "    return res"
   ]
  },
  {
   "cell_type": "markdown",
   "metadata": {},
   "source": [
    "# The top 10 languages that profession developers have worked with"
   ]
  },
  {
   "cell_type": "code",
   "execution_count": 517,
   "metadata": {},
   "outputs": [
    {
     "data": {
      "text/html": [
       "<div>\n",
       "<style scoped>\n",
       "    .dataframe tbody tr th:only-of-type {\n",
       "        vertical-align: middle;\n",
       "    }\n",
       "\n",
       "    .dataframe tbody tr th {\n",
       "        vertical-align: top;\n",
       "    }\n",
       "\n",
       "    .dataframe thead th {\n",
       "        text-align: right;\n",
       "    }\n",
       "</style>\n",
       "<table border=\"1\" class=\"dataframe\">\n",
       "  <thead>\n",
       "    <tr style=\"text-align: right;\">\n",
       "      <th></th>\n",
       "      <th>rank</th>\n",
       "      <th>2019</th>\n",
       "      <th>2020</th>\n",
       "      <th>2021</th>\n",
       "    </tr>\n",
       "  </thead>\n",
       "  <tbody>\n",
       "    <tr>\n",
       "      <th>0</th>\n",
       "      <td>1</td>\n",
       "      <td>JavaScript</td>\n",
       "      <td>JavaScript</td>\n",
       "      <td>JavaScript</td>\n",
       "    </tr>\n",
       "    <tr>\n",
       "      <th>1</th>\n",
       "      <td>2</td>\n",
       "      <td>HTML/CSS</td>\n",
       "      <td>HTML/CSS</td>\n",
       "      <td>HTML/CSS</td>\n",
       "    </tr>\n",
       "    <tr>\n",
       "      <th>2</th>\n",
       "      <td>3</td>\n",
       "      <td>SQL</td>\n",
       "      <td>SQL</td>\n",
       "      <td>SQL</td>\n",
       "    </tr>\n",
       "    <tr>\n",
       "      <th>3</th>\n",
       "      <td>4</td>\n",
       "      <td>Bash/Shell/PowerShell</td>\n",
       "      <td>Python</td>\n",
       "      <td>Python</td>\n",
       "    </tr>\n",
       "    <tr>\n",
       "      <th>4</th>\n",
       "      <td>5</td>\n",
       "      <td>Python</td>\n",
       "      <td>Bash/Shell/PowerShell</td>\n",
       "      <td>Bash/Shell</td>\n",
       "    </tr>\n",
       "    <tr>\n",
       "      <th>5</th>\n",
       "      <td>6</td>\n",
       "      <td>C#</td>\n",
       "      <td>C#</td>\n",
       "      <td>Node.js</td>\n",
       "    </tr>\n",
       "    <tr>\n",
       "      <th>6</th>\n",
       "      <td>7</td>\n",
       "      <td>Java</td>\n",
       "      <td>Java</td>\n",
       "      <td>TypeScript</td>\n",
       "    </tr>\n",
       "    <tr>\n",
       "      <th>7</th>\n",
       "      <td>8</td>\n",
       "      <td>TypeScript</td>\n",
       "      <td>TypeScript</td>\n",
       "      <td>C#</td>\n",
       "    </tr>\n",
       "    <tr>\n",
       "      <th>8</th>\n",
       "      <td>9</td>\n",
       "      <td>C++</td>\n",
       "      <td>C++</td>\n",
       "      <td>Java</td>\n",
       "    </tr>\n",
       "    <tr>\n",
       "      <th>9</th>\n",
       "      <td>10</td>\n",
       "      <td>PHP</td>\n",
       "      <td>PHP</td>\n",
       "      <td>C++</td>\n",
       "    </tr>\n",
       "  </tbody>\n",
       "</table>\n",
       "</div>"
      ],
      "text/plain": [
       "   rank                   2019                   2020        2021\n",
       "0     1             JavaScript             JavaScript  JavaScript\n",
       "1     2               HTML/CSS               HTML/CSS    HTML/CSS\n",
       "2     3                    SQL                    SQL         SQL\n",
       "3     4  Bash/Shell/PowerShell                 Python      Python\n",
       "4     5                 Python  Bash/Shell/PowerShell  Bash/Shell\n",
       "5     6                     C#                     C#     Node.js\n",
       "6     7                   Java                   Java  TypeScript\n",
       "7     8             TypeScript             TypeScript          C#\n",
       "8     9                    C++                    C++        Java\n",
       "9    10                    PHP                    PHP         C++"
      ]
     },
     "execution_count": 517,
     "metadata": {},
     "output_type": "execute_result"
    }
   ],
   "source": [
    "build_language_ranking_table(worked_language_counter_dict)"
   ]
  },
  {
   "cell_type": "markdown",
   "metadata": {},
   "source": [
    "# The top 10 languages that profession developers want to learn"
   ]
  },
  {
   "cell_type": "code",
   "execution_count": 518,
   "metadata": {},
   "outputs": [
    {
     "data": {
      "text/html": [
       "<div>\n",
       "<style scoped>\n",
       "    .dataframe tbody tr th:only-of-type {\n",
       "        vertical-align: middle;\n",
       "    }\n",
       "\n",
       "    .dataframe tbody tr th {\n",
       "        vertical-align: top;\n",
       "    }\n",
       "\n",
       "    .dataframe thead th {\n",
       "        text-align: right;\n",
       "    }\n",
       "</style>\n",
       "<table border=\"1\" class=\"dataframe\">\n",
       "  <thead>\n",
       "    <tr style=\"text-align: right;\">\n",
       "      <th></th>\n",
       "      <th>rank</th>\n",
       "      <th>2019</th>\n",
       "      <th>2020</th>\n",
       "      <th>2021</th>\n",
       "    </tr>\n",
       "  </thead>\n",
       "  <tbody>\n",
       "    <tr>\n",
       "      <th>0</th>\n",
       "      <td>1</td>\n",
       "      <td>JavaScript</td>\n",
       "      <td>JavaScript</td>\n",
       "      <td>JavaScript</td>\n",
       "    </tr>\n",
       "    <tr>\n",
       "      <th>1</th>\n",
       "      <td>2</td>\n",
       "      <td>Python</td>\n",
       "      <td>Python</td>\n",
       "      <td>Python</td>\n",
       "    </tr>\n",
       "    <tr>\n",
       "      <th>2</th>\n",
       "      <td>3</td>\n",
       "      <td>HTML/CSS</td>\n",
       "      <td>SQL</td>\n",
       "      <td>TypeScript</td>\n",
       "    </tr>\n",
       "    <tr>\n",
       "      <th>3</th>\n",
       "      <td>4</td>\n",
       "      <td>SQL</td>\n",
       "      <td>HTML/CSS</td>\n",
       "      <td>HTML/CSS</td>\n",
       "    </tr>\n",
       "    <tr>\n",
       "      <th>4</th>\n",
       "      <td>5</td>\n",
       "      <td>TypeScript</td>\n",
       "      <td>TypeScript</td>\n",
       "      <td>SQL</td>\n",
       "    </tr>\n",
       "    <tr>\n",
       "      <th>5</th>\n",
       "      <td>6</td>\n",
       "      <td>Bash/Shell/PowerShell</td>\n",
       "      <td>C#</td>\n",
       "      <td>Node.js</td>\n",
       "    </tr>\n",
       "    <tr>\n",
       "      <th>6</th>\n",
       "      <td>7</td>\n",
       "      <td>C#</td>\n",
       "      <td>Bash/Shell/PowerShell</td>\n",
       "      <td>Rust</td>\n",
       "    </tr>\n",
       "    <tr>\n",
       "      <th>7</th>\n",
       "      <td>8</td>\n",
       "      <td>Go</td>\n",
       "      <td>Rust</td>\n",
       "      <td>C#</td>\n",
       "    </tr>\n",
       "    <tr>\n",
       "      <th>8</th>\n",
       "      <td>9</td>\n",
       "      <td>Java</td>\n",
       "      <td>Go</td>\n",
       "      <td>Bash/Shell</td>\n",
       "    </tr>\n",
       "    <tr>\n",
       "      <th>9</th>\n",
       "      <td>10</td>\n",
       "      <td>C++</td>\n",
       "      <td>Java</td>\n",
       "      <td>Go</td>\n",
       "    </tr>\n",
       "  </tbody>\n",
       "</table>\n",
       "</div>"
      ],
      "text/plain": [
       "   rank                   2019                   2020        2021\n",
       "0     1             JavaScript             JavaScript  JavaScript\n",
       "1     2                 Python                 Python      Python\n",
       "2     3               HTML/CSS                    SQL  TypeScript\n",
       "3     4                    SQL               HTML/CSS    HTML/CSS\n",
       "4     5             TypeScript             TypeScript         SQL\n",
       "5     6  Bash/Shell/PowerShell                     C#     Node.js\n",
       "6     7                     C#  Bash/Shell/PowerShell        Rust\n",
       "7     8                     Go                   Rust          C#\n",
       "8     9                   Java                     Go  Bash/Shell\n",
       "9    10                    C++                   Java          Go"
      ]
     },
     "execution_count": 518,
     "metadata": {},
     "output_type": "execute_result"
    }
   ],
   "source": [
    "build_language_ranking_table(tolearn_language_counter_dict)"
   ]
  },
  {
   "cell_type": "markdown",
   "metadata": {},
   "source": [
    "### Findings:\n",
    "- We can see that the front-end languages JavaScript and HTML/CSS are the languages that most developers want to learn.\n",
    "\n",
    "- These two languages are also the languages that developers have worked with.\n",
    "\n",
    "- Typescripe - another frontend language is also popular in the recent 3 years either in people's experience or in desire to learn table. node.js appeared in No.5 and No.6 in the two tables above in 2021.\n",
    "\n",
    "- We may safely say that to have some knowledge on these languages is a preference when seeking a job.\n"
   ]
  },
  {
   "cell_type": "markdown",
   "metadata": {},
   "source": [
    "- Although many developers have used C++, it was not in the language want to learn table in 2020 and 2021."
   ]
  },
  {
   "cell_type": "markdown",
   "metadata": {},
   "source": [
    "# Session 6:\n",
    "# Conclusion:"
   ]
  },
  {
   "cell_type": "markdown",
   "metadata": {},
   "source": [
    "- Most professional developers have high education experience.\n",
    "- A rising cohort of US coders under the age of 18.\n",
    "- The popularity of C++ decreased, and Frontend tech stack is hot. This trend seems to be lasting."
   ]
  }
 ],
 "metadata": {
  "kernelspec": {
   "display_name": "Python 3",
   "language": "python",
   "name": "python3"
  },
  "language_info": {
   "codemirror_mode": {
    "name": "ipython",
    "version": 3
   },
   "file_extension": ".py",
   "mimetype": "text/x-python",
   "name": "python",
   "nbconvert_exporter": "python",
   "pygments_lexer": "ipython3",
   "version": "3.8.5"
  }
 },
 "nbformat": 4,
 "nbformat_minor": 4
}