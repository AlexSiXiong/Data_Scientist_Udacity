{
 "cells": [
  {
   "cell_type": "markdown",
   "metadata": {},
   "source": [
    "# Project Overview\n",
    "\n",
    "Sparkify is a music streaming service provider. Users can listen to music for free or to subscribe. Users can upgrade, downgrade, or cancel their subscription. My task is to predict the user who is going to leave in order to offer him a discount before canceling the subscription.\n",
    "\n",
    "To find out the user preference is vital to the business growth. At the same time, we also want to find out the user who choose to cancel the subsription. We define those users as `churn users`.\n",
    "\n",
    "In this project, the goal is to predict the churn users using machine learning technologies and to do a analysis on users behaviors."
   ]
  },
  {
   "cell_type": "markdown",
   "metadata": {},
   "source": [
    "#### Other Information:\n",
    "\n",
    "1. This perject contains a tiny subset (128MB) of the full dataset available (12GB).\n",
    "2. Tech Stack: python, pyspark, pandas, sql, sklearn"
   ]
  },
  {
   "cell_type": "markdown",
   "metadata": {},
   "source": [
    "# Problem statement"
   ]
  },
  {
   "cell_type": "markdown",
   "metadata": {},
   "source": [
    "Sparkify recorded key user behaviors while user interacte in the platform. To retain users and improve the service, we hope to predict user who will 'churn'. We define that user who unsubscribe the service as churned users."
   ]
  },
  {
   "cell_type": "markdown",
   "metadata": {},
   "source": [
    "`churn users` will be labeled as `1`, and other users are labeled as `0`. Machine learning technology is used in this project to predict the `churn users`."
   ]
  },
  {
   "cell_type": "markdown",
   "metadata": {},
   "source": [
    "# Project Structure"
   ]
  },
  {
   "cell_type": "markdown",
   "metadata": {},
   "source": [
    "#### 1. Data Cleaning\n",
    "#### 2. Exploratory Data Analysis\n",
    "#### 3. Feature Engineering\n",
    "#### 4. User Behavior and Churned Users Analysis\n",
    "#### 5. Evaluation Metrics\n",
    "#### 6. Modeling\n",
    "#### 7. Evaluation\n",
    "#### 8. Conclusion"
   ]
  },
  {
   "cell_type": "code",
   "execution_count": 1,
   "metadata": {},
   "outputs": [
    {
     "name": "stdout",
     "output_type": "stream",
     "text": [
      "Collecting lightgbm\n",
      "\u001b[?25l  Downloading https://files.pythonhosted.org/packages/a1/00/84c572ff02b27dd828d6095158f4bda576c124c4c863be7bf14f58101e53/lightgbm-3.3.2-py3-none-manylinux1_x86_64.whl (2.0MB)\n",
      "\u001b[K    100% |████████████████████████████████| 2.0MB 11.9MB/s ta 0:00:01\n",
      "\u001b[?25hRequirement already satisfied: numpy in /opt/conda/lib/python3.6/site-packages (from lightgbm) (1.12.1)\n",
      "Requirement already satisfied: wheel in /opt/conda/lib/python3.6/site-packages (from lightgbm) (0.30.0)\n",
      "Requirement already satisfied: scikit-learn!=0.22.0 in /opt/conda/lib/python3.6/site-packages (from lightgbm) (0.19.1)\n",
      "Requirement already satisfied: scipy in /opt/conda/lib/python3.6/site-packages (from lightgbm) (1.2.1)\n",
      "Installing collected packages: lightgbm\n",
      "Successfully installed lightgbm-3.3.2\n"
     ]
    }
   ],
   "source": [
    "!pip install lightgbm"
   ]
  },
  {
   "cell_type": "code",
   "execution_count": 2,
   "metadata": {},
   "outputs": [],
   "source": [
    "# import libraries\n",
    "from pyspark.sql import SparkSession\n",
    "from pyspark.sql.functions import isnan, count, when, col, desc, udf, col, sort_array, asc, avg, countDistinct,first, last\n",
    "from pyspark.sql.functions import sum as Fsum\n",
    "from pyspark.sql.window import Window\n",
    "from pyspark.sql.types import IntegerType, DateType,StringType ,DoubleType\n",
    "\n",
    "from pyspark.sql.functions import (\n",
    "    min as Fmin, max as Fmax, \n",
    "    sum as Fsum, round as Fround, \n",
    "    \n",
    "    col, lit, split,\n",
    "    first, last, \n",
    "    desc, asc,\n",
    "    avg,\n",
    "    count, countDistinct, approx_count_distinct,\n",
    "    when, \n",
    "    isnull, isnan,\n",
    "    from_unixtime, date_format, datediff,\n",
    "    dayofmonth, month, hour, to_date,\n",
    "    )\n",
    "\n",
    "from pyspark.ml import Pipeline\n",
    "from pyspark.ml.feature import MinMaxScaler\n",
    "from pyspark.ml.feature import VectorAssembler\n",
    "from pyspark.ml.classification import RandomForestClassifier\n",
    "from pyspark.ml.classification import GBTClassifier\n",
    "from pyspark.ml.classification import MultilayerPerceptronClassifier\n",
    "from pyspark.ml.evaluation import MulticlassClassificationEvaluator\n",
    "\n",
    "from sklearn.metrics import f1_score\n",
    "import re\n",
    "import copy\n",
    "import time\n",
    "import datetime\n",
    "import numpy as np\n",
    "import pandas as pd\n",
    "import seaborn as sns\n",
    "import matplotlib.pyplot as plt\n",
    "from statsmodels.stats.proportion import proportions_ztest\n",
    "\n",
    "import lightgbm as lgb\n",
    "from sklearn.model_selection import train_test_split\n",
    "import torch\n",
    "from sklearn.metrics import roc_auc_score\n",
    "from sklearn.metrics import confusion_matrix\n",
    "from sklearn.model_selection import StratifiedKFold\n",
    "\n",
    "from pyspark.ml.classification import (\n",
    "    LogisticRegression,\n",
    "    DecisionTreeClassifier,\n",
    "    RandomForestClassifier,\n",
    "    GBTClassifier,\n",
    "    MultilayerPerceptronClassifier,\n",
    "    LinearSVC,\n",
    "    NaiveBayes\n",
    ")\n",
    "\n",
    "from pyspark.ml.feature import VectorAssembler, Normalizer, StandardScaler, MinMaxScaler\n",
    "from pyspark.ml import Pipeline\n",
    "from pyspark.ml.tuning import CrossValidator, ParamGridBuilder\n",
    "from pyspark.ml.evaluation import MulticlassClassificationEvaluator, BinaryClassificationEvaluator\n",
    "\n",
    "%matplotlib inline\n",
    "from functools import reduce\n",
    "from datetime import datetime\n",
    "import pandas as pd\n",
    "import warnings\n",
    "\n",
    "warnings.filterwarnings(\"ignore\")"
   ]
  },
  {
   "cell_type": "code",
   "execution_count": null,
   "metadata": {},
   "outputs": [],
   "source": []
  },
  {
   "cell_type": "code",
   "execution_count": 3,
   "metadata": {},
   "outputs": [],
   "source": [
    "from pyspark.sql.functions import isnan, count, when, col, desc, udf, col, sort_array, asc, \\\n",
    "                                  avg, to_timestamp, from_unixtime, split, min, max, lit, mean\n",
    "from pyspark.sql.functions import to_date, year, month, dayofmonth, dayofweek, hour, date_format, substring\n",
    "from pyspark.sql.types import TimestampType"
   ]
  },
  {
   "cell_type": "code",
   "execution_count": 4,
   "metadata": {},
   "outputs": [],
   "source": [
    "# create a Spark session\n",
    "spark = SparkSession.builder.appName('Sparkify').getOrCreate()"
   ]
  },
  {
   "cell_type": "markdown",
   "metadata": {},
   "source": [
    "# Load Dataset"
   ]
  },
  {
   "cell_type": "code",
   "execution_count": 5,
   "metadata": {},
   "outputs": [],
   "source": [
    "df = spark.read.json(\"mini_sparkify_event_data.json\")"
   ]
  },
  {
   "cell_type": "code",
   "execution_count": 6,
   "metadata": {},
   "outputs": [
    {
     "name": "stdout",
     "output_type": "stream",
     "text": [
      "root\n",
      " |-- artist: string (nullable = true)\n",
      " |-- auth: string (nullable = true)\n",
      " |-- firstName: string (nullable = true)\n",
      " |-- gender: string (nullable = true)\n",
      " |-- itemInSession: long (nullable = true)\n",
      " |-- lastName: string (nullable = true)\n",
      " |-- length: double (nullable = true)\n",
      " |-- level: string (nullable = true)\n",
      " |-- location: string (nullable = true)\n",
      " |-- method: string (nullable = true)\n",
      " |-- page: string (nullable = true)\n",
      " |-- registration: long (nullable = true)\n",
      " |-- sessionId: long (nullable = true)\n",
      " |-- song: string (nullable = true)\n",
      " |-- status: long (nullable = true)\n",
      " |-- ts: long (nullable = true)\n",
      " |-- userAgent: string (nullable = true)\n",
      " |-- userId: string (nullable = true)\n",
      "\n"
     ]
    }
   ],
   "source": [
    "df.printSchema()"
   ]
  },
  {
   "cell_type": "code",
   "execution_count": 7,
   "metadata": {},
   "outputs": [
    {
     "data": {
      "text/plain": [
       "286500"
      ]
     },
     "execution_count": 7,
     "metadata": {},
     "output_type": "execute_result"
    }
   ],
   "source": [
    "df.count()"
   ]
  },
  {
   "cell_type": "markdown",
   "metadata": {},
   "source": [
    "# Data Cleaning"
   ]
  },
  {
   "cell_type": "markdown",
   "metadata": {},
   "source": [
    "- Verify and remove missing values\n",
    "- Conver time format\n",
    "- Remove irrelevant columns\n",
    "- Check duplicates\n"
   ]
  },
  {
   "cell_type": "markdown",
   "metadata": {},
   "source": [
    "### 1. remove missing values"
   ]
  },
  {
   "cell_type": "code",
   "execution_count": 8,
   "metadata": {},
   "outputs": [
    {
     "data": {
      "text/plain": [
       "286500"
      ]
     },
     "execution_count": 8,
     "metadata": {},
     "output_type": "execute_result"
    }
   ],
   "source": [
    "df.dropna(how = \"any\", subset = [\"userId\"]).count()"
   ]
  },
  {
   "cell_type": "markdown",
   "metadata": {},
   "source": [
    "Superfically, there not na in 'userId'. But after a closer look, I find that some 'userId' were filled in '' (empty string). So those rows should be remvoed."
   ]
  },
  {
   "cell_type": "code",
   "execution_count": 9,
   "metadata": {},
   "outputs": [],
   "source": [
    "df_cleaned = df.filter(df['userId']!='')"
   ]
  },
  {
   "cell_type": "markdown",
   "metadata": {},
   "source": [
    "### 2. Convert the time format"
   ]
  },
  {
   "cell_type": "code",
   "execution_count": 10,
   "metadata": {},
   "outputs": [],
   "source": [
    "df_cleaned = df_cleaned.withColumn('tsDate', (col('ts') / 1000.0).cast(TimestampType()))\n",
    "df_cleaned = df_cleaned.withColumn('date', to_date('tsDate'))\n",
    "df_cleaned = df_cleaned.withColumn('registrationtsDate', (col('registration') / 1000.0).cast(TimestampType()))\n",
    "df_cleaned = df_cleaned.withColumn('registration_date', to_date('registrationtsDate'))"
   ]
  },
  {
   "cell_type": "code",
   "execution_count": 11,
   "metadata": {},
   "outputs": [],
   "source": [
    "# this triggers bug\n",
    "# # Create a user defined function for formating the timestamp\n",
    "# convert_time = udf(lambda x: datetime.datetime.fromtimestamp(x / 1000.0).strftime(\"%Y-%m-%d %H:%M:%S\"))\n",
    "\n",
    "# #Apply the udf on the ts column\n",
    "# df_cleaned = df_cleaned.withColumn(\"time\", convert_time(df_cleaned.ts))"
   ]
  },
  {
   "cell_type": "markdown",
   "metadata": {},
   "source": [
    "### 3. remove irrelevant columns"
   ]
  },
  {
   "cell_type": "markdown",
   "metadata": {},
   "source": [
    "As I don't need 'firstName' and 'lastName' columns, they are removed."
   ]
  },
  {
   "cell_type": "code",
   "execution_count": 12,
   "metadata": {},
   "outputs": [],
   "source": [
    "df_cleaned = df_cleaned.drop(*['firstName', 'lastName'])"
   ]
  },
  {
   "cell_type": "markdown",
   "metadata": {},
   "source": [
    "### 4. check duplicates"
   ]
  },
  {
   "cell_type": "code",
   "execution_count": 13,
   "metadata": {},
   "outputs": [
    {
     "name": "stdout",
     "output_type": "stream",
     "text": [
      "Duplicate rows: 0\n"
     ]
    }
   ],
   "source": [
    "print(f'Duplicate rows: {df_cleaned.count() - df_cleaned.dropDuplicates().count()}')"
   ]
  },
  {
   "cell_type": "code",
   "execution_count": 14,
   "metadata": {},
   "outputs": [],
   "source": [
    "df_cleaned.createOrReplaceTempView(\"Sparkify_cleaned\")"
   ]
  },
  {
   "cell_type": "code",
   "execution_count": 15,
   "metadata": {},
   "outputs": [
    {
     "data": {
      "text/plain": [
       "Row(artist='Martha Tilston', auth='Logged In', gender='M', itemInSession=50, length=277.89016, level='paid', location='Bakersfield, CA', method='PUT', page='NextSong', registration=1538173362000, sessionId=29, song='Rockpools', status=200, ts=1538352117000, userAgent='Mozilla/5.0 (Windows NT 6.1; WOW64; rv:31.0) Gecko/20100101 Firefox/31.0', userId='30', tsDate=datetime.datetime(2018, 10, 1, 0, 1, 57), date=datetime.date(2018, 10, 1), registrationtsDate=datetime.datetime(2018, 9, 28, 22, 22, 42), registration_date=datetime.date(2018, 9, 28))"
      ]
     },
     "execution_count": 15,
     "metadata": {},
     "output_type": "execute_result"
    }
   ],
   "source": [
    "df_cleaned.head()"
   ]
  },
  {
   "cell_type": "markdown",
   "metadata": {},
   "source": [
    "# Exploratory Data Analysis\n",
    "\n",
    "### Define Churn\n",
    "A Column `Churn` is created to use as the label for model later. `Cancellation Confirmation` events is used to define the churn, which happen for both paid and free users.\n",
    "\n",
    "### Explore Data\n",
    "In this session, I perform some exploratory data analysis to observe the behavior for users who stayed vs users who churned."
   ]
  },
  {
   "cell_type": "markdown",
   "metadata": {},
   "source": [
    "- Time span\n",
    "- Gender, session, user number, web page interactions\n",
    "- Check suspicious activities (bot access)"
   ]
  },
  {
   "cell_type": "markdown",
   "metadata": {},
   "source": [
    "### The time frame of the users being analysed"
   ]
  },
  {
   "cell_type": "code",
   "execution_count": 16,
   "metadata": {},
   "outputs": [
    {
     "name": "stdout",
     "output_type": "stream",
     "text": [
      "+-------------------+-------------------+\n",
      "|              start|                end|\n",
      "+-------------------+-------------------+\n",
      "|2018-10-01 00:01:57|2018-12-03 01:11:16|\n",
      "+-------------------+-------------------+\n",
      "\n"
     ]
    }
   ],
   "source": [
    "spark.sql('''\n",
    "    select min(tsDate) start, max(tsDate) end\n",
    "    from Sparkify_cleaned\n",
    "''').show()"
   ]
  },
  {
   "cell_type": "markdown",
   "metadata": {},
   "source": [
    "### The category of genders"
   ]
  },
  {
   "cell_type": "code",
   "execution_count": 17,
   "metadata": {
    "scrolled": true
   },
   "outputs": [
    {
     "name": "stdout",
     "output_type": "stream",
     "text": [
      "+------+\n",
      "|gender|\n",
      "+------+\n",
      "|     F|\n",
      "|     M|\n",
      "+------+\n",
      "\n"
     ]
    }
   ],
   "source": [
    "spark.sql('''\n",
    "    SELECT DISTINCT(gender)\n",
    "    FROM Sparkify_cleaned\n",
    "''').show()"
   ]
  },
  {
   "cell_type": "markdown",
   "metadata": {},
   "source": [
    "### the number of unique users and sessions"
   ]
  },
  {
   "cell_type": "code",
   "execution_count": 18,
   "metadata": {},
   "outputs": [
    {
     "name": "stdout",
     "output_type": "stream",
     "text": [
      "+------------+\n",
      "|unique_users|\n",
      "+------------+\n",
      "|         225|\n",
      "+------------+\n",
      "\n"
     ]
    }
   ],
   "source": [
    "# check the number of unique users\n",
    "spark.sql('''\n",
    "    SELECT count(distinct userId) as unique_users\n",
    "    FROM Sparkify_cleaned\n",
    "''').show()"
   ]
  },
  {
   "cell_type": "code",
   "execution_count": 19,
   "metadata": {},
   "outputs": [
    {
     "name": "stdout",
     "output_type": "stream",
     "text": [
      "+---------------+\n",
      "|unique_sessions|\n",
      "+---------------+\n",
      "|           2312|\n",
      "+---------------+\n",
      "\n"
     ]
    }
   ],
   "source": [
    "# check the number of unique sessionId\n",
    "spark.sql('''\n",
    "    SELECT count(distinct sessionId) as unique_sessions\n",
    "    FROM Sparkify_cleaned\n",
    "''').show()"
   ]
  },
  {
   "cell_type": "markdown",
   "metadata": {},
   "source": [
    "### the distribution of male and female users"
   ]
  },
  {
   "cell_type": "code",
   "execution_count": 20,
   "metadata": {},
   "outputs": [
    {
     "name": "stdout",
     "output_type": "stream",
     "text": [
      "+------+-----------+\n",
      "|gender|user_counts|\n",
      "+------+-----------+\n",
      "|     M|        121|\n",
      "|     F|        104|\n",
      "+------+-----------+\n",
      "\n"
     ]
    }
   ],
   "source": [
    "gender_count = spark.sql('''\n",
    "    SELECT gender,COUNT(DISTINCT userId) AS user_counts\n",
    "    FROM Sparkify_cleaned\n",
    "    GROUP BY gender\n",
    "    ORDER BY user_counts DESC\n",
    "''')\n",
    "gender_count.show()"
   ]
  },
  {
   "cell_type": "code",
   "execution_count": 21,
   "metadata": {},
   "outputs": [
    {
     "name": "stdout",
     "output_type": "stream",
     "text": [
      "+--------------------+------+\n",
      "|                page|amount|\n",
      "+--------------------+------+\n",
      "|            NextSong|228108|\n",
      "|           Thumbs Up| 12551|\n",
      "|                Home| 10082|\n",
      "|     Add to Playlist|  6526|\n",
      "|          Add Friend|  4277|\n",
      "|         Roll Advert|  3933|\n",
      "|              Logout|  3226|\n",
      "|         Thumbs Down|  2546|\n",
      "|           Downgrade|  2055|\n",
      "|            Settings|  1514|\n",
      "|                Help|  1454|\n",
      "|             Upgrade|   499|\n",
      "|               About|   495|\n",
      "|       Save Settings|   310|\n",
      "|               Error|   252|\n",
      "|      Submit Upgrade|   159|\n",
      "|    Submit Downgrade|    63|\n",
      "|              Cancel|    52|\n",
      "|Cancellation Conf...|    52|\n",
      "+--------------------+------+\n",
      "\n"
     ]
    }
   ],
   "source": [
    "# check the page logs\n",
    "spark.sql('''\n",
    "    SELECT page, count(page) amount\n",
    "    FROM Sparkify_cleaned\n",
    "    group by page\n",
    "    order by amount desc\n",
    "''').show()"
   ]
  },
  {
   "cell_type": "markdown",
   "metadata": {},
   "source": [
    "`NextSong` is the most common behavior in the page.\n",
    "\n",
    "`Cancellation Confirmation` events were the least among those behaviors."
   ]
  },
  {
   "cell_type": "code",
   "execution_count": 22,
   "metadata": {},
   "outputs": [
    {
     "name": "stdout",
     "output_type": "stream",
     "text": [
      "+------+------+\n",
      "|gender|amount|\n",
      "+------+------+\n",
      "|     F|154578|\n",
      "|     M|123576|\n",
      "+------+------+\n",
      "\n"
     ]
    }
   ],
   "source": [
    "# check the log times by genders\n",
    "spark.sql('''\n",
    "    SELECT gender, count(gender) amount\n",
    "    FROM Sparkify_cleaned\n",
    "    group by gender\n",
    "''').show()"
   ]
  },
  {
   "cell_type": "markdown",
   "metadata": {},
   "source": [
    "Although there are more male users than female, the log times of female is greater than that of the male."
   ]
  },
  {
   "cell_type": "code",
   "execution_count": 23,
   "metadata": {},
   "outputs": [],
   "source": [
    "cancel_label = udf(lambda x: 1 if x == 'Cancellation Confirmation' else 0, IntegerType())\n",
    "df_churn = df_cleaned.withColumn('cancel_page',cancel_label('page'))\n",
    "windowval = Window.partitionBy('userId')\n",
    "df_churn = df_churn.withColumn('churn',Fsum('cancel_page').over(windowval))"
   ]
  },
  {
   "cell_type": "code",
   "execution_count": 24,
   "metadata": {},
   "outputs": [
    {
     "data": {
      "image/png": "[encoded data removed]",
      "text/plain": [
       "<matplotlib.figure.Figure at 0x7efd3acb1198>"
      ]
     },
     "metadata": {
      "needs_background": "light"
     },
     "output_type": "display_data"
    }
   ],
   "source": [
    "df_gender_logs = df_churn.select('gender').toPandas()\n",
    "plt.subplot(1, 2, 1)\n",
    "sns.countplot(data = df_gender_logs, x = 'gender', order = ['M','F']).set_title('Logs per gender');"
   ]
  },
  {
   "cell_type": "code",
   "execution_count": 25,
   "metadata": {},
   "outputs": [
    {
     "data": {
      "text/html": [
       "<div>\n",
       "<style scoped>\n",
       "    .dataframe tbody tr th:only-of-type {\n",
       "        vertical-align: middle;\n",
       "    }\n",
       "\n",
       "    .dataframe tbody tr th {\n",
       "        vertical-align: top;\n",
       "    }\n",
       "\n",
       "    .dataframe thead th {\n",
       "        text-align: right;\n",
       "    }\n",
       "</style>\n",
       "<table border=\"1\" class=\"dataframe\">\n",
       "  <thead>\n",
       "    <tr style=\"text-align: right;\">\n",
       "      <th></th>\n",
       "      <th>count</th>\n",
       "    </tr>\n",
       "  </thead>\n",
       "  <tbody>\n",
       "    <tr>\n",
       "      <th>count</th>\n",
       "      <td>225.000000</td>\n",
       "    </tr>\n",
       "    <tr>\n",
       "      <th>mean</th>\n",
       "      <td>1236.240000</td>\n",
       "    </tr>\n",
       "    <tr>\n",
       "      <th>std</th>\n",
       "      <td>1329.531716</td>\n",
       "    </tr>\n",
       "    <tr>\n",
       "      <th>min</th>\n",
       "      <td>6.000000</td>\n",
       "    </tr>\n",
       "    <tr>\n",
       "      <th>25%</th>\n",
       "      <td>296.000000</td>\n",
       "    </tr>\n",
       "    <tr>\n",
       "      <th>50%</th>\n",
       "      <td>848.000000</td>\n",
       "    </tr>\n",
       "    <tr>\n",
       "      <th>75%</th>\n",
       "      <td>1863.000000</td>\n",
       "    </tr>\n",
       "    <tr>\n",
       "      <th>max</th>\n",
       "      <td>9632.000000</td>\n",
       "    </tr>\n",
       "  </tbody>\n",
       "</table>\n",
       "</div>"
      ],
      "text/plain": [
       "             count\n",
       "count   225.000000\n",
       "mean   1236.240000\n",
       "std    1329.531716\n",
       "min       6.000000\n",
       "25%     296.000000\n",
       "50%     848.000000\n",
       "75%    1863.000000\n",
       "max    9632.000000"
      ]
     },
     "execution_count": 25,
     "metadata": {},
     "output_type": "execute_result"
    }
   ],
   "source": [
    "df_churn.groupby('userId').count().toPandas().describe()"
   ]
  },
  {
   "cell_type": "code",
   "execution_count": 26,
   "metadata": {},
   "outputs": [
    {
     "data": {
      "text/plain": [
       "<matplotlib.axes._subplots.AxesSubplot at 0x7efd383e4da0>"
      ]
     },
     "execution_count": 26,
     "metadata": {},
     "output_type": "execute_result"
    },
    {
     "data": {
      "image/png": "[encoded data removed]",
      "text/plain": [
       "<matplotlib.figure.Figure at 0x7efd383d0f28>"
      ]
     },
     "metadata": {
      "needs_background": "light"
     },
     "output_type": "display_data"
    }
   ],
   "source": [
    "df_churn.groupby('userId').count().toPandas().describe().boxplot()"
   ]
  },
  {
   "cell_type": "markdown",
   "metadata": {},
   "source": [
    "From the box plot, there are a few abnormalties. \n",
    "Those data points may cause data shift, it is safer to remove them.\n",
    "\n",
    "Before removing it, let's have a look of the user with most manipulation. \n",
    "This record is suspicious, and it might be a bot."
   ]
  },
  {
   "cell_type": "code",
   "execution_count": 27,
   "metadata": {
    "scrolled": false
   },
   "outputs": [
    {
     "data": {
      "text/html": [
       "<div>\n",
       "<style scoped>\n",
       "    .dataframe tbody tr th:only-of-type {\n",
       "        vertical-align: middle;\n",
       "    }\n",
       "\n",
       "    .dataframe tbody tr th {\n",
       "        vertical-align: top;\n",
       "    }\n",
       "\n",
       "    .dataframe thead th {\n",
       "        text-align: right;\n",
       "    }\n",
       "</style>\n",
       "<table border=\"1\" class=\"dataframe\">\n",
       "  <thead>\n",
       "    <tr style=\"text-align: right;\">\n",
       "      <th></th>\n",
       "      <th>userId</th>\n",
       "      <th>count</th>\n",
       "    </tr>\n",
       "  </thead>\n",
       "  <tbody>\n",
       "    <tr>\n",
       "      <th>191</th>\n",
       "      <td>39</td>\n",
       "      <td>9632</td>\n",
       "    </tr>\n",
       "    <tr>\n",
       "      <th>127</th>\n",
       "      <td>92</td>\n",
       "      <td>7230</td>\n",
       "    </tr>\n",
       "    <tr>\n",
       "      <th>69</th>\n",
       "      <td>140</td>\n",
       "      <td>6880</td>\n",
       "    </tr>\n",
       "    <tr>\n",
       "      <th>89</th>\n",
       "      <td>300011</td>\n",
       "      <td>5732</td>\n",
       "    </tr>\n",
       "    <tr>\n",
       "      <th>4</th>\n",
       "      <td>124</td>\n",
       "      <td>4825</td>\n",
       "    </tr>\n",
       "    <tr>\n",
       "      <th>182</th>\n",
       "      <td>300021</td>\n",
       "      <td>4659</td>\n",
       "    </tr>\n",
       "    <tr>\n",
       "      <th>15</th>\n",
       "      <td>300017</td>\n",
       "      <td>4428</td>\n",
       "    </tr>\n",
       "    <tr>\n",
       "      <th>39</th>\n",
       "      <td>85</td>\n",
       "      <td>4370</td>\n",
       "    </tr>\n",
       "    <tr>\n",
       "      <th>19</th>\n",
       "      <td>42</td>\n",
       "      <td>4257</td>\n",
       "    </tr>\n",
       "    <tr>\n",
       "      <th>125</th>\n",
       "      <td>200023</td>\n",
       "      <td>3769</td>\n",
       "    </tr>\n",
       "  </tbody>\n",
       "</table>\n",
       "</div>"
      ],
      "text/plain": [
       "     userId  count\n",
       "191      39   9632\n",
       "127      92   7230\n",
       "69      140   6880\n",
       "89   300011   5732\n",
       "4       124   4825\n",
       "182  300021   4659\n",
       "15   300017   4428\n",
       "39       85   4370\n",
       "19       42   4257\n",
       "125  200023   3769"
      ]
     },
     "execution_count": 27,
     "metadata": {},
     "output_type": "execute_result"
    }
   ],
   "source": [
    "# we can see the userId is 39.\n",
    "df_churn.groupby('userId').count().toPandas().sort_values('count', ascending=False)[:10]"
   ]
  },
  {
   "cell_type": "code",
   "execution_count": 28,
   "metadata": {},
   "outputs": [
    {
     "name": "stdout",
     "output_type": "stream",
     "text": [
      "+----------+-----------+\n",
      "|      date|date_counts|\n",
      "+----------+-----------+\n",
      "|2018-10-01|        109|\n",
      "|2018-10-02|        144|\n",
      "|2018-10-03|         33|\n",
      "|2018-10-04|        106|\n",
      "|2018-10-05|         55|\n",
      "|2018-10-06|         98|\n",
      "|2018-10-07|          8|\n",
      "|2018-10-08|         59|\n",
      "|2018-10-09|        337|\n",
      "|2018-10-10|         76|\n",
      "|2018-10-11|        188|\n",
      "|2018-10-12|        155|\n",
      "|2018-10-13|        338|\n",
      "|2018-10-14|        175|\n",
      "|2018-10-15|        307|\n",
      "|2018-10-16|        227|\n",
      "|2018-10-17|        207|\n",
      "|2018-10-18|        221|\n",
      "|2018-10-19|        261|\n",
      "|2018-10-20|        411|\n",
      "+----------+-----------+\n",
      "only showing top 20 rows\n",
      "\n"
     ]
    }
   ],
   "source": [
    "gender_count = spark.sql('''\n",
    "    SELECT date, COUNT(date) AS date_counts\n",
    "    FROM Sparkify_cleaned\n",
    "    where userId = 39\n",
    "    GROUP BY date\n",
    "    ORDER BY date\n",
    "''')\n",
    "gender_count.show()"
   ]
  },
  {
   "cell_type": "code",
   "execution_count": 29,
   "metadata": {
    "scrolled": false
   },
   "outputs": [
    {
     "data": {
      "text/html": [
       "<div>\n",
       "<style scoped>\n",
       "    .dataframe tbody tr th:only-of-type {\n",
       "        vertical-align: middle;\n",
       "    }\n",
       "\n",
       "    .dataframe tbody tr th {\n",
       "        vertical-align: top;\n",
       "    }\n",
       "\n",
       "    .dataframe thead th {\n",
       "        text-align: right;\n",
       "    }\n",
       "</style>\n",
       "<table border=\"1\" class=\"dataframe\">\n",
       "  <thead>\n",
       "    <tr style=\"text-align: right;\">\n",
       "      <th></th>\n",
       "      <th>page</th>\n",
       "      <th>tsDate</th>\n",
       "    </tr>\n",
       "  </thead>\n",
       "  <tbody>\n",
       "    <tr>\n",
       "      <th>0</th>\n",
       "      <td>Home</td>\n",
       "      <td>2018-10-01 06:35:48</td>\n",
       "    </tr>\n",
       "    <tr>\n",
       "      <th>1</th>\n",
       "      <td>NextSong</td>\n",
       "      <td>2018-10-01 06:35:52</td>\n",
       "    </tr>\n",
       "    <tr>\n",
       "      <th>2</th>\n",
       "      <td>NextSong</td>\n",
       "      <td>2018-10-01 06:39:12</td>\n",
       "    </tr>\n",
       "    <tr>\n",
       "      <th>3</th>\n",
       "      <td>NextSong</td>\n",
       "      <td>2018-10-01 06:45:32</td>\n",
       "    </tr>\n",
       "    <tr>\n",
       "      <th>4</th>\n",
       "      <td>Roll Advert</td>\n",
       "      <td>2018-10-01 06:46:16</td>\n",
       "    </tr>\n",
       "    <tr>\n",
       "      <th>5</th>\n",
       "      <td>NextSong</td>\n",
       "      <td>2018-10-01 06:49:17</td>\n",
       "    </tr>\n",
       "    <tr>\n",
       "      <th>6</th>\n",
       "      <td>NextSong</td>\n",
       "      <td>2018-10-01 06:52:34</td>\n",
       "    </tr>\n",
       "    <tr>\n",
       "      <th>7</th>\n",
       "      <td>NextSong</td>\n",
       "      <td>2018-10-01 06:57:12</td>\n",
       "    </tr>\n",
       "    <tr>\n",
       "      <th>8</th>\n",
       "      <td>Roll Advert</td>\n",
       "      <td>2018-10-01 06:57:59</td>\n",
       "    </tr>\n",
       "    <tr>\n",
       "      <th>9</th>\n",
       "      <td>NextSong</td>\n",
       "      <td>2018-10-01 07:04:11</td>\n",
       "    </tr>\n",
       "    <tr>\n",
       "      <th>10</th>\n",
       "      <td>NextSong</td>\n",
       "      <td>2018-10-01 07:06:44</td>\n",
       "    </tr>\n",
       "    <tr>\n",
       "      <th>11</th>\n",
       "      <td>Roll Advert</td>\n",
       "      <td>2018-10-01 07:09:40</td>\n",
       "    </tr>\n",
       "    <tr>\n",
       "      <th>12</th>\n",
       "      <td>NextSong</td>\n",
       "      <td>2018-10-01 07:10:24</td>\n",
       "    </tr>\n",
       "    <tr>\n",
       "      <th>13</th>\n",
       "      <td>NextSong</td>\n",
       "      <td>2018-10-01 07:14:20</td>\n",
       "    </tr>\n",
       "    <tr>\n",
       "      <th>14</th>\n",
       "      <td>NextSong</td>\n",
       "      <td>2018-10-01 07:18:56</td>\n",
       "    </tr>\n",
       "    <tr>\n",
       "      <th>15</th>\n",
       "      <td>Roll Advert</td>\n",
       "      <td>2018-10-01 07:19:13</td>\n",
       "    </tr>\n",
       "    <tr>\n",
       "      <th>16</th>\n",
       "      <td>NextSong</td>\n",
       "      <td>2018-10-01 07:25:26</td>\n",
       "    </tr>\n",
       "    <tr>\n",
       "      <th>17</th>\n",
       "      <td>NextSong</td>\n",
       "      <td>2018-10-01 07:29:13</td>\n",
       "    </tr>\n",
       "    <tr>\n",
       "      <th>18</th>\n",
       "      <td>NextSong</td>\n",
       "      <td>2018-10-01 07:33:39</td>\n",
       "    </tr>\n",
       "    <tr>\n",
       "      <th>19</th>\n",
       "      <td>NextSong</td>\n",
       "      <td>2018-10-01 07:36:21</td>\n",
       "    </tr>\n",
       "    <tr>\n",
       "      <th>20</th>\n",
       "      <td>NextSong</td>\n",
       "      <td>2018-10-01 07:43:22</td>\n",
       "    </tr>\n",
       "    <tr>\n",
       "      <th>21</th>\n",
       "      <td>Logout</td>\n",
       "      <td>2018-10-01 07:43:23</td>\n",
       "    </tr>\n",
       "    <tr>\n",
       "      <th>22</th>\n",
       "      <td>Home</td>\n",
       "      <td>2018-10-01 07:44:56</td>\n",
       "    </tr>\n",
       "    <tr>\n",
       "      <th>23</th>\n",
       "      <td>NextSong</td>\n",
       "      <td>2018-10-01 07:47:06</td>\n",
       "    </tr>\n",
       "    <tr>\n",
       "      <th>24</th>\n",
       "      <td>NextSong</td>\n",
       "      <td>2018-10-01 07:51:03</td>\n",
       "    </tr>\n",
       "    <tr>\n",
       "      <th>25</th>\n",
       "      <td>About</td>\n",
       "      <td>2018-10-01 07:51:34</td>\n",
       "    </tr>\n",
       "    <tr>\n",
       "      <th>26</th>\n",
       "      <td>NextSong</td>\n",
       "      <td>2018-10-01 07:55:31</td>\n",
       "    </tr>\n",
       "    <tr>\n",
       "      <th>27</th>\n",
       "      <td>Roll Advert</td>\n",
       "      <td>2018-10-01 07:56:00</td>\n",
       "    </tr>\n",
       "    <tr>\n",
       "      <th>28</th>\n",
       "      <td>NextSong</td>\n",
       "      <td>2018-10-01 08:01:19</td>\n",
       "    </tr>\n",
       "    <tr>\n",
       "      <th>29</th>\n",
       "      <td>NextSong</td>\n",
       "      <td>2018-10-01 08:04:21</td>\n",
       "    </tr>\n",
       "    <tr>\n",
       "      <th>...</th>\n",
       "      <td>...</td>\n",
       "      <td>...</td>\n",
       "    </tr>\n",
       "    <tr>\n",
       "      <th>79</th>\n",
       "      <td>NextSong</td>\n",
       "      <td>2018-10-01 16:40:57</td>\n",
       "    </tr>\n",
       "    <tr>\n",
       "      <th>80</th>\n",
       "      <td>Logout</td>\n",
       "      <td>2018-10-01 16:40:58</td>\n",
       "    </tr>\n",
       "    <tr>\n",
       "      <th>81</th>\n",
       "      <td>Home</td>\n",
       "      <td>2018-10-01 18:51:30</td>\n",
       "    </tr>\n",
       "    <tr>\n",
       "      <th>82</th>\n",
       "      <td>NextSong</td>\n",
       "      <td>2018-10-01 18:52:14</td>\n",
       "    </tr>\n",
       "    <tr>\n",
       "      <th>83</th>\n",
       "      <td>NextSong</td>\n",
       "      <td>2018-10-01 18:55:11</td>\n",
       "    </tr>\n",
       "    <tr>\n",
       "      <th>84</th>\n",
       "      <td>NextSong</td>\n",
       "      <td>2018-10-01 18:58:16</td>\n",
       "    </tr>\n",
       "    <tr>\n",
       "      <th>85</th>\n",
       "      <td>NextSong</td>\n",
       "      <td>2018-10-01 19:01:34</td>\n",
       "    </tr>\n",
       "    <tr>\n",
       "      <th>86</th>\n",
       "      <td>NextSong</td>\n",
       "      <td>2018-10-01 19:05:23</td>\n",
       "    </tr>\n",
       "    <tr>\n",
       "      <th>87</th>\n",
       "      <td>Roll Advert</td>\n",
       "      <td>2018-10-01 19:06:31</td>\n",
       "    </tr>\n",
       "    <tr>\n",
       "      <th>88</th>\n",
       "      <td>NextSong</td>\n",
       "      <td>2018-10-01 19:11:52</td>\n",
       "    </tr>\n",
       "    <tr>\n",
       "      <th>89</th>\n",
       "      <td>NextSong</td>\n",
       "      <td>2018-10-01 19:15:24</td>\n",
       "    </tr>\n",
       "    <tr>\n",
       "      <th>90</th>\n",
       "      <td>NextSong</td>\n",
       "      <td>2018-10-01 19:18:55</td>\n",
       "    </tr>\n",
       "    <tr>\n",
       "      <th>91</th>\n",
       "      <td>NextSong</td>\n",
       "      <td>2018-10-01 19:22:41</td>\n",
       "    </tr>\n",
       "    <tr>\n",
       "      <th>92</th>\n",
       "      <td>NextSong</td>\n",
       "      <td>2018-10-01 19:27:02</td>\n",
       "    </tr>\n",
       "    <tr>\n",
       "      <th>93</th>\n",
       "      <td>Thumbs Up</td>\n",
       "      <td>2018-10-01 19:27:03</td>\n",
       "    </tr>\n",
       "    <tr>\n",
       "      <th>94</th>\n",
       "      <td>NextSong</td>\n",
       "      <td>2018-10-01 19:30:45</td>\n",
       "    </tr>\n",
       "    <tr>\n",
       "      <th>95</th>\n",
       "      <td>NextSong</td>\n",
       "      <td>2018-10-01 19:34:18</td>\n",
       "    </tr>\n",
       "    <tr>\n",
       "      <th>96</th>\n",
       "      <td>NextSong</td>\n",
       "      <td>2018-10-01 19:37:39</td>\n",
       "    </tr>\n",
       "    <tr>\n",
       "      <th>97</th>\n",
       "      <td>NextSong</td>\n",
       "      <td>2018-10-01 19:38:15</td>\n",
       "    </tr>\n",
       "    <tr>\n",
       "      <th>98</th>\n",
       "      <td>Home</td>\n",
       "      <td>2018-10-01 23:24:51</td>\n",
       "    </tr>\n",
       "    <tr>\n",
       "      <th>99</th>\n",
       "      <td>NextSong</td>\n",
       "      <td>2018-10-01 23:25:07</td>\n",
       "    </tr>\n",
       "    <tr>\n",
       "      <th>100</th>\n",
       "      <td>NextSong</td>\n",
       "      <td>2018-10-01 23:31:55</td>\n",
       "    </tr>\n",
       "    <tr>\n",
       "      <th>101</th>\n",
       "      <td>NextSong</td>\n",
       "      <td>2018-10-01 23:35:57</td>\n",
       "    </tr>\n",
       "    <tr>\n",
       "      <th>102</th>\n",
       "      <td>NextSong</td>\n",
       "      <td>2018-10-01 23:38:34</td>\n",
       "    </tr>\n",
       "    <tr>\n",
       "      <th>103</th>\n",
       "      <td>NextSong</td>\n",
       "      <td>2018-10-01 23:42:42</td>\n",
       "    </tr>\n",
       "    <tr>\n",
       "      <th>104</th>\n",
       "      <td>NextSong</td>\n",
       "      <td>2018-10-01 23:47:20</td>\n",
       "    </tr>\n",
       "    <tr>\n",
       "      <th>105</th>\n",
       "      <td>Roll Advert</td>\n",
       "      <td>2018-10-01 23:47:22</td>\n",
       "    </tr>\n",
       "    <tr>\n",
       "      <th>106</th>\n",
       "      <td>NextSong</td>\n",
       "      <td>2018-10-01 23:50:50</td>\n",
       "    </tr>\n",
       "    <tr>\n",
       "      <th>107</th>\n",
       "      <td>NextSong</td>\n",
       "      <td>2018-10-01 23:54:25</td>\n",
       "    </tr>\n",
       "    <tr>\n",
       "      <th>108</th>\n",
       "      <td>NextSong</td>\n",
       "      <td>2018-10-01 23:58:37</td>\n",
       "    </tr>\n",
       "  </tbody>\n",
       "</table>\n",
       "<p>109 rows × 2 columns</p>\n",
       "</div>"
      ],
      "text/plain": [
       "            page              tsDate\n",
       "0           Home 2018-10-01 06:35:48\n",
       "1       NextSong 2018-10-01 06:35:52\n",
       "2       NextSong 2018-10-01 06:39:12\n",
       "3       NextSong 2018-10-01 06:45:32\n",
       "4    Roll Advert 2018-10-01 06:46:16\n",
       "5       NextSong 2018-10-01 06:49:17\n",
       "6       NextSong 2018-10-01 06:52:34\n",
       "7       NextSong 2018-10-01 06:57:12\n",
       "8    Roll Advert 2018-10-01 06:57:59\n",
       "9       NextSong 2018-10-01 07:04:11\n",
       "10      NextSong 2018-10-01 07:06:44\n",
       "11   Roll Advert 2018-10-01 07:09:40\n",
       "12      NextSong 2018-10-01 07:10:24\n",
       "13      NextSong 2018-10-01 07:14:20\n",
       "14      NextSong 2018-10-01 07:18:56\n",
       "15   Roll Advert 2018-10-01 07:19:13\n",
       "16      NextSong 2018-10-01 07:25:26\n",
       "17      NextSong 2018-10-01 07:29:13\n",
       "18      NextSong 2018-10-01 07:33:39\n",
       "19      NextSong 2018-10-01 07:36:21\n",
       "20      NextSong 2018-10-01 07:43:22\n",
       "21        Logout 2018-10-01 07:43:23\n",
       "22          Home 2018-10-01 07:44:56\n",
       "23      NextSong 2018-10-01 07:47:06\n",
       "24      NextSong 2018-10-01 07:51:03\n",
       "25         About 2018-10-01 07:51:34\n",
       "26      NextSong 2018-10-01 07:55:31\n",
       "27   Roll Advert 2018-10-01 07:56:00\n",
       "28      NextSong 2018-10-01 08:01:19\n",
       "29      NextSong 2018-10-01 08:04:21\n",
       "..           ...                 ...\n",
       "79      NextSong 2018-10-01 16:40:57\n",
       "80        Logout 2018-10-01 16:40:58\n",
       "81          Home 2018-10-01 18:51:30\n",
       "82      NextSong 2018-10-01 18:52:14\n",
       "83      NextSong 2018-10-01 18:55:11\n",
       "84      NextSong 2018-10-01 18:58:16\n",
       "85      NextSong 2018-10-01 19:01:34\n",
       "86      NextSong 2018-10-01 19:05:23\n",
       "87   Roll Advert 2018-10-01 19:06:31\n",
       "88      NextSong 2018-10-01 19:11:52\n",
       "89      NextSong 2018-10-01 19:15:24\n",
       "90      NextSong 2018-10-01 19:18:55\n",
       "91      NextSong 2018-10-01 19:22:41\n",
       "92      NextSong 2018-10-01 19:27:02\n",
       "93     Thumbs Up 2018-10-01 19:27:03\n",
       "94      NextSong 2018-10-01 19:30:45\n",
       "95      NextSong 2018-10-01 19:34:18\n",
       "96      NextSong 2018-10-01 19:37:39\n",
       "97      NextSong 2018-10-01 19:38:15\n",
       "98          Home 2018-10-01 23:24:51\n",
       "99      NextSong 2018-10-01 23:25:07\n",
       "100     NextSong 2018-10-01 23:31:55\n",
       "101     NextSong 2018-10-01 23:35:57\n",
       "102     NextSong 2018-10-01 23:38:34\n",
       "103     NextSong 2018-10-01 23:42:42\n",
       "104     NextSong 2018-10-01 23:47:20\n",
       "105  Roll Advert 2018-10-01 23:47:22\n",
       "106     NextSong 2018-10-01 23:50:50\n",
       "107     NextSong 2018-10-01 23:54:25\n",
       "108     NextSong 2018-10-01 23:58:37\n",
       "\n",
       "[109 rows x 2 columns]"
      ]
     },
     "execution_count": 29,
     "metadata": {},
     "output_type": "execute_result"
    }
   ],
   "source": [
    "import datetime\n",
    "temp = df_churn[df_churn['userId'] == 39].toPandas()\n",
    "temp[temp['date']== datetime.date(2018, 10, 1)][['page','tsDate']]"
   ]
  },
  {
   "cell_type": "code",
   "execution_count": 30,
   "metadata": {},
   "outputs": [
    {
     "data": {
      "text/html": [
       "<div>\n",
       "<style scoped>\n",
       "    .dataframe tbody tr th:only-of-type {\n",
       "        vertical-align: middle;\n",
       "    }\n",
       "\n",
       "    .dataframe tbody tr th {\n",
       "        vertical-align: top;\n",
       "    }\n",
       "\n",
       "    .dataframe thead th {\n",
       "        text-align: right;\n",
       "    }\n",
       "</style>\n",
       "<table border=\"1\" class=\"dataframe\">\n",
       "  <thead>\n",
       "    <tr style=\"text-align: right;\">\n",
       "      <th></th>\n",
       "      <th>page</th>\n",
       "      <th>tsDate</th>\n",
       "    </tr>\n",
       "  </thead>\n",
       "  <tbody>\n",
       "    <tr>\n",
       "      <th>109</th>\n",
       "      <td>NextSong</td>\n",
       "      <td>2018-10-02 00:02:21</td>\n",
       "    </tr>\n",
       "    <tr>\n",
       "      <th>110</th>\n",
       "      <td>NextSong</td>\n",
       "      <td>2018-10-02 00:07:04</td>\n",
       "    </tr>\n",
       "    <tr>\n",
       "      <th>111</th>\n",
       "      <td>Upgrade</td>\n",
       "      <td>2018-10-02 00:07:22</td>\n",
       "    </tr>\n",
       "    <tr>\n",
       "      <th>112</th>\n",
       "      <td>NextSong</td>\n",
       "      <td>2018-10-02 06:59:22</td>\n",
       "    </tr>\n",
       "    <tr>\n",
       "      <th>113</th>\n",
       "      <td>NextSong</td>\n",
       "      <td>2018-10-02 07:03:19</td>\n",
       "    </tr>\n",
       "    <tr>\n",
       "      <th>114</th>\n",
       "      <td>Roll Advert</td>\n",
       "      <td>2018-10-02 07:04:30</td>\n",
       "    </tr>\n",
       "    <tr>\n",
       "      <th>115</th>\n",
       "      <td>NextSong</td>\n",
       "      <td>2018-10-02 07:07:02</td>\n",
       "    </tr>\n",
       "    <tr>\n",
       "      <th>116</th>\n",
       "      <td>Roll Advert</td>\n",
       "      <td>2018-10-02 07:07:22</td>\n",
       "    </tr>\n",
       "    <tr>\n",
       "      <th>117</th>\n",
       "      <td>NextSong</td>\n",
       "      <td>2018-10-02 07:10:57</td>\n",
       "    </tr>\n",
       "    <tr>\n",
       "      <th>118</th>\n",
       "      <td>NextSong</td>\n",
       "      <td>2018-10-02 07:14:49</td>\n",
       "    </tr>\n",
       "    <tr>\n",
       "      <th>119</th>\n",
       "      <td>NextSong</td>\n",
       "      <td>2018-10-02 07:18:34</td>\n",
       "    </tr>\n",
       "    <tr>\n",
       "      <th>120</th>\n",
       "      <td>NextSong</td>\n",
       "      <td>2018-10-02 07:22:45</td>\n",
       "    </tr>\n",
       "    <tr>\n",
       "      <th>121</th>\n",
       "      <td>NextSong</td>\n",
       "      <td>2018-10-02 07:27:00</td>\n",
       "    </tr>\n",
       "    <tr>\n",
       "      <th>122</th>\n",
       "      <td>NextSong</td>\n",
       "      <td>2018-10-02 07:30:51</td>\n",
       "    </tr>\n",
       "    <tr>\n",
       "      <th>123</th>\n",
       "      <td>Logout</td>\n",
       "      <td>2018-10-02 07:30:52</td>\n",
       "    </tr>\n",
       "    <tr>\n",
       "      <th>124</th>\n",
       "      <td>Home</td>\n",
       "      <td>2018-10-02 07:31:45</td>\n",
       "    </tr>\n",
       "    <tr>\n",
       "      <th>125</th>\n",
       "      <td>NextSong</td>\n",
       "      <td>2018-10-02 07:34:25</td>\n",
       "    </tr>\n",
       "    <tr>\n",
       "      <th>126</th>\n",
       "      <td>Roll Advert</td>\n",
       "      <td>2018-10-02 07:35:03</td>\n",
       "    </tr>\n",
       "    <tr>\n",
       "      <th>127</th>\n",
       "      <td>NextSong</td>\n",
       "      <td>2018-10-02 07:44:12</td>\n",
       "    </tr>\n",
       "    <tr>\n",
       "      <th>128</th>\n",
       "      <td>NextSong</td>\n",
       "      <td>2018-10-02 07:49:14</td>\n",
       "    </tr>\n",
       "    <tr>\n",
       "      <th>129</th>\n",
       "      <td>Logout</td>\n",
       "      <td>2018-10-02 07:49:15</td>\n",
       "    </tr>\n",
       "    <tr>\n",
       "      <th>130</th>\n",
       "      <td>Home</td>\n",
       "      <td>2018-10-02 07:49:53</td>\n",
       "    </tr>\n",
       "    <tr>\n",
       "      <th>131</th>\n",
       "      <td>NextSong</td>\n",
       "      <td>2018-10-02 11:56:50</td>\n",
       "    </tr>\n",
       "    <tr>\n",
       "      <th>132</th>\n",
       "      <td>Settings</td>\n",
       "      <td>2018-10-02 11:57:48</td>\n",
       "    </tr>\n",
       "    <tr>\n",
       "      <th>133</th>\n",
       "      <td>Home</td>\n",
       "      <td>2018-10-02 11:59:02</td>\n",
       "    </tr>\n",
       "    <tr>\n",
       "      <th>134</th>\n",
       "      <td>NextSong</td>\n",
       "      <td>2018-10-02 12:00:57</td>\n",
       "    </tr>\n",
       "    <tr>\n",
       "      <th>135</th>\n",
       "      <td>NextSong</td>\n",
       "      <td>2018-10-02 12:04:49</td>\n",
       "    </tr>\n",
       "    <tr>\n",
       "      <th>136</th>\n",
       "      <td>Roll Advert</td>\n",
       "      <td>2018-10-02 12:05:21</td>\n",
       "    </tr>\n",
       "    <tr>\n",
       "      <th>137</th>\n",
       "      <td>NextSong</td>\n",
       "      <td>2018-10-02 12:09:06</td>\n",
       "    </tr>\n",
       "    <tr>\n",
       "      <th>138</th>\n",
       "      <td>NextSong</td>\n",
       "      <td>2018-10-02 12:12:44</td>\n",
       "    </tr>\n",
       "    <tr>\n",
       "      <th>...</th>\n",
       "      <td>...</td>\n",
       "      <td>...</td>\n",
       "    </tr>\n",
       "    <tr>\n",
       "      <th>223</th>\n",
       "      <td>NextSong</td>\n",
       "      <td>2018-10-02 21:08:20</td>\n",
       "    </tr>\n",
       "    <tr>\n",
       "      <th>224</th>\n",
       "      <td>NextSong</td>\n",
       "      <td>2018-10-02 21:11:15</td>\n",
       "    </tr>\n",
       "    <tr>\n",
       "      <th>225</th>\n",
       "      <td>NextSong</td>\n",
       "      <td>2018-10-02 21:14:35</td>\n",
       "    </tr>\n",
       "    <tr>\n",
       "      <th>226</th>\n",
       "      <td>NextSong</td>\n",
       "      <td>2018-10-02 21:18:41</td>\n",
       "    </tr>\n",
       "    <tr>\n",
       "      <th>227</th>\n",
       "      <td>Error</td>\n",
       "      <td>2018-10-02 21:19:36</td>\n",
       "    </tr>\n",
       "    <tr>\n",
       "      <th>228</th>\n",
       "      <td>NextSong</td>\n",
       "      <td>2018-10-02 21:22:46</td>\n",
       "    </tr>\n",
       "    <tr>\n",
       "      <th>229</th>\n",
       "      <td>NextSong</td>\n",
       "      <td>2018-10-02 21:26:14</td>\n",
       "    </tr>\n",
       "    <tr>\n",
       "      <th>230</th>\n",
       "      <td>NextSong</td>\n",
       "      <td>2018-10-02 21:29:11</td>\n",
       "    </tr>\n",
       "    <tr>\n",
       "      <th>231</th>\n",
       "      <td>NextSong</td>\n",
       "      <td>2018-10-02 21:33:22</td>\n",
       "    </tr>\n",
       "    <tr>\n",
       "      <th>232</th>\n",
       "      <td>NextSong</td>\n",
       "      <td>2018-10-02 21:37:20</td>\n",
       "    </tr>\n",
       "    <tr>\n",
       "      <th>233</th>\n",
       "      <td>NextSong</td>\n",
       "      <td>2018-10-02 21:43:51</td>\n",
       "    </tr>\n",
       "    <tr>\n",
       "      <th>234</th>\n",
       "      <td>NextSong</td>\n",
       "      <td>2018-10-02 21:46:59</td>\n",
       "    </tr>\n",
       "    <tr>\n",
       "      <th>235</th>\n",
       "      <td>NextSong</td>\n",
       "      <td>2018-10-02 21:50:54</td>\n",
       "    </tr>\n",
       "    <tr>\n",
       "      <th>236</th>\n",
       "      <td>NextSong</td>\n",
       "      <td>2018-10-02 21:52:51</td>\n",
       "    </tr>\n",
       "    <tr>\n",
       "      <th>237</th>\n",
       "      <td>NextSong</td>\n",
       "      <td>2018-10-02 21:55:32</td>\n",
       "    </tr>\n",
       "    <tr>\n",
       "      <th>238</th>\n",
       "      <td>NextSong</td>\n",
       "      <td>2018-10-02 21:58:30</td>\n",
       "    </tr>\n",
       "    <tr>\n",
       "      <th>239</th>\n",
       "      <td>NextSong</td>\n",
       "      <td>2018-10-02 22:01:47</td>\n",
       "    </tr>\n",
       "    <tr>\n",
       "      <th>240</th>\n",
       "      <td>NextSong</td>\n",
       "      <td>2018-10-02 22:06:19</td>\n",
       "    </tr>\n",
       "    <tr>\n",
       "      <th>241</th>\n",
       "      <td>NextSong</td>\n",
       "      <td>2018-10-02 22:09:20</td>\n",
       "    </tr>\n",
       "    <tr>\n",
       "      <th>242</th>\n",
       "      <td>NextSong</td>\n",
       "      <td>2018-10-02 22:16:23</td>\n",
       "    </tr>\n",
       "    <tr>\n",
       "      <th>243</th>\n",
       "      <td>NextSong</td>\n",
       "      <td>2018-10-02 22:20:58</td>\n",
       "    </tr>\n",
       "    <tr>\n",
       "      <th>244</th>\n",
       "      <td>Roll Advert</td>\n",
       "      <td>2018-10-02 22:22:21</td>\n",
       "    </tr>\n",
       "    <tr>\n",
       "      <th>245</th>\n",
       "      <td>NextSong</td>\n",
       "      <td>2018-10-02 22:25:25</td>\n",
       "    </tr>\n",
       "    <tr>\n",
       "      <th>246</th>\n",
       "      <td>NextSong</td>\n",
       "      <td>2018-10-02 22:31:29</td>\n",
       "    </tr>\n",
       "    <tr>\n",
       "      <th>247</th>\n",
       "      <td>NextSong</td>\n",
       "      <td>2018-10-02 22:36:10</td>\n",
       "    </tr>\n",
       "    <tr>\n",
       "      <th>248</th>\n",
       "      <td>NextSong</td>\n",
       "      <td>2018-10-02 22:39:40</td>\n",
       "    </tr>\n",
       "    <tr>\n",
       "      <th>249</th>\n",
       "      <td>NextSong</td>\n",
       "      <td>2018-10-02 22:43:11</td>\n",
       "    </tr>\n",
       "    <tr>\n",
       "      <th>250</th>\n",
       "      <td>NextSong</td>\n",
       "      <td>2018-10-02 22:48:28</td>\n",
       "    </tr>\n",
       "    <tr>\n",
       "      <th>251</th>\n",
       "      <td>NextSong</td>\n",
       "      <td>2018-10-02 22:52:52</td>\n",
       "    </tr>\n",
       "    <tr>\n",
       "      <th>252</th>\n",
       "      <td>Logout</td>\n",
       "      <td>2018-10-02 22:52:53</td>\n",
       "    </tr>\n",
       "  </tbody>\n",
       "</table>\n",
       "<p>144 rows × 2 columns</p>\n",
       "</div>"
      ],
      "text/plain": [
       "            page              tsDate\n",
       "109     NextSong 2018-10-02 00:02:21\n",
       "110     NextSong 2018-10-02 00:07:04\n",
       "111      Upgrade 2018-10-02 00:07:22\n",
       "112     NextSong 2018-10-02 06:59:22\n",
       "113     NextSong 2018-10-02 07:03:19\n",
       "114  Roll Advert 2018-10-02 07:04:30\n",
       "115     NextSong 2018-10-02 07:07:02\n",
       "116  Roll Advert 2018-10-02 07:07:22\n",
       "117     NextSong 2018-10-02 07:10:57\n",
       "118     NextSong 2018-10-02 07:14:49\n",
       "119     NextSong 2018-10-02 07:18:34\n",
       "120     NextSong 2018-10-02 07:22:45\n",
       "121     NextSong 2018-10-02 07:27:00\n",
       "122     NextSong 2018-10-02 07:30:51\n",
       "123       Logout 2018-10-02 07:30:52\n",
       "124         Home 2018-10-02 07:31:45\n",
       "125     NextSong 2018-10-02 07:34:25\n",
       "126  Roll Advert 2018-10-02 07:35:03\n",
       "127     NextSong 2018-10-02 07:44:12\n",
       "128     NextSong 2018-10-02 07:49:14\n",
       "129       Logout 2018-10-02 07:49:15\n",
       "130         Home 2018-10-02 07:49:53\n",
       "131     NextSong 2018-10-02 11:56:50\n",
       "132     Settings 2018-10-02 11:57:48\n",
       "133         Home 2018-10-02 11:59:02\n",
       "134     NextSong 2018-10-02 12:00:57\n",
       "135     NextSong 2018-10-02 12:04:49\n",
       "136  Roll Advert 2018-10-02 12:05:21\n",
       "137     NextSong 2018-10-02 12:09:06\n",
       "138     NextSong 2018-10-02 12:12:44\n",
       "..           ...                 ...\n",
       "223     NextSong 2018-10-02 21:08:20\n",
       "224     NextSong 2018-10-02 21:11:15\n",
       "225     NextSong 2018-10-02 21:14:35\n",
       "226     NextSong 2018-10-02 21:18:41\n",
       "227        Error 2018-10-02 21:19:36\n",
       "228     NextSong 2018-10-02 21:22:46\n",
       "229     NextSong 2018-10-02 21:26:14\n",
       "230     NextSong 2018-10-02 21:29:11\n",
       "231     NextSong 2018-10-02 21:33:22\n",
       "232     NextSong 2018-10-02 21:37:20\n",
       "233     NextSong 2018-10-02 21:43:51\n",
       "234     NextSong 2018-10-02 21:46:59\n",
       "235     NextSong 2018-10-02 21:50:54\n",
       "236     NextSong 2018-10-02 21:52:51\n",
       "237     NextSong 2018-10-02 21:55:32\n",
       "238     NextSong 2018-10-02 21:58:30\n",
       "239     NextSong 2018-10-02 22:01:47\n",
       "240     NextSong 2018-10-02 22:06:19\n",
       "241     NextSong 2018-10-02 22:09:20\n",
       "242     NextSong 2018-10-02 22:16:23\n",
       "243     NextSong 2018-10-02 22:20:58\n",
       "244  Roll Advert 2018-10-02 22:22:21\n",
       "245     NextSong 2018-10-02 22:25:25\n",
       "246     NextSong 2018-10-02 22:31:29\n",
       "247     NextSong 2018-10-02 22:36:10\n",
       "248     NextSong 2018-10-02 22:39:40\n",
       "249     NextSong 2018-10-02 22:43:11\n",
       "250     NextSong 2018-10-02 22:48:28\n",
       "251     NextSong 2018-10-02 22:52:52\n",
       "252       Logout 2018-10-02 22:52:53\n",
       "\n",
       "[144 rows x 2 columns]"
      ]
     },
     "execution_count": 30,
     "metadata": {},
     "output_type": "execute_result"
    }
   ],
   "source": [
    "temp2 = df_churn[df_churn['userId'] == 39].toPandas()\n",
    "temp2[temp2['date']== datetime.date(2018, 10, 2)][['page','tsDate']]"
   ]
  },
  {
   "cell_type": "code",
   "execution_count": 31,
   "metadata": {},
   "outputs": [
    {
     "data": {
      "text/html": [
       "<div>\n",
       "<style scoped>\n",
       "    .dataframe tbody tr th:only-of-type {\n",
       "        vertical-align: middle;\n",
       "    }\n",
       "\n",
       "    .dataframe tbody tr th {\n",
       "        vertical-align: top;\n",
       "    }\n",
       "\n",
       "    .dataframe thead th {\n",
       "        text-align: right;\n",
       "    }\n",
       "</style>\n",
       "<table border=\"1\" class=\"dataframe\">\n",
       "  <thead>\n",
       "    <tr style=\"text-align: right;\">\n",
       "      <th></th>\n",
       "      <th>page</th>\n",
       "      <th>tsDate</th>\n",
       "    </tr>\n",
       "  </thead>\n",
       "  <tbody>\n",
       "    <tr>\n",
       "      <th>253</th>\n",
       "      <td>Home</td>\n",
       "      <td>2018-10-03 07:30:21</td>\n",
       "    </tr>\n",
       "    <tr>\n",
       "      <th>254</th>\n",
       "      <td>NextSong</td>\n",
       "      <td>2018-10-03 07:30:26</td>\n",
       "    </tr>\n",
       "    <tr>\n",
       "      <th>255</th>\n",
       "      <td>NextSong</td>\n",
       "      <td>2018-10-03 07:34:46</td>\n",
       "    </tr>\n",
       "    <tr>\n",
       "      <th>256</th>\n",
       "      <td>NextSong</td>\n",
       "      <td>2018-10-03 07:39:48</td>\n",
       "    </tr>\n",
       "    <tr>\n",
       "      <th>257</th>\n",
       "      <td>NextSong</td>\n",
       "      <td>2018-10-03 07:44:06</td>\n",
       "    </tr>\n",
       "    <tr>\n",
       "      <th>258</th>\n",
       "      <td>Logout</td>\n",
       "      <td>2018-10-03 07:44:07</td>\n",
       "    </tr>\n",
       "    <tr>\n",
       "      <th>259</th>\n",
       "      <td>Home</td>\n",
       "      <td>2018-10-03 07:44:25</td>\n",
       "    </tr>\n",
       "    <tr>\n",
       "      <th>260</th>\n",
       "      <td>Home</td>\n",
       "      <td>2018-10-03 11:51:20</td>\n",
       "    </tr>\n",
       "    <tr>\n",
       "      <th>261</th>\n",
       "      <td>NextSong</td>\n",
       "      <td>2018-10-03 11:52:59</td>\n",
       "    </tr>\n",
       "    <tr>\n",
       "      <th>262</th>\n",
       "      <td>Roll Advert</td>\n",
       "      <td>2018-10-03 11:53:35</td>\n",
       "    </tr>\n",
       "    <tr>\n",
       "      <th>263</th>\n",
       "      <td>NextSong</td>\n",
       "      <td>2018-10-03 11:56:36</td>\n",
       "    </tr>\n",
       "    <tr>\n",
       "      <th>264</th>\n",
       "      <td>NextSong</td>\n",
       "      <td>2018-10-03 12:00:07</td>\n",
       "    </tr>\n",
       "    <tr>\n",
       "      <th>265</th>\n",
       "      <td>NextSong</td>\n",
       "      <td>2018-10-03 12:02:08</td>\n",
       "    </tr>\n",
       "    <tr>\n",
       "      <th>266</th>\n",
       "      <td>NextSong</td>\n",
       "      <td>2018-10-03 12:06:37</td>\n",
       "    </tr>\n",
       "    <tr>\n",
       "      <th>267</th>\n",
       "      <td>NextSong</td>\n",
       "      <td>2018-10-03 12:09:44</td>\n",
       "    </tr>\n",
       "    <tr>\n",
       "      <th>268</th>\n",
       "      <td>NextSong</td>\n",
       "      <td>2018-10-03 12:14:11</td>\n",
       "    </tr>\n",
       "    <tr>\n",
       "      <th>269</th>\n",
       "      <td>NextSong</td>\n",
       "      <td>2018-10-03 12:17:56</td>\n",
       "    </tr>\n",
       "    <tr>\n",
       "      <th>270</th>\n",
       "      <td>NextSong</td>\n",
       "      <td>2018-10-03 12:22:22</td>\n",
       "    </tr>\n",
       "    <tr>\n",
       "      <th>271</th>\n",
       "      <td>Thumbs Up</td>\n",
       "      <td>2018-10-03 12:22:23</td>\n",
       "    </tr>\n",
       "    <tr>\n",
       "      <th>272</th>\n",
       "      <td>NextSong</td>\n",
       "      <td>2018-10-03 12:25:22</td>\n",
       "    </tr>\n",
       "    <tr>\n",
       "      <th>273</th>\n",
       "      <td>NextSong</td>\n",
       "      <td>2018-10-03 12:29:50</td>\n",
       "    </tr>\n",
       "    <tr>\n",
       "      <th>274</th>\n",
       "      <td>Thumbs Down</td>\n",
       "      <td>2018-10-03 12:29:51</td>\n",
       "    </tr>\n",
       "    <tr>\n",
       "      <th>275</th>\n",
       "      <td>NextSong</td>\n",
       "      <td>2018-10-03 12:33:14</td>\n",
       "    </tr>\n",
       "    <tr>\n",
       "      <th>276</th>\n",
       "      <td>NextSong</td>\n",
       "      <td>2018-10-03 12:34:38</td>\n",
       "    </tr>\n",
       "    <tr>\n",
       "      <th>277</th>\n",
       "      <td>Thumbs Up</td>\n",
       "      <td>2018-10-03 12:34:39</td>\n",
       "    </tr>\n",
       "    <tr>\n",
       "      <th>278</th>\n",
       "      <td>NextSong</td>\n",
       "      <td>2018-10-03 12:39:44</td>\n",
       "    </tr>\n",
       "    <tr>\n",
       "      <th>279</th>\n",
       "      <td>NextSong</td>\n",
       "      <td>2018-10-03 12:42:40</td>\n",
       "    </tr>\n",
       "    <tr>\n",
       "      <th>280</th>\n",
       "      <td>Roll Advert</td>\n",
       "      <td>2018-10-03 12:42:41</td>\n",
       "    </tr>\n",
       "    <tr>\n",
       "      <th>281</th>\n",
       "      <td>NextSong</td>\n",
       "      <td>2018-10-03 12:46:51</td>\n",
       "    </tr>\n",
       "    <tr>\n",
       "      <th>282</th>\n",
       "      <td>Add to Playlist</td>\n",
       "      <td>2018-10-03 12:48:02</td>\n",
       "    </tr>\n",
       "    <tr>\n",
       "      <th>283</th>\n",
       "      <td>NextSong</td>\n",
       "      <td>2018-10-03 12:51:48</td>\n",
       "    </tr>\n",
       "    <tr>\n",
       "      <th>284</th>\n",
       "      <td>NextSong</td>\n",
       "      <td>2018-10-03 12:54:53</td>\n",
       "    </tr>\n",
       "    <tr>\n",
       "      <th>285</th>\n",
       "      <td>Home</td>\n",
       "      <td>2018-10-03 12:55:19</td>\n",
       "    </tr>\n",
       "  </tbody>\n",
       "</table>\n",
       "</div>"
      ],
      "text/plain": [
       "                page              tsDate\n",
       "253             Home 2018-10-03 07:30:21\n",
       "254         NextSong 2018-10-03 07:30:26\n",
       "255         NextSong 2018-10-03 07:34:46\n",
       "256         NextSong 2018-10-03 07:39:48\n",
       "257         NextSong 2018-10-03 07:44:06\n",
       "258           Logout 2018-10-03 07:44:07\n",
       "259             Home 2018-10-03 07:44:25\n",
       "260             Home 2018-10-03 11:51:20\n",
       "261         NextSong 2018-10-03 11:52:59\n",
       "262      Roll Advert 2018-10-03 11:53:35\n",
       "263         NextSong 2018-10-03 11:56:36\n",
       "264         NextSong 2018-10-03 12:00:07\n",
       "265         NextSong 2018-10-03 12:02:08\n",
       "266         NextSong 2018-10-03 12:06:37\n",
       "267         NextSong 2018-10-03 12:09:44\n",
       "268         NextSong 2018-10-03 12:14:11\n",
       "269         NextSong 2018-10-03 12:17:56\n",
       "270         NextSong 2018-10-03 12:22:22\n",
       "271        Thumbs Up 2018-10-03 12:22:23\n",
       "272         NextSong 2018-10-03 12:25:22\n",
       "273         NextSong 2018-10-03 12:29:50\n",
       "274      Thumbs Down 2018-10-03 12:29:51\n",
       "275         NextSong 2018-10-03 12:33:14\n",
       "276         NextSong 2018-10-03 12:34:38\n",
       "277        Thumbs Up 2018-10-03 12:34:39\n",
       "278         NextSong 2018-10-03 12:39:44\n",
       "279         NextSong 2018-10-03 12:42:40\n",
       "280      Roll Advert 2018-10-03 12:42:41\n",
       "281         NextSong 2018-10-03 12:46:51\n",
       "282  Add to Playlist 2018-10-03 12:48:02\n",
       "283         NextSong 2018-10-03 12:51:48\n",
       "284         NextSong 2018-10-03 12:54:53\n",
       "285             Home 2018-10-03 12:55:19"
      ]
     },
     "execution_count": 31,
     "metadata": {},
     "output_type": "execute_result"
    }
   ],
   "source": [
    "temp3 = df_churn[df_churn['userId'] == 39].toPandas()\n",
    "temp3[temp3['date']== datetime.date(2018, 10, 3)][['page','tsDate']]"
   ]
  },
  {
   "cell_type": "markdown",
   "metadata": {},
   "source": [
    "### After a detailed examination, I am sure this is not a bot.\n",
    "\n",
    "### That the user spent a lot of time listening to music everyday.\n",
    "\n",
    "##### (To save time, I don't examine all the users with a above mean log number)"
   ]
  },
  {
   "cell_type": "code",
   "execution_count": 32,
   "metadata": {},
   "outputs": [],
   "source": [
    "rare_users = df_churn.groupby('userId').count().toPandas().sort_values('count', ascending=False).reset_index()\n",
    "\n",
    "rare_users.drop('index', axis=1, inplace=True)"
   ]
  },
  {
   "cell_type": "code",
   "execution_count": 33,
   "metadata": {},
   "outputs": [],
   "source": [
    "rare_users_id_list = list(rare_users[rare_users['count'] >= 3000].userId.values)"
   ]
  },
  {
   "cell_type": "code",
   "execution_count": 34,
   "metadata": {},
   "outputs": [],
   "source": [
    "df_churn = df_churn.filter(~df_churn.userId.isin(rare_users_id_list))"
   ]
  },
  {
   "cell_type": "code",
   "execution_count": 35,
   "metadata": {},
   "outputs": [
    {
     "data": {
      "text/plain": [
       "195999"
      ]
     },
     "execution_count": 35,
     "metadata": {},
     "output_type": "execute_result"
    }
   ],
   "source": [
    "df_churn.count()"
   ]
  },
  {
   "cell_type": "markdown",
   "metadata": {},
   "source": [
    "# --- Todo： work day analysis ---"
   ]
  },
  {
   "cell_type": "code",
   "execution_count": 36,
   "metadata": {},
   "outputs": [],
   "source": [
    "# def generate_date_features(df: pd.DataFrame) -> pd.DataFrame:\n",
    "#     tmp_datetime = df.tsDate\n",
    "#     df['hour'] = tmp_datetime.dt.hour\n",
    "#     df['day'] = tmp_datetime.dt.day\n",
    "#     df['day_of_week'] = tmp_datetime.dt.dayofweek\n",
    "#     df['week'] = tmp_datetime.dt.isocalendar().week\n",
    "#     df['month'] = tmp_datetime.dt.month\n",
    "#     return df\n",
    "\n",
    "\n",
    "# fig,(ax1,ax2,ax3)= plt.subplots(nrows=3)\n",
    "# fig.set_size_inches(18,30)\n",
    "\n",
    "# hourAggregated = pd.DataFrame(train.groupby([\"hour\",\"day_of_week\"],sort=True)[\"count\"].mean()).reset_index()\n",
    "# sns.pointplot(x=hourAggregated[\"hour\"], y=hourAggregated[\"count\"],hue=hourAggregated[\"day_of_week\"],hue_order=hueOrder, data=hourAggregated, join=True,ax=ax3)\n",
    "# ax3.set(xlabel='Hour Of The Day', ylabel='Users Count',title=\"Average Users Count By Hour Of The Day Across Weekdays\",label='big')"
   ]
  },
  {
   "cell_type": "markdown",
   "metadata": {},
   "source": [
    "# --- Todo： work day analysis ---"
   ]
  },
  {
   "cell_type": "markdown",
   "metadata": {},
   "source": [
    "# Feature Engineering 1"
   ]
  },
  {
   "cell_type": "code",
   "execution_count": 37,
   "metadata": {},
   "outputs": [],
   "source": [
    "# Feature engineering that aggreagtes the user behaviors under one user id.\n",
    "\n",
    "def build_features(df):\n",
    "    \"\"\"\n",
    "    this funtion aggreate all the user events under each user.\n",
    "    \"\"\"\n",
    "    df_user_level = df.groupBy(\"userId\") \\\n",
    "        .agg( \n",
    "            count(when(col(\"page\") == \"NextSong\", True)).alias(\"user_songs\"),\n",
    "            # count user's individual actions using all page visits\n",
    "            count(when(col(\"page\") == \"Thumbs Up\", True)).alias(\"user_likes\"),\n",
    "            count(when(col(\"page\") == \"Thumbs Down\", True)).alias(\"user_dislikes\"),\n",
    "    \n",
    "            count(when(col(\"page\") == \"Add to Playlist\", True)).alias(\"user_playlist\"),\n",
    "            count(when(col(\"page\") == \"Add Friend\", True)).alias(\"user_friends\"),\n",
    "    \n",
    "            count(when(col(\"page\") == \"Downgrade\", True)).alias(\"user_downgrades\"),\n",
    "            count(when(col(\"page\") == \"Upgrade\", True)).alias(\"user_upgrades\"),\n",
    "    \n",
    "            count(when(col(\"page\") == \"Home\", True)).alias(\"user_home\"),\n",
    "            count(when(col(\"page\") == \"Error\", True)).alias(\"user_error\"),\n",
    "            count(when(col(\"page\") == \"Settings\", True)).alias(\"user_settings\"),\n",
    "    \n",
    "            count(when(col(\"page\") == \"Roll Advert\", True)).alias(\"user_ads\"),\n",
    "    \n",
    "            # compute the number of sessions a user is in\n",
    "            countDistinct(\"sessionId\").alias(\"user_sessions\"),\n",
    "    \n",
    "            # find the total number of actions a user took\n",
    "            countDistinct(\"itemInSession\").alias(\"user_acts\"),\n",
    "    \n",
    "            # compute the average number of page actions per sesssion\n",
    "            (countDistinct(\"itemInSession\")/countDistinct(\"sessionId\")).alias(\"acts_per_session\"),\n",
    "    \n",
    "            # compute the average number of songs per session\n",
    "            (count(when(col(\"page\") == \"NextSong\",\n",
    "                        True))/countDistinct(\"sessionId\")).alias(\"songs_per_session\"),\n",
    "    \n",
    "            # compute the average number of songs per day\n",
    "            (count(when(col(\"page\") == \"NextSong\",\n",
    "                        True))/countDistinct(\"date\")).alias(\"songs_per_day\"),\n",
    "        \n",
    "            # compute the average length of songs the user listen\n",
    "            (Fsum('length')/count(when(col(\"page\") == \"NextSong\",\n",
    "                        True))).alias(\"ave_song_length\"),\n",
    "            \n",
    "            # compute the average number of ads per session\n",
    "            (count(when(col(\"page\") == \"Roll Advert\",\n",
    "                        True))/countDistinct(\"sessionId\")).alias(\"ads_per_session\"),\n",
    "            \n",
    "        \n",
    "            # encode the gender 1 for F and 0 for M\n",
    "            first(when(col(\"gender\") == \"F\", 1).otherwise(0)).alias(\"gender\"),\n",
    "    \n",
    "            # encode the level (paid/free) according to the last record\n",
    "            last(when(col(\"level\") == \"paid\", 1).otherwise(0)).alias(\"level\"),\n",
    "    \n",
    "            # flag those users that downgraded \n",
    "            last(when(col(\"page\") == \"Downgrade\", 1).otherwise(0)).alias(\"downgrade\"),\n",
    "    \n",
    "            # create the churn column that records if the user cancelled \n",
    "            last(when(col(\"page\") == \"Cancellation Confirmation\", 1).otherwise(0)).alias(\"churn\")\n",
    "            )\n",
    "\n",
    "    df_user_level = df_user_level.drop(\"userId\")   \n",
    "    \n",
    "    return df_user_level\n",
    "\n",
    "df_user_level = build_features(df_churn)"
   ]
  },
  {
   "cell_type": "code",
   "execution_count": 38,
   "metadata": {},
   "outputs": [
    {
     "data": {
      "text/html": [
       "<div>\n",
       "<style scoped>\n",
       "    .dataframe tbody tr th:only-of-type {\n",
       "        vertical-align: middle;\n",
       "    }\n",
       "\n",
       "    .dataframe tbody tr th {\n",
       "        vertical-align: top;\n",
       "    }\n",
       "\n",
       "    .dataframe thead th {\n",
       "        text-align: right;\n",
       "    }\n",
       "</style>\n",
       "<table border=\"1\" class=\"dataframe\">\n",
       "  <thead>\n",
       "    <tr style=\"text-align: right;\">\n",
       "      <th></th>\n",
       "      <th>user_songs</th>\n",
       "      <th>user_likes</th>\n",
       "      <th>user_dislikes</th>\n",
       "      <th>user_playlist</th>\n",
       "      <th>user_friends</th>\n",
       "      <th>user_downgrades</th>\n",
       "      <th>user_upgrades</th>\n",
       "      <th>user_home</th>\n",
       "      <th>user_error</th>\n",
       "      <th>user_settings</th>\n",
       "      <th>...</th>\n",
       "      <th>user_acts</th>\n",
       "      <th>acts_per_session</th>\n",
       "      <th>songs_per_session</th>\n",
       "      <th>songs_per_day</th>\n",
       "      <th>ave_song_length</th>\n",
       "      <th>ads_per_session</th>\n",
       "      <th>gender</th>\n",
       "      <th>level</th>\n",
       "      <th>downgrade</th>\n",
       "      <th>churn</th>\n",
       "    </tr>\n",
       "  </thead>\n",
       "  <tbody>\n",
       "    <tr>\n",
       "      <th>0</th>\n",
       "      <td>275</td>\n",
       "      <td>17</td>\n",
       "      <td>5</td>\n",
       "      <td>7</td>\n",
       "      <td>4</td>\n",
       "      <td>0</td>\n",
       "      <td>2</td>\n",
       "      <td>11</td>\n",
       "      <td>0</td>\n",
       "      <td>0</td>\n",
       "      <td>...</td>\n",
       "      <td>112</td>\n",
       "      <td>16.000000</td>\n",
       "      <td>39.285714</td>\n",
       "      <td>39.285714</td>\n",
       "      <td>243.421445</td>\n",
       "      <td>7.428571</td>\n",
       "      <td>1</td>\n",
       "      <td>0</td>\n",
       "      <td>0</td>\n",
       "      <td>0</td>\n",
       "    </tr>\n",
       "    <tr>\n",
       "      <th>1</th>\n",
       "      <td>387</td>\n",
       "      <td>21</td>\n",
       "      <td>6</td>\n",
       "      <td>8</td>\n",
       "      <td>4</td>\n",
       "      <td>5</td>\n",
       "      <td>2</td>\n",
       "      <td>20</td>\n",
       "      <td>0</td>\n",
       "      <td>3</td>\n",
       "      <td>...</td>\n",
       "      <td>158</td>\n",
       "      <td>26.333333</td>\n",
       "      <td>64.500000</td>\n",
       "      <td>55.285714</td>\n",
       "      <td>242.916992</td>\n",
       "      <td>1.166667</td>\n",
       "      <td>0</td>\n",
       "      <td>1</td>\n",
       "      <td>0</td>\n",
       "      <td>0</td>\n",
       "    </tr>\n",
       "    <tr>\n",
       "      <th>2</th>\n",
       "      <td>8</td>\n",
       "      <td>0</td>\n",
       "      <td>0</td>\n",
       "      <td>0</td>\n",
       "      <td>0</td>\n",
       "      <td>0</td>\n",
       "      <td>0</td>\n",
       "      <td>0</td>\n",
       "      <td>0</td>\n",
       "      <td>0</td>\n",
       "      <td>...</td>\n",
       "      <td>11</td>\n",
       "      <td>11.000000</td>\n",
       "      <td>8.000000</td>\n",
       "      <td>8.000000</td>\n",
       "      <td>261.139138</td>\n",
       "      <td>1.000000</td>\n",
       "      <td>0</td>\n",
       "      <td>0</td>\n",
       "      <td>0</td>\n",
       "      <td>1</td>\n",
       "    </tr>\n",
       "    <tr>\n",
       "      <th>3</th>\n",
       "      <td>2111</td>\n",
       "      <td>100</td>\n",
       "      <td>21</td>\n",
       "      <td>52</td>\n",
       "      <td>28</td>\n",
       "      <td>23</td>\n",
       "      <td>0</td>\n",
       "      <td>75</td>\n",
       "      <td>1</td>\n",
       "      <td>12</td>\n",
       "      <td>...</td>\n",
       "      <td>613</td>\n",
       "      <td>61.300000</td>\n",
       "      <td>211.100000</td>\n",
       "      <td>162.384615</td>\n",
       "      <td>247.880551</td>\n",
       "      <td>0.000000</td>\n",
       "      <td>0</td>\n",
       "      <td>1</td>\n",
       "      <td>0</td>\n",
       "      <td>1</td>\n",
       "    </tr>\n",
       "    <tr>\n",
       "      <th>4</th>\n",
       "      <td>150</td>\n",
       "      <td>7</td>\n",
       "      <td>1</td>\n",
       "      <td>5</td>\n",
       "      <td>1</td>\n",
       "      <td>0</td>\n",
       "      <td>2</td>\n",
       "      <td>10</td>\n",
       "      <td>1</td>\n",
       "      <td>3</td>\n",
       "      <td>...</td>\n",
       "      <td>93</td>\n",
       "      <td>13.285714</td>\n",
       "      <td>21.428571</td>\n",
       "      <td>18.750000</td>\n",
       "      <td>253.560581</td>\n",
       "      <td>2.285714</td>\n",
       "      <td>0</td>\n",
       "      <td>0</td>\n",
       "      <td>0</td>\n",
       "      <td>0</td>\n",
       "    </tr>\n",
       "  </tbody>\n",
       "</table>\n",
       "<p>5 rows × 22 columns</p>\n",
       "</div>"
      ],
      "text/plain": [
       "   user_songs  user_likes  user_dislikes  user_playlist  user_friends  \\\n",
       "0         275          17              5              7             4   \n",
       "1         387          21              6              8             4   \n",
       "2           8           0              0              0             0   \n",
       "3        2111         100             21             52            28   \n",
       "4         150           7              1              5             1   \n",
       "\n",
       "   user_downgrades  user_upgrades  user_home  user_error  user_settings  \\\n",
       "0                0              2         11           0              0   \n",
       "1                5              2         20           0              3   \n",
       "2                0              0          0           0              0   \n",
       "3               23              0         75           1             12   \n",
       "4                0              2         10           1              3   \n",
       "\n",
       "   ...    user_acts  acts_per_session  songs_per_session  songs_per_day  \\\n",
       "0  ...          112         16.000000          39.285714      39.285714   \n",
       "1  ...          158         26.333333          64.500000      55.285714   \n",
       "2  ...           11         11.000000           8.000000       8.000000   \n",
       "3  ...          613         61.300000         211.100000     162.384615   \n",
       "4  ...           93         13.285714          21.428571      18.750000   \n",
       "\n",
       "   ave_song_length  ads_per_session  gender  level  downgrade  churn  \n",
       "0       243.421445         7.428571       1      0          0      0  \n",
       "1       242.916992         1.166667       0      1          0      0  \n",
       "2       261.139138         1.000000       0      0          0      1  \n",
       "3       247.880551         0.000000       0      1          0      1  \n",
       "4       253.560581         2.285714       0      0          0      0  \n",
       "\n",
       "[5 rows x 22 columns]"
      ]
     },
     "execution_count": 38,
     "metadata": {},
     "output_type": "execute_result"
    }
   ],
   "source": [
    "df_user_level.toPandas().head()"
   ]
  },
  {
   "cell_type": "markdown",
   "metadata": {},
   "source": [
    "# User behavior and Churn analysis"
   ]
  },
  {
   "cell_type": "markdown",
   "metadata": {},
   "source": [
    "In this session, churn and not churn users will be compared analyzed."
   ]
  },
  {
   "cell_type": "markdown",
   "metadata": {},
   "source": [
    "# `songs_per_day` for Churn and Not Churn users"
   ]
  },
  {
   "cell_type": "code",
   "execution_count": 39,
   "metadata": {},
   "outputs": [
    {
     "data": {
      "text/plain": [
       "Text(0,0.5,'Ave songs Everydays')"
      ]
     },
     "execution_count": 39,
     "metadata": {},
     "output_type": "execute_result"
    },
    {
     "data": {
      "image/png": "[encoded data removed]",
      "text/plain": [
       "<matplotlib.figure.Figure at 0x7efd33a1e4e0>"
      ]
     },
     "metadata": {},
     "output_type": "display_data"
    }
   ],
   "source": [
    "sns.set(rc = {\"figure.figsize\":(12,10)})\n",
    "sns.set(font_scale=1)\n",
    "\n",
    "plt.subplot(1,2,1)\n",
    "# plot two violinplots\n",
    "ax1 = sns.violinplot(x='churn', y = 'songs_per_day', \n",
    "                 data = df_user_level.toPandas())\n",
    "\n",
    "# label the median lines\n",
    "medians = round(df_user_level.toPandas().groupby(['churn'])['songs_per_day'].median(), 2)\n",
    "vertical_offset = df_user_level.toPandas()['songs_per_day'].median() * 0.25 # offset from median\n",
    "\n",
    "for xtick in ax1.get_xticks():\n",
    "    ax1.text(xtick, medians[xtick] + vertical_offset, medians[xtick],\n",
    "      horizontalalignment = \"center\", color = \"w\", weight = \"bold\")\n",
    "\n",
    "# create title and labels\n",
    "plt.title('Average number of songs per day')\n",
    "ax1.set(xticklabels=['Not Churned', 'Churned'])\n",
    "ax1.set_xlabel(\"\")\n",
    "ax1.set_ylabel(\"ave songs Everyday\")\n",
    "\n",
    "\n",
    "plt.subplot(1,2,2)\n",
    "ax2 = sns.boxplot(x='churn', y = 'songs_per_day', \n",
    "                 data = df_user_level.toPandas())\n",
    "\n",
    "for xtick in ax2.get_xticks():\n",
    "    ax2.text(xtick, medians[xtick] + vertical_offset, medians[xtick],\n",
    "      horizontalalignment = \"center\", color = \"w\", weight = \"bold\")\n",
    "    \n",
    "ax2.set(xticklabels=['Not Churned', 'Churned'])\n",
    "ax2.set_xlabel(\"\")\n",
    "ax2.set_ylabel(\"Ave songs Everydays\")"
   ]
  },
  {
   "cell_type": "markdown",
   "metadata": {},
   "source": [
    "# `ave_song_length` for Churn and Not Churn users"
   ]
  },
  {
   "cell_type": "code",
   "execution_count": 40,
   "metadata": {
    "scrolled": false
   },
   "outputs": [
    {
     "data": {
      "text/plain": [
       "Text(0,0.5,'Time for songs Everydays')"
      ]
     },
     "execution_count": 40,
     "metadata": {},
     "output_type": "execute_result"
    },
    {
     "data": {
      "image/png": "[encoded data removed]",
      "text/plain": [
       "<matplotlib.figure.Figure at 0x7efd33a1e4a8>"
      ]
     },
     "metadata": {},
     "output_type": "display_data"
    }
   ],
   "source": [
    "sns.set(rc = {\"figure.figsize\":(12,10)})\n",
    "sns.set(font_scale=1)\n",
    "\n",
    "plt.subplot(1,2,1)\n",
    "# plot two violinplots\n",
    "ax1 = sns.violinplot(x='churn', y = 'ave_song_length', \n",
    "                 data = df_user_level.toPandas())\n",
    "\n",
    "# label the median lines\n",
    "medians = round(df_user_level.toPandas().groupby(['churn'])['ave_song_length'].median(), 2)\n",
    "vertical_offset = df_user_level.toPandas()['ave_song_length'].median() * 0.25 # offset from median\n",
    "\n",
    "for xtick in ax1.get_xticks():\n",
    "    ax1.text(xtick, medians[xtick] + vertical_offset, medians[xtick],\n",
    "      horizontalalignment = \"center\", color = \"w\", weight = \"bold\")\n",
    "\n",
    "# create title and labels\n",
    "plt.title('Average amount of time in listening to music per day')\n",
    "ax1.set(xticklabels=['Not Churned', 'Churned'])\n",
    "ax1.set_xlabel(\"\")\n",
    "ax1.set_ylabel(\"Time for songs Everyday\")\n",
    "\n",
    "\n",
    "plt.subplot(1,2,2)\n",
    "ax2 = sns.boxplot(x='churn', y = 'ave_song_length', \n",
    "                 data = df_user_level.toPandas())\n",
    "\n",
    "for xtick in ax2.get_xticks():\n",
    "    ax2.text(xtick, medians[xtick] + vertical_offset, medians[xtick],\n",
    "      horizontalalignment = \"center\", color = \"w\", weight = \"bold\")\n",
    "    \n",
    "ax2.set(xticklabels=['Not Churned', 'Churned'])\n",
    "ax2.set_xlabel(\"\")\n",
    "ax2.set_ylabel(\"Time for songs Everydays\")"
   ]
  },
  {
   "cell_type": "markdown",
   "metadata": {},
   "source": [
    "# `ads_per_session` for Churn and Not Churn users"
   ]
  },
  {
   "cell_type": "code",
   "execution_count": 41,
   "metadata": {},
   "outputs": [
    {
     "data": {
      "text/plain": [
       "Text(0,0.5,'Count of Ads')"
      ]
     },
     "execution_count": 41,
     "metadata": {},
     "output_type": "execute_result"
    },
    {
     "data": {
      "image/png": "[encoded data removed]",
      "text/plain": [
       "<matplotlib.figure.Figure at 0x7efd331f25f8>"
      ]
     },
     "metadata": {},
     "output_type": "display_data"
    }
   ],
   "source": [
    "sns.set(rc = {\"figure.figsize\":(12,10)})\n",
    "sns.set(font_scale=1)\n",
    "\n",
    "plt.subplot(1,2,1)\n",
    "# plot two violinplots\n",
    "ax1 = sns.violinplot(x='churn', y = 'ads_per_session', \n",
    "                 data = df_user_level.toPandas())\n",
    "\n",
    "# label the median lines\n",
    "medians = round(df_user_level.toPandas().groupby(['churn'])['ads_per_session'].median(), 2)\n",
    "vertical_offset = df_user_level.toPandas()['ads_per_session'].median() * 0.25 # offset from median\n",
    "\n",
    "for xtick in ax1.get_xticks():\n",
    "    ax1.text(xtick, medians[xtick] + vertical_offset, medians[xtick],\n",
    "      horizontalalignment = \"center\", color = \"w\", weight = \"bold\")\n",
    "\n",
    "# create title and labels\n",
    "plt.title('Average Number of Ads per Session')\n",
    "ax1.set(xticklabels=['Not Churned', 'Churned'])\n",
    "ax1.set_xlabel(\"\")\n",
    "ax1.set_ylabel(\"Count of Ads\")\n",
    "\n",
    "\n",
    "plt.subplot(1,2,2)\n",
    "ax2 = sns.boxplot(x='churn', y = 'ads_per_session', \n",
    "                 data = df_user_level.toPandas())\n",
    "\n",
    "for xtick in ax2.get_xticks():\n",
    "    ax2.text(xtick, medians[xtick] + vertical_offset, medians[xtick],\n",
    "      horizontalalignment = \"center\", color = \"w\", weight = \"bold\")\n",
    "    \n",
    "ax2.set(xticklabels=['Not Churned', 'Churned'])\n",
    "ax2.set_xlabel(\"\")\n",
    "ax2.set_ylabel(\"Count of Ads\")"
   ]
  },
  {
   "cell_type": "markdown",
   "metadata": {},
   "source": [
    "Note:\n",
    "A violin plot is two KDE plots aligned on an axis. The \"negative\" values you are seeing are just an artifact of KDEs. They are estimations of values in your data. It's not saying you have negative data, it's saying that your data contains values very close to negative values, namely 0. And thus you have a non-zero estimated probability of selecting a negative value from your dataset."
   ]
  },
  {
   "cell_type": "markdown",
   "metadata": {},
   "source": [
    "From the box plot, we can see that the churn users obviously received more advertisements, but the violin plot shows that there were many churn users distributed in receiving 0 ads. This indicates that they leave the platfrom before they had stayed enough time to receive an ad."
   ]
  },
  {
   "cell_type": "markdown",
   "metadata": {},
   "source": [
    "# `songs_per_session` for Churn and Not Churn users"
   ]
  },
  {
   "cell_type": "code",
   "execution_count": 42,
   "metadata": {
    "scrolled": false
   },
   "outputs": [
    {
     "data": {
      "text/plain": [
       "Text(0,0.5,'Count of Songs')"
      ]
     },
     "execution_count": 42,
     "metadata": {},
     "output_type": "execute_result"
    },
    {
     "data": {
      "image/png": "[encoded data removed]",
      "text/plain": [
       "<matplotlib.figure.Figure at 0x7efd3352b978>"
      ]
     },
     "metadata": {},
     "output_type": "display_data"
    }
   ],
   "source": [
    "sns.set(rc = {\"figure.figsize\":(12,10)})\n",
    "sns.set(font_scale=1)\n",
    "\n",
    "plt.subplot(1,2,1)\n",
    "# plot two violinplots\n",
    "ax1 = sns.violinplot(x='churn', y = 'songs_per_session', \n",
    "                 data = df_user_level.toPandas())\n",
    "\n",
    "# label the median lines\n",
    "medians = round(df_user_level.toPandas().groupby(['churn'])['songs_per_session'].median(), 2)\n",
    "vertical_offset = df_user_level.toPandas()['songs_per_session'].median() * 0.25 # offset from median\n",
    "\n",
    "for xtick in ax1.get_xticks():\n",
    "    ax1.text(xtick, medians[xtick] + vertical_offset, medians[xtick],\n",
    "      horizontalalignment = \"center\", color = \"w\", weight = \"bold\")\n",
    "\n",
    "# create title and labels\n",
    "plt.title('Average Number of Songs per Session')\n",
    "ax1.set(xticklabels=['Not Churned', 'Churned'])\n",
    "ax1.set_xlabel(\"\")\n",
    "ax1.set_ylabel(\"Count of Songs\")\n",
    "\n",
    "\n",
    "plt.subplot(1,2,2)\n",
    "ax2 = sns.boxplot(x='churn', y = 'songs_per_session', \n",
    "                 data = df_user_level.toPandas())\n",
    "\n",
    "for xtick in ax2.get_xticks():\n",
    "    ax2.text(xtick, medians[xtick] + vertical_offset, medians[xtick],\n",
    "      horizontalalignment = \"center\", color = \"w\", weight = \"bold\")\n",
    "    \n",
    "ax2.set(xticklabels=['Not Churned', 'Churned'])\n",
    "ax2.set_xlabel(\"\")\n",
    "ax2.set_ylabel(\"Count of Songs\")"
   ]
  },
  {
   "cell_type": "markdown",
   "metadata": {},
   "source": [
    "Intuitively, users stayed overall listened more songs than those churned. Numerically, churn users also listened many songs.\n",
    "\n",
    "The shapes of the distributions of the two groups of users are similar. "
   ]
  },
  {
   "cell_type": "markdown",
   "metadata": {},
   "source": [
    "# `acts_per_session` for Churn and Not Churn users"
   ]
  },
  {
   "cell_type": "code",
   "execution_count": 43,
   "metadata": {},
   "outputs": [
    {
     "data": {
      "text/plain": [
       "Text(0,0.5,'Count of Acts')"
      ]
     },
     "execution_count": 43,
     "metadata": {},
     "output_type": "execute_result"
    },
    {
     "data": {
      "image/png": "[encoded data removed]",
      "text/plain": [
       "<matplotlib.figure.Figure at 0x7efd32950d68>"
      ]
     },
     "metadata": {},
     "output_type": "display_data"
    }
   ],
   "source": [
    "sns.set(rc = {\"figure.figsize\":(12,10)})\n",
    "sns.set(font_scale=1)\n",
    "\n",
    "plt.subplot(1,2,1)\n",
    "# plot two violinplots\n",
    "ax1 = sns.violinplot(x='churn', y = 'acts_per_session', \n",
    "                 data = df_user_level.toPandas())\n",
    "\n",
    "# label the median lines\n",
    "medians = round(df_user_level.toPandas().groupby(['churn'])['acts_per_session'].median(), 2)\n",
    "vertical_offset = df_user_level.toPandas()['acts_per_session'].median() * 0.25 # offset from median\n",
    "\n",
    "for xtick in ax1.get_xticks():\n",
    "    ax1.text(xtick, medians[xtick] + vertical_offset, medians[xtick],\n",
    "      horizontalalignment = \"center\", color = \"w\", weight = \"bold\")\n",
    "\n",
    "# create title and labels\n",
    "plt.title('Average Number of Act per Session')\n",
    "ax1.set(xticklabels=['Not Churned', 'Churned'])\n",
    "ax1.set_xlabel(\"\")\n",
    "ax1.set_ylabel(\"Count of Acts\")\n",
    "\n",
    "\n",
    "plt.subplot(1,2,2)\n",
    "ax2 = sns.boxplot(x='churn', y = 'acts_per_session', \n",
    "                 data = df_user_level.toPandas())\n",
    "\n",
    "for xtick in ax2.get_xticks():\n",
    "    ax2.text(xtick, medians[xtick] + vertical_offset, medians[xtick],\n",
    "      horizontalalignment = \"center\", color = \"w\", weight = \"bold\")\n",
    "    \n",
    "ax2.set(xticklabels=['Not Churned', 'Churned'])\n",
    "ax2.set_xlabel(\"\")\n",
    "ax2.set_ylabel(\"Count of Acts\")"
   ]
  },
  {
   "cell_type": "markdown",
   "metadata": {},
   "source": [
    "If the outliers were removed, the distributions of the two groups are similar. The median of the two groups are close."
   ]
  },
  {
   "cell_type": "code",
   "execution_count": 44,
   "metadata": {},
   "outputs": [
    {
     "data": {
      "image/png": "[encoded data removed]",
      "text/plain": [
       "<matplotlib.figure.Figure at 0x7efd32dcb5c0>"
      ]
     },
     "metadata": {},
     "output_type": "display_data"
    }
   ],
   "source": [
    "# adjust figure size and font size\n",
    "sns.set(rc = {\"figure.figsize\":(20,20)})\n",
    "sns.set(font_scale=1)\n",
    "\n",
    "# tick labels for x-axis\n",
    "xticklabels = ['Not Churned', 'Churned'];\n",
    "\n",
    "# plot on first row on left\n",
    "plt.subplot(4,2,1)\n",
    "ax1=sns.violinplot(x=\"churn\", y=\"user_likes\",data=df_user_level.toPandas());\n",
    "\n",
    "plt.title(\"Distribution of Likes\");\n",
    "plt.xlabel(\"\")\n",
    "plt.ylabel(\"\");\n",
    "ax1.set_xticks([0, 1])\n",
    "ax1.set_xticklabels(xticklabels);\n",
    "\n",
    "plt.subplot(4,2,2)\n",
    "ax2=sns.boxplot(x=\"churn\", y=\"user_likes\",data=df_user_level.toPandas());\n",
    "\n",
    "plt.title(\"Distribution of Likes\");\n",
    "plt.xlabel(\"\")\n",
    "plt.ylabel(\"\");\n",
    "ax2.set_xticks([0, 1])\n",
    "ax2.set_xticklabels(xticklabels);\n",
    "\n",
    "# plot on first row on right\n",
    "plt.subplot(4,2,3)\n",
    "ax3=sns.violinplot(x=\"churn\", y=\"user_dislikes\",data=df_user_level.toPandas());\n",
    "\n",
    "plt.title(\"Distribution of Dislikes\");\n",
    "plt.xlabel(\"\")\n",
    "plt.ylabel(\"\");\n",
    "ax3.set_xticks([0, 1])\n",
    "ax3.set_xticklabels(xticklabels);\n",
    "\n",
    "plt.subplot(4,2,4)\n",
    "ax4=sns.boxplot(x=\"churn\", y=\"user_dislikes\",data=df_user_level.toPandas());\n",
    "\n",
    "plt.title(\"Distribution of Dislikes\");\n",
    "plt.xlabel(\"\")\n",
    "plt.ylabel(\"\");\n",
    "ax4.set_xticks([0, 1])\n",
    "ax4.set_xticklabels(xticklabels);\n",
    "\n",
    "# plot on second row on left\n",
    "plt.subplot(4,2,5)\n",
    "ax5=sns.violinplot(x='churn', y='user_upgrades',data=df_user_level.toPandas());\n",
    "\n",
    "plt.title(\"Distribution of Upgrades\");\n",
    "plt.xlabel(\"\")\n",
    "plt.ylabel(\"\");\n",
    "ax5.set_xticks([0, 1])\n",
    "ax5.set_xticklabels(xticklabels);\n",
    "\n",
    "plt.subplot(4,2,6)\n",
    "ax6=sns.boxplot(x='churn', y='user_upgrades',data=df_user_level.toPandas());\n",
    "\n",
    "plt.title(\"Distribution of Upgrades\");\n",
    "plt.xlabel(\"\")\n",
    "plt.ylabel(\"\");\n",
    "ax6.set_xticks([0, 1])\n",
    "ax6.set_xticklabels(xticklabels);\n",
    "\n",
    "# plot on second row on right\n",
    "plt.subplot(4,2,7)\n",
    "ax7=sns.violinplot(x=\"churn\", y='user_downgrades',data=df_user_level.toPandas());\n",
    "\n",
    "plt.title(\"Distribution of Downgrades\");\n",
    "plt.xlabel(\"\")\n",
    "plt.ylabel(\"\");\n",
    "ax7.set_xticks([0, 1])\n",
    "ax7.set_xticklabels(xticklabels);\n",
    "\n",
    "plt.subplot(4,2,8)\n",
    "ax8=sns.boxplot(x=\"churn\", y='user_downgrades',data=df_user_level.toPandas());\n",
    "\n",
    "plt.title(\"Distribution of Downgrades\");\n",
    "plt.xlabel(\"\")\n",
    "plt.ylabel(\"\");\n",
    "ax8.set_xticks([0, 1])\n",
    "ax8.set_xticklabels(xticklabels);"
   ]
  },
  {
   "cell_type": "code",
   "execution_count": 45,
   "metadata": {},
   "outputs": [],
   "source": [
    "# df_user_level.groupBy(['churn']).sum('next_songs').show()"
   ]
  },
  {
   "cell_type": "code",
   "execution_count": 46,
   "metadata": {},
   "outputs": [],
   "source": [
    "# # check the user levels\n",
    "# temp = df_churn.groupBy(['churn','level']).agg(countDistinct('userId'))\n",
    "# temp.show()"
   ]
  },
  {
   "cell_type": "code",
   "execution_count": 47,
   "metadata": {},
   "outputs": [],
   "source": [
    "# # check the gender\n",
    "# df_churn.dropDuplicates(['userId']).groupby(['churn', 'gender']).count().show()"
   ]
  },
  {
   "cell_type": "code",
   "execution_count": 48,
   "metadata": {},
   "outputs": [],
   "source": [
    "### Distribution of Churn on Page\n",
    "# # check the page\n",
    "# df_churn.select([\"churn\", \"page\"]).groupby([\"churn\", \"page\"]).count().sort(\"page\").show()"
   ]
  },
  {
   "cell_type": "code",
   "execution_count": 49,
   "metadata": {},
   "outputs": [],
   "source": [
    "# def normalize_data(groupby_data):\n",
    "#     groupby_series = groupby_data.set_index(list(groupby_data.columns[:2]))\n",
    "#     temp = groupby_series.unstack('Churn').fillna(0)\n",
    "#     df = pd.DataFrame(((temp - temp.min()) / (temp.max() - temp.min())).stack()).reset_index()\n",
    "#     df = df.rename(columns={df.columns[-1]:'result'})\n",
    "#     return df"
   ]
  },
  {
   "cell_type": "code",
   "execution_count": 50,
   "metadata": {},
   "outputs": [],
   "source": [
    "# page = df_churn.select([\"page\",\"Churn\"]).groupby([ \"page\",\"Churn\"]).count().toPandas()\n",
    "# page = normalize_data(page)\n",
    "# fig, ax = plt.subplots(figsize=(8,8))\n",
    "# sns.barplot(x=page.result, y=page.page, hue=page.Churn, data=page, ax=ax)"
   ]
  },
  {
   "cell_type": "markdown",
   "metadata": {},
   "source": [
    "# Heat Map checking the feature relevance"
   ]
  },
  {
   "cell_type": "code",
   "execution_count": 51,
   "metadata": {},
   "outputs": [
    {
     "data": {
      "text/plain": [
       "<matplotlib.axes._subplots.AxesSubplot at 0x7efd31e26ef0>"
      ]
     },
     "execution_count": 51,
     "metadata": {},
     "output_type": "execute_result"
    },
    {
     "data": {
      "image/png": "[encoded data removed]",
      "text/plain": [
       "<matplotlib.figure.Figure at 0x7efd31e261d0>"
      ]
     },
     "metadata": {},
     "output_type": "display_data"
    }
   ],
   "source": [
    "f,ax = plt.subplots(figsize=(18, 18))\n",
    "sns.heatmap(df_user_level.toPandas().corr(), annot=True, linewidths=.5, fmt= '.1f',ax=ax)"
   ]
  },
  {
   "cell_type": "markdown",
   "metadata": {},
   "source": [
    "From the heat map, `next_songs`, `user_palylist` and `user_home` are highly correlated among all the features. I first try to remove `user_home` and `user_palylist`."
   ]
  },
  {
   "cell_type": "markdown",
   "metadata": {},
   "source": [
    "## Kendall Rank Correlation Coefficient\n"
   ]
  },
  {
   "cell_type": "markdown",
   "metadata": {},
   "source": [
    "As the user behavior data to `churn` is non-parametric correlated, I use kendall, not pearson correlation, to examine the data."
   ]
  },
  {
   "cell_type": "code",
   "execution_count": 52,
   "metadata": {},
   "outputs": [],
   "source": [
    "kendall_corr = df_user_level.toPandas().corr(method='kendall')"
   ]
  },
  {
   "cell_type": "code",
   "execution_count": 53,
   "metadata": {},
   "outputs": [],
   "source": [
    "churn_kendall_corr = pd.DataFrame(kendall_corr['churn']).reset_index()\n",
    "churn_kendall_corr.columns = ['features', 'kendall_val']"
   ]
  },
  {
   "cell_type": "code",
   "execution_count": 54,
   "metadata": {
    "scrolled": false
   },
   "outputs": [
    {
     "data": {
      "text/html": [
       "<div>\n",
       "<style scoped>\n",
       "    .dataframe tbody tr th:only-of-type {\n",
       "        vertical-align: middle;\n",
       "    }\n",
       "\n",
       "    .dataframe tbody tr th {\n",
       "        vertical-align: top;\n",
       "    }\n",
       "\n",
       "    .dataframe thead th {\n",
       "        text-align: right;\n",
       "    }\n",
       "</style>\n",
       "<table border=\"1\" class=\"dataframe\">\n",
       "  <thead>\n",
       "    <tr style=\"text-align: right;\">\n",
       "      <th></th>\n",
       "      <th>features</th>\n",
       "      <th>kendall_val</th>\n",
       "    </tr>\n",
       "  </thead>\n",
       "  <tbody>\n",
       "    <tr>\n",
       "      <th>1</th>\n",
       "      <td>user_likes</td>\n",
       "      <td>-0.131075</td>\n",
       "    </tr>\n",
       "    <tr>\n",
       "      <th>4</th>\n",
       "      <td>user_friends</td>\n",
       "      <td>-0.129847</td>\n",
       "    </tr>\n",
       "    <tr>\n",
       "      <th>12</th>\n",
       "      <td>user_acts</td>\n",
       "      <td>-0.117817</td>\n",
       "    </tr>\n",
       "    <tr>\n",
       "      <th>0</th>\n",
       "      <td>user_songs</td>\n",
       "      <td>-0.109797</td>\n",
       "    </tr>\n",
       "    <tr>\n",
       "      <th>11</th>\n",
       "      <td>user_sessions</td>\n",
       "      <td>-0.100870</td>\n",
       "    </tr>\n",
       "    <tr>\n",
       "      <th>8</th>\n",
       "      <td>user_error</td>\n",
       "      <td>-0.100035</td>\n",
       "    </tr>\n",
       "    <tr>\n",
       "      <th>3</th>\n",
       "      <td>user_playlist</td>\n",
       "      <td>-0.099596</td>\n",
       "    </tr>\n",
       "    <tr>\n",
       "      <th>7</th>\n",
       "      <td>user_home</td>\n",
       "      <td>-0.097646</td>\n",
       "    </tr>\n",
       "    <tr>\n",
       "      <th>14</th>\n",
       "      <td>songs_per_session</td>\n",
       "      <td>-0.092383</td>\n",
       "    </tr>\n",
       "    <tr>\n",
       "      <th>18</th>\n",
       "      <td>gender</td>\n",
       "      <td>-0.083996</td>\n",
       "    </tr>\n",
       "    <tr>\n",
       "      <th>20</th>\n",
       "      <td>downgrade</td>\n",
       "      <td>-0.068435</td>\n",
       "    </tr>\n",
       "    <tr>\n",
       "      <th>16</th>\n",
       "      <td>ave_song_length</td>\n",
       "      <td>-0.055344</td>\n",
       "    </tr>\n",
       "    <tr>\n",
       "      <th>5</th>\n",
       "      <td>user_downgrades</td>\n",
       "      <td>-0.052575</td>\n",
       "    </tr>\n",
       "    <tr>\n",
       "      <th>9</th>\n",
       "      <td>user_settings</td>\n",
       "      <td>-0.049638</td>\n",
       "    </tr>\n",
       "    <tr>\n",
       "      <th>15</th>\n",
       "      <td>songs_per_day</td>\n",
       "      <td>-0.048242</td>\n",
       "    </tr>\n",
       "    <tr>\n",
       "      <th>19</th>\n",
       "      <td>level</td>\n",
       "      <td>-0.044559</td>\n",
       "    </tr>\n",
       "    <tr>\n",
       "      <th>2</th>\n",
       "      <td>user_dislikes</td>\n",
       "      <td>0.006188</td>\n",
       "    </tr>\n",
       "    <tr>\n",
       "      <th>6</th>\n",
       "      <td>user_upgrades</td>\n",
       "      <td>0.010185</td>\n",
       "    </tr>\n",
       "    <tr>\n",
       "      <th>13</th>\n",
       "      <td>acts_per_session</td>\n",
       "      <td>0.016626</td>\n",
       "    </tr>\n",
       "    <tr>\n",
       "      <th>10</th>\n",
       "      <td>user_ads</td>\n",
       "      <td>0.044939</td>\n",
       "    </tr>\n",
       "    <tr>\n",
       "      <th>17</th>\n",
       "      <td>ads_per_session</td>\n",
       "      <td>0.117615</td>\n",
       "    </tr>\n",
       "    <tr>\n",
       "      <th>21</th>\n",
       "      <td>churn</td>\n",
       "      <td>1.000000</td>\n",
       "    </tr>\n",
       "  </tbody>\n",
       "</table>\n",
       "</div>"
      ],
      "text/plain": [
       "             features  kendall_val\n",
       "1          user_likes    -0.131075\n",
       "4        user_friends    -0.129847\n",
       "12          user_acts    -0.117817\n",
       "0          user_songs    -0.109797\n",
       "11      user_sessions    -0.100870\n",
       "8          user_error    -0.100035\n",
       "3       user_playlist    -0.099596\n",
       "7           user_home    -0.097646\n",
       "14  songs_per_session    -0.092383\n",
       "18             gender    -0.083996\n",
       "20          downgrade    -0.068435\n",
       "16    ave_song_length    -0.055344\n",
       "5     user_downgrades    -0.052575\n",
       "9       user_settings    -0.049638\n",
       "15      songs_per_day    -0.048242\n",
       "19              level    -0.044559\n",
       "2       user_dislikes     0.006188\n",
       "6       user_upgrades     0.010185\n",
       "13   acts_per_session     0.016626\n",
       "10           user_ads     0.044939\n",
       "17    ads_per_session     0.117615\n",
       "21              churn     1.000000"
      ]
     },
     "execution_count": 54,
     "metadata": {},
     "output_type": "execute_result"
    }
   ],
   "source": [
    "churn_kendall_corr.sort_values('kendall_val')"
   ]
  },
  {
   "cell_type": "markdown",
   "metadata": {},
   "source": [
    "From the table we can see that `user_dislikes` and `user_upgrades` have least correlations among those features with `churn`."
   ]
  },
  {
   "cell_type": "markdown",
   "metadata": {},
   "source": [
    "# Metrics"
   ]
  },
  {
   "cell_type": "markdown",
   "metadata": {},
   "source": [
    "- Confusion Matrix\n",
    "- Precision and Recall\n",
    "- F1 score"
   ]
  },
  {
   "cell_type": "markdown",
   "metadata": {},
   "source": [
    "#### Confusion Matrix"
   ]
  },
  {
   "cell_type": "markdown",
   "metadata": {},
   "source": [
    "This project is a supervised machine learning classification task, there will be TP, FP, FN, TN - four different prediction outcomes."
   ]
  },
  {
   "cell_type": "markdown",
   "metadata": {},
   "source": [
    "A true positive(TP) is an outcome where the model correctly predicts the positive class. Similarly, a true negative(TN) is an outcome where the model correctly predicts the negative class.\n",
    "\n",
    "A false positive(FP) is an outcome where the model incorrectly predicts the positive class. And a false negative(FN) is an outcome where the model incorrectly predicts the negative class."
   ]
  },
  {
   "cell_type": "markdown",
   "metadata": {},
   "source": [
    "Confusion Matrix gives us a clear view of TP, FP, FN, TN."
   ]
  },
  {
   "cell_type": "markdown",
   "metadata": {},
   "source": [
    "#### Precision and Recall"
   ]
  },
  {
   "cell_type": "markdown",
   "metadata": {},
   "source": [
    "The `precision` indicates the number of real churn users be identified among the churn users identified by the algorithms.\n",
    "\n",
    "$$precision = \\frac{TP}{TP+FP}$$"
   ]
  },
  {
   "cell_type": "markdown",
   "metadata": {},
   "source": [
    "The `recall` indicates the number of real churn users be identified among all actual churn users.\n",
    "\n",
    "$$recall = \\frac{TP}{TP+FN}$$"
   ]
  },
  {
   "cell_type": "markdown",
   "metadata": {},
   "source": [
    "#### F1-SCORE"
   ]
  },
  {
   "cell_type": "markdown",
   "metadata": {},
   "source": [
    "`F1-score` is the combination of `precision` and `reall`, it can indicate, in the extreme case, that model has bias.\n",
    "\n",
    "$$F1 = 2 * \\frac{Precision * Recall}{Precision + Recall}$$"
   ]
  },
  {
   "cell_type": "markdown",
   "metadata": {},
   "source": [
    "# Modeling and Evaluation"
   ]
  },
  {
   "cell_type": "markdown",
   "metadata": {},
   "source": [
    "1. split the dataset into train and test datasets\n",
    "2. data standardisation\n",
    "3. define matrics\n",
    "4. init models\n",
    "5. build training pipelines\n",
    "6. train models and get evaluations\n"
   ]
  },
  {
   "cell_type": "code",
   "execution_count": 55,
   "metadata": {},
   "outputs": [],
   "source": [
    "from sklearn.ensemble import RandomForestClassifier, GradientBoostingClassifier\n",
    "from sklearn.linear_model import LogisticRegression\n",
    "from sklearn.model_selection import GridSearchCV, train_test_split\n",
    "from sklearn.preprocessing import StandardScaler\n",
    "import lightgbm as lgb"
   ]
  },
  {
   "cell_type": "code",
   "execution_count": 56,
   "metadata": {},
   "outputs": [],
   "source": [
    "pd_df_user_level = df_user_level.toPandas()"
   ]
  },
  {
   "cell_type": "code",
   "execution_count": 57,
   "metadata": {},
   "outputs": [
    {
     "data": {
      "text/html": [
       "<div>\n",
       "<style scoped>\n",
       "    .dataframe tbody tr th:only-of-type {\n",
       "        vertical-align: middle;\n",
       "    }\n",
       "\n",
       "    .dataframe tbody tr th {\n",
       "        vertical-align: top;\n",
       "    }\n",
       "\n",
       "    .dataframe thead th {\n",
       "        text-align: right;\n",
       "    }\n",
       "</style>\n",
       "<table border=\"1\" class=\"dataframe\">\n",
       "  <thead>\n",
       "    <tr style=\"text-align: right;\">\n",
       "      <th></th>\n",
       "      <th>user_songs</th>\n",
       "      <th>user_likes</th>\n",
       "      <th>user_dislikes</th>\n",
       "      <th>user_playlist</th>\n",
       "      <th>user_friends</th>\n",
       "      <th>user_downgrades</th>\n",
       "      <th>user_upgrades</th>\n",
       "      <th>user_home</th>\n",
       "      <th>user_error</th>\n",
       "      <th>user_settings</th>\n",
       "      <th>...</th>\n",
       "      <th>user_acts</th>\n",
       "      <th>acts_per_session</th>\n",
       "      <th>songs_per_session</th>\n",
       "      <th>songs_per_day</th>\n",
       "      <th>ave_song_length</th>\n",
       "      <th>ads_per_session</th>\n",
       "      <th>gender</th>\n",
       "      <th>level</th>\n",
       "      <th>downgrade</th>\n",
       "      <th>churn</th>\n",
       "    </tr>\n",
       "  </thead>\n",
       "  <tbody>\n",
       "    <tr>\n",
       "      <th>0</th>\n",
       "      <td>275</td>\n",
       "      <td>17</td>\n",
       "      <td>5</td>\n",
       "      <td>7</td>\n",
       "      <td>4</td>\n",
       "      <td>0</td>\n",
       "      <td>2</td>\n",
       "      <td>11</td>\n",
       "      <td>0</td>\n",
       "      <td>0</td>\n",
       "      <td>...</td>\n",
       "      <td>112</td>\n",
       "      <td>16.000000</td>\n",
       "      <td>39.285714</td>\n",
       "      <td>39.285714</td>\n",
       "      <td>243.421445</td>\n",
       "      <td>7.428571</td>\n",
       "      <td>1</td>\n",
       "      <td>0</td>\n",
       "      <td>0</td>\n",
       "      <td>0</td>\n",
       "    </tr>\n",
       "    <tr>\n",
       "      <th>1</th>\n",
       "      <td>387</td>\n",
       "      <td>21</td>\n",
       "      <td>6</td>\n",
       "      <td>8</td>\n",
       "      <td>4</td>\n",
       "      <td>5</td>\n",
       "      <td>2</td>\n",
       "      <td>20</td>\n",
       "      <td>0</td>\n",
       "      <td>3</td>\n",
       "      <td>...</td>\n",
       "      <td>158</td>\n",
       "      <td>26.333333</td>\n",
       "      <td>64.500000</td>\n",
       "      <td>55.285714</td>\n",
       "      <td>242.916992</td>\n",
       "      <td>1.166667</td>\n",
       "      <td>0</td>\n",
       "      <td>1</td>\n",
       "      <td>0</td>\n",
       "      <td>0</td>\n",
       "    </tr>\n",
       "    <tr>\n",
       "      <th>2</th>\n",
       "      <td>8</td>\n",
       "      <td>0</td>\n",
       "      <td>0</td>\n",
       "      <td>0</td>\n",
       "      <td>0</td>\n",
       "      <td>0</td>\n",
       "      <td>0</td>\n",
       "      <td>0</td>\n",
       "      <td>0</td>\n",
       "      <td>0</td>\n",
       "      <td>...</td>\n",
       "      <td>11</td>\n",
       "      <td>11.000000</td>\n",
       "      <td>8.000000</td>\n",
       "      <td>8.000000</td>\n",
       "      <td>261.139138</td>\n",
       "      <td>1.000000</td>\n",
       "      <td>0</td>\n",
       "      <td>0</td>\n",
       "      <td>0</td>\n",
       "      <td>1</td>\n",
       "    </tr>\n",
       "    <tr>\n",
       "      <th>3</th>\n",
       "      <td>2111</td>\n",
       "      <td>100</td>\n",
       "      <td>21</td>\n",
       "      <td>52</td>\n",
       "      <td>28</td>\n",
       "      <td>23</td>\n",
       "      <td>0</td>\n",
       "      <td>75</td>\n",
       "      <td>1</td>\n",
       "      <td>12</td>\n",
       "      <td>...</td>\n",
       "      <td>613</td>\n",
       "      <td>61.300000</td>\n",
       "      <td>211.100000</td>\n",
       "      <td>162.384615</td>\n",
       "      <td>247.880551</td>\n",
       "      <td>0.000000</td>\n",
       "      <td>0</td>\n",
       "      <td>1</td>\n",
       "      <td>0</td>\n",
       "      <td>1</td>\n",
       "    </tr>\n",
       "    <tr>\n",
       "      <th>4</th>\n",
       "      <td>150</td>\n",
       "      <td>7</td>\n",
       "      <td>1</td>\n",
       "      <td>5</td>\n",
       "      <td>1</td>\n",
       "      <td>0</td>\n",
       "      <td>2</td>\n",
       "      <td>10</td>\n",
       "      <td>1</td>\n",
       "      <td>3</td>\n",
       "      <td>...</td>\n",
       "      <td>93</td>\n",
       "      <td>13.285714</td>\n",
       "      <td>21.428571</td>\n",
       "      <td>18.750000</td>\n",
       "      <td>253.560581</td>\n",
       "      <td>2.285714</td>\n",
       "      <td>0</td>\n",
       "      <td>0</td>\n",
       "      <td>0</td>\n",
       "      <td>0</td>\n",
       "    </tr>\n",
       "  </tbody>\n",
       "</table>\n",
       "<p>5 rows × 22 columns</p>\n",
       "</div>"
      ],
      "text/plain": [
       "   user_songs  user_likes  user_dislikes  user_playlist  user_friends  \\\n",
       "0         275          17              5              7             4   \n",
       "1         387          21              6              8             4   \n",
       "2           8           0              0              0             0   \n",
       "3        2111         100             21             52            28   \n",
       "4         150           7              1              5             1   \n",
       "\n",
       "   user_downgrades  user_upgrades  user_home  user_error  user_settings  \\\n",
       "0                0              2         11           0              0   \n",
       "1                5              2         20           0              3   \n",
       "2                0              0          0           0              0   \n",
       "3               23              0         75           1             12   \n",
       "4                0              2         10           1              3   \n",
       "\n",
       "   ...    user_acts  acts_per_session  songs_per_session  songs_per_day  \\\n",
       "0  ...          112         16.000000          39.285714      39.285714   \n",
       "1  ...          158         26.333333          64.500000      55.285714   \n",
       "2  ...           11         11.000000           8.000000       8.000000   \n",
       "3  ...          613         61.300000         211.100000     162.384615   \n",
       "4  ...           93         13.285714          21.428571      18.750000   \n",
       "\n",
       "   ave_song_length  ads_per_session  gender  level  downgrade  churn  \n",
       "0       243.421445         7.428571       1      0          0      0  \n",
       "1       242.916992         1.166667       0      1          0      0  \n",
       "2       261.139138         1.000000       0      0          0      1  \n",
       "3       247.880551         0.000000       0      1          0      1  \n",
       "4       253.560581         2.285714       0      0          0      0  \n",
       "\n",
       "[5 rows x 22 columns]"
      ]
     },
     "execution_count": 57,
     "metadata": {},
     "output_type": "execute_result"
    }
   ],
   "source": [
    "pd_df_user_level.head()"
   ]
  },
  {
   "cell_type": "code",
   "execution_count": 60,
   "metadata": {},
   "outputs": [],
   "source": [
    "pd_df_user_level.drop(['user_dislikes', 'user_upgrades'], axis=1, inplace=True)"
   ]
  },
  {
   "cell_type": "code",
   "execution_count": 79,
   "metadata": {},
   "outputs": [],
   "source": [
    "def extract_training_features(data_frame, response=None):\n",
    "    \"\"\"\n",
    "    Extract the features that will be used for model training\n",
    "    \n",
    "    Input:\n",
    "            data_frame: the dataframe that stores the data\n",
    "            response: an array that contains all the features\n",
    "    Output:\n",
    "            data_frame[response]: the dataframe with features required\n",
    "    \"\"\"\n",
    "    if response is None:\n",
    "        response = ['user_songs',\n",
    "                     'user_likes',\n",
    "#                      'user_dislikes',\n",
    "                     'user_playlist',\n",
    "                     'user_friends',\n",
    "                     'user_downgrades',\n",
    "#                      'user_upgrades',\n",
    "                     'user_home',\n",
    "                     'user_error',\n",
    "                     'user_settings',\n",
    "                     'user_ads',\n",
    "                     'user_sessions',\n",
    "                     'user_acts',\n",
    "                     'acts_per_session',\n",
    "                     'songs_per_session',\n",
    "                     'songs_per_day',\n",
    "                     'ave_song_length',\n",
    "                     'ads_per_session',\n",
    "                     'gender',\n",
    "                     'level',\n",
    "                     'downgrade']\n",
    "        \n",
    "    return data_frame[response]"
   ]
  },
  {
   "cell_type": "code",
   "execution_count": 80,
   "metadata": {},
   "outputs": [],
   "source": [
    "def perform_data_splitting(data_frame):\n",
    "    \"\"\"\n",
    "    input:\n",
    "              data_frame: pandas dataframe\n",
    "              response: string of response name [optional argument that could be used for naming variables or\n",
    "              index y column]\n",
    "    output:\n",
    "              X_train: x training data\n",
    "              X_test: x testing data\n",
    "              y_train: y training data\n",
    "              y_test: y testing data\n",
    "    \"\"\"\n",
    "\n",
    "    label_data = data_frame['churn']\n",
    "    train_data = extract_training_features(data_frame)\n",
    "\n",
    "    x_train, x_test, y_train, y_test = train_test_split(train_data, label_data, test_size=0.3, random_state=42)\n",
    "    return x_train, x_test, y_train, y_test"
   ]
  },
  {
   "cell_type": "code",
   "execution_count": 81,
   "metadata": {},
   "outputs": [],
   "source": [
    "def data_standarization(x_train, x_test):\n",
    "    \"\"\"\n",
    "    Standarize the non-categorical features\n",
    "    \n",
    "    input:\n",
    "            x_train: pandas dataframe, the training data set\n",
    "            y_train: pandas dataframe, the testing data set\n",
    "            \n",
    "    output:\n",
    "            x_train: standarized x_train\n",
    "            y_train: standarized y_train\n",
    "    \"\"\"\n",
    "    \n",
    "    categorical_feature = 'level'\n",
    "    \n",
    "    non_categorical_features = list(x_train.columns)\n",
    "    non_categorical_features.remove('level')\n",
    "    \n",
    "    sc = StandardScaler()\n",
    "    x_train[non_categorical_features] = sc.fit_transform(x_train[non_categorical_features])\n",
    "    x_test[non_categorical_features] = sc.transform (x_test[non_categorical_features])\n",
    "    \n",
    "    return x_train, x_test\n",
    "    "
   ]
  },
  {
   "cell_type": "code",
   "execution_count": 82,
   "metadata": {},
   "outputs": [],
   "source": [
    "from sklearn.metrics import accuracy_score\n",
    "from sklearn.metrics import precision_score\n",
    "from sklearn.metrics import recall_score\n",
    "from sklearn.metrics import f1_score\n",
    "from sklearn.metrics import confusion_matrix"
   ]
  },
  {
   "cell_type": "code",
   "execution_count": 88,
   "metadata": {},
   "outputs": [],
   "source": [
    "def model_evaluation_result(model_name, data):\n",
    "    \"\"\"\n",
    "    print out the evaluation result and store them in a dictionary\n",
    "    \n",
    "    input:\n",
    "            model_name: str\n",
    "            data: \n",
    "                a list contains \n",
    "                    y_train: label data in train dataset\n",
    "                    y_test: label data in test dataset\n",
    "                    y_train_predictions: train dataset predictions \n",
    "                    y_test_predictions: test dataset predictions\n",
    "    \"\"\"\n",
    "    y_train, y_test, y_train_predictions, y_test_predictions = data\n",
    "\n",
    "    score1 = precision_score(y_train, y_train_predictions, average='binary')\n",
    "    score2 = recall_score(y_train, y_train_predictions, average='binary')\n",
    "    score3 = f1_score(y_train, y_train_predictions, average='binary')\n",
    "    score4 = accuracy_score(y_train, y_train_predictions)\n",
    "    mat_ = confusion_matrix(y_train, y_train_predictions)\n",
    "    print('----------------------------------')\n",
    "    \n",
    "    print(model_name, \":\")\n",
    "    print('Training Process:')\n",
    "    print(f'Precision_score: {\"%.2f\" % score1}')\n",
    "    print(f'Recall_score: {\"%.2f\" % score2}')\n",
    "    print(f'F1_score: {\"%.2f\" % score3}')\n",
    "    print('confusion_matrix')\n",
    "    print(mat_)\n",
    "          \n",
    "    score1 = precision_score(y_test, y_test_predictions, average='binary')\n",
    "    score2 = recall_score(y_test, y_test_predictions, average='binary')\n",
    "    score3 = f1_score(y_test, y_test_predictions, average='binary')\n",
    "    score4 = accuracy_score(y_test, y_test_predictions)\n",
    "    mat_ = confusion_matrix(y_test, y_test_predictions)\n",
    "    \n",
    "    print(model_name, \":\")\n",
    "    print('Testing process:')\n",
    "    print(f'Accuracy_score: {\"%.2f\" % score4}')\n",
    "    print(f'Precision_score: {\"%.2f\" % score1}')\n",
    "    print(f'Recall_score: {\"%.2f\" % score2}')\n",
    "    print(f'F1_score: {\"%.2f\" % score3}')\n",
    "    print('confusion_matrix')\n",
    "    print(mat_)\n",
    "    return [score1, score2, score3]"
   ]
  },
  {
   "cell_type": "code",
   "execution_count": 89,
   "metadata": {},
   "outputs": [],
   "source": [
    "def init_models():\n",
    "    \"\"\"\n",
    "    model initiation\n",
    "    \n",
    "    input:\n",
    "              None\n",
    "    output:\n",
    "              initiated cv_lrc, cv_clf, and rfc models\n",
    "    \"\"\"\n",
    "\n",
    "    param_grid = {\n",
    "        'n_estimators': [200, 500],\n",
    "        'max_features': ['auto', 'sqrt'],\n",
    "        'max_depth': [4, 5, 100],\n",
    "        'criterion': ['gini', 'entropy']\n",
    "    }\n",
    "\n",
    "    # cv_rfc\n",
    "    # reference: https://medium.com/all-things-ai/in-depth-parameter-tuning-for-gradient-boosting-3363992e9bae\n",
    "    rfc = RandomForestClassifier(random_state=42)\n",
    "    cv_rfc = GridSearchCV(estimator=rfc, param_grid=param_grid, cv=5)\n",
    "    \n",
    "    param_grid= {\n",
    "        'n_estimators': [200, 500],\n",
    "        'max_features': ['auto', 'sqrt'],\n",
    "        'max_depth': [4, 5, 100],\n",
    "        'criterion': ['friedman_mse']\n",
    "    }\n",
    "    \n",
    "    # cv_clf\n",
    "    clf = GradientBoostingClassifier(random_state=42)\n",
    "    cv_clf = GridSearchCV(clf, param_grid=param_grid, cv=5)\n",
    "    \n",
    "    # lrc\n",
    "    lrc = LogisticRegression()\n",
    "\n",
    "\n",
    "    # lgbm\n",
    "    param_grid= {\n",
    "        'objective':['binary'],\n",
    "        'max_depth': [4, 5, 100],\n",
    "    }\n",
    "    \n",
    "    lgbm=lgb.LGBMClassifier(random_state=42)\n",
    "    cv_lgbm = GridSearchCV(lgbm, param_grid=param_grid, cv=5)\n",
    "    return cv_rfc, cv_clf, lrc, cv_lgbm\n"
   ]
  },
  {
   "cell_type": "code",
   "execution_count": 90,
   "metadata": {},
   "outputs": [],
   "source": [
    "def store_models(model_name, pth):\n",
    "    \"\"\"\n",
    "    store models\n",
    "    input:\n",
    "            model\n",
    "    output:\n",
    "            None\n",
    "    \"\"\"\n",
    "    joblib.dump(model_name, pth)"
   ]
  },
  {
   "cell_type": "code",
   "execution_count": 91,
   "metadata": {},
   "outputs": [],
   "source": [
    "def train_models(data, models=None):\n",
    "    \"\"\"\n",
    "    train, store model results: images + scores, and store models\n",
    "    input:\n",
    "            data: an array that contains data below\n",
    "            1) x_train: x training data\n",
    "            2) x_test: x testing data\n",
    "            3) y_train: y training data\n",
    "            4) y_test: y testing data\n",
    "    output:\n",
    "            model_dict: an dictionary storing the model names and the corresponding models\n",
    "            key - model names - string\n",
    "            value - model\n",
    "    \"\"\"\n",
    "    if models is None:\n",
    "        models = ['lrc', 'clf', 'rfc', 'lgbm']\n",
    "\n",
    "    x_train, x_test, y_train, y_test = data\n",
    "    x_train, x_test = data_standarization(x_train, x_test)\n",
    "    \n",
    "    model_dict = dict()\n",
    "    model_result_dict = dict()\n",
    "    cv_rfc, cv_clf, lrc, cv_lgbm = init_models()\n",
    "    \n",
    "    if 'lrc' in models:\n",
    "        lrc.fit(x_train, y_train)\n",
    "#         store_models(lrc, './models/logistic_model.pkl')\n",
    "        model_dict['lrc'] = lrc\n",
    "\n",
    "        y_train_predictions_lr = lrc.predict(x_train)\n",
    "        y_test_predictions_lr = lrc.predict(x_test)\n",
    "        data = [y_train, y_test, y_train_predictions_lr, y_test_predictions_lr]\n",
    "        model_result_dict['lrc'] = model_evaluation_result('Logistic_Regression', data)\n",
    "\n",
    "    if 'clf' in models:\n",
    "        cv_clf.fit(x_train, y_train)\n",
    "#         store_models(cv_clf.best_estimator_, './models/gb_model.pkl')\n",
    "        model_dict['clf'] = cv_clf.best_estimator_\n",
    "\n",
    "        y_train_predictions_gb = cv_clf.best_estimator_.predict(x_train)\n",
    "        y_test_predictions_gb = cv_clf.best_estimator_.predict(x_test)\n",
    "        data = [y_train, y_test, y_train_predictions_gb, y_test_predictions_gb]\n",
    "        model_result_dict['clf'] = model_evaluation_result('Gradient_Boosting', data)\n",
    "        \n",
    "    if 'rfc' in models:\n",
    "        cv_rfc.fit(x_train, y_train)\n",
    "#         store_models(cv_rfc.best_estimator_, './models/rfc_model.pkl')\n",
    "        model_dict['rfc'] = cv_rfc.best_estimator_\n",
    "\n",
    "        y_train_predictions_rf = cv_rfc.best_estimator_.predict(x_train)\n",
    "        y_test_predictions_rf = cv_rfc.best_estimator_.predict(x_test)\n",
    "        data = [y_train, y_test, y_train_predictions_rf, y_test_predictions_rf]\n",
    "        model_result_dict['rfc'] = model_evaluation_result('Random_Forest', data)\n",
    "\n",
    "    if 'lgbm' in models:\n",
    "        cv_lgbm.fit(x_train, y_train)\n",
    "#         store_models(cv_rfc.best_estimator_, './models/rfc_model.pkl')\n",
    "        model_dict['lgbm'] = cv_lgbm.best_estimator_\n",
    "\n",
    "        y_train_predictions_lgbm = cv_lgbm.best_estimator_.predict(x_train)\n",
    "        y_test_predictions_lgbm = cv_lgbm.best_estimator_.predict(x_test)\n",
    "        data = [y_train, y_test, y_train_predictions_lgbm, y_test_predictions_lgbm]\n",
    "        model_result_dict['lgbm'] = model_evaluation_result('Light_GBM', data)\n",
    "    # ---------- save roc graphs ----------\n",
    "#     save_roc_curves(model_dict, x_test, y_test)\n",
    "\n",
    "    return model_dict, model_result_dict"
   ]
  },
  {
   "cell_type": "code",
   "execution_count": 92,
   "metadata": {
    "scrolled": false
   },
   "outputs": [
    {
     "name": "stdout",
     "output_type": "stream",
     "text": [
      "----------------------------------\n",
      "Logistic_Regression :\n",
      "Training Process:\n",
      "Precision_score: 0.67\n",
      "Recall_score: 0.24\n",
      "F1_score: 0.36\n",
      "confusion_matrix\n",
      "[[107   4]\n",
      " [ 25   8]]\n",
      "Logistic_Regression :\n",
      "Testing process:\n",
      "Accuracy_score: 0.73\n",
      "Precision_score: 0.50\n",
      "Recall_score: 0.06\n",
      "F1_score: 0.11\n",
      "confusion_matrix\n",
      "[[45  1]\n",
      " [16  1]]\n",
      "----------------------------------\n",
      "Gradient_Boosting :\n",
      "Training Process:\n",
      "Precision_score: 1.00\n",
      "Recall_score: 1.00\n",
      "F1_score: 1.00\n",
      "confusion_matrix\n",
      "[[111   0]\n",
      " [  0  33]]\n",
      "Gradient_Boosting :\n",
      "Testing process:\n",
      "Accuracy_score: 0.67\n",
      "Precision_score: 0.17\n",
      "Recall_score: 0.06\n",
      "F1_score: 0.09\n",
      "confusion_matrix\n",
      "[[41  5]\n",
      " [16  1]]\n",
      "----------------------------------\n",
      "Random_Forest :\n",
      "Training Process:\n",
      "Precision_score: 1.00\n",
      "Recall_score: 0.39\n",
      "F1_score: 0.57\n",
      "confusion_matrix\n",
      "[[111   0]\n",
      " [ 20  13]]\n",
      "Random_Forest :\n",
      "Testing process:\n",
      "Accuracy_score: 0.71\n",
      "Precision_score: 0.00\n",
      "Recall_score: 0.00\n",
      "F1_score: 0.00\n",
      "confusion_matrix\n",
      "[[45  1]\n",
      " [17  0]]\n",
      "----------------------------------\n",
      "Light_GBM :\n",
      "Training Process:\n",
      "Precision_score: 1.00\n",
      "Recall_score: 1.00\n",
      "F1_score: 1.00\n",
      "confusion_matrix\n",
      "[[111   0]\n",
      " [  0  33]]\n",
      "Light_GBM :\n",
      "Testing process:\n",
      "Accuracy_score: 0.65\n",
      "Precision_score: 0.00\n",
      "Recall_score: 0.00\n",
      "F1_score: 0.00\n",
      "confusion_matrix\n",
      "[[41  5]\n",
      " [17  0]]\n"
     ]
    }
   ],
   "source": [
    "X_TRAIN, X_TEST, Y_TRAIN, Y_TEST = perform_data_splitting(pd_df_user_level)\n",
    "model_dict, model_result_dict = train_models([X_TRAIN, X_TEST, Y_TRAIN, Y_TEST], ['lrc', 'clf', 'rfc', 'lgbm'])"
   ]
  },
  {
   "cell_type": "code",
   "execution_count": 97,
   "metadata": {
    "scrolled": true
   },
   "outputs": [
    {
     "data": {
      "text/html": [
       "<div>\n",
       "<style scoped>\n",
       "    .dataframe tbody tr th:only-of-type {\n",
       "        vertical-align: middle;\n",
       "    }\n",
       "\n",
       "    .dataframe tbody tr th {\n",
       "        vertical-align: top;\n",
       "    }\n",
       "\n",
       "    .dataframe thead th {\n",
       "        text-align: right;\n",
       "    }\n",
       "</style>\n",
       "<table border=\"1\" class=\"dataframe\">\n",
       "  <thead>\n",
       "    <tr style=\"text-align: right;\">\n",
       "      <th></th>\n",
       "      <th>model</th>\n",
       "      <th>Accuracy_score</th>\n",
       "      <th>Precision_score</th>\n",
       "      <th>Recall_score</th>\n",
       "      <th>F1_score</th>\n",
       "    </tr>\n",
       "  </thead>\n",
       "  <tbody>\n",
       "    <tr>\n",
       "      <th>0</th>\n",
       "      <td>Logistic_Regression</td>\n",
       "      <td>0.73</td>\n",
       "      <td>0.50</td>\n",
       "      <td>0.06</td>\n",
       "      <td>0.11</td>\n",
       "    </tr>\n",
       "    <tr>\n",
       "      <th>1</th>\n",
       "      <td>Gradient_Boosting</td>\n",
       "      <td>0.67</td>\n",
       "      <td>0.17</td>\n",
       "      <td>0.06</td>\n",
       "      <td>0.09</td>\n",
       "    </tr>\n",
       "    <tr>\n",
       "      <th>2</th>\n",
       "      <td>Random_Forest</td>\n",
       "      <td>0.71</td>\n",
       "      <td>0.00</td>\n",
       "      <td>0.00</td>\n",
       "      <td>0.00</td>\n",
       "    </tr>\n",
       "    <tr>\n",
       "      <th>3</th>\n",
       "      <td>Light_GBM</td>\n",
       "      <td>0.65</td>\n",
       "      <td>0.00</td>\n",
       "      <td>0.00</td>\n",
       "      <td>0.00</td>\n",
       "    </tr>\n",
       "  </tbody>\n",
       "</table>\n",
       "</div>"
      ],
      "text/plain": [
       "                 model  Accuracy_score  Precision_score  Recall_score  \\\n",
       "0  Logistic_Regression            0.73             0.50          0.06   \n",
       "1    Gradient_Boosting            0.67             0.17          0.06   \n",
       "2        Random_Forest            0.71             0.00          0.00   \n",
       "3           Light_GBM             0.65             0.00          0.00   \n",
       "\n",
       "   F1_score  \n",
       "0      0.11  \n",
       "1      0.09  \n",
       "2      0.00  \n",
       "3      0.00  "
      ]
     },
     "execution_count": 97,
     "metadata": {},
     "output_type": "execute_result"
    }
   ],
   "source": [
    "pd.DataFrame({\n",
    "    \"model\": [\"Logistic_Regression\", \"Gradient_Boosting\", \"Random_Forest\", \"Light_GBM \"],\n",
    "    \"Accuracy_score\": [0.73, 0.67, 0.71, 0.65],\n",
    "    \"Precision_score\": [0.5, 0.17, 0 ,0],\n",
    "    \"Recall_score\": [0.06, 0.06, 0, 0],\n",
    "    \"F1_score\": [0.11, 0.09, 0, 0]\n",
    "    \n",
    "})"
   ]
  },
  {
   "cell_type": "markdown",
   "metadata": {},
   "source": [
    "# Conclusion"
   ]
  },
  {
   "cell_type": "markdown",
   "metadata": {},
   "source": [
    "From the prediction result above, we can see that the models are obviously overfitted. They performances on testset are poor. This is because the data for training model is samll. After feature engineering, there are only hunderds of records can be used for model training.\n",
    "\n",
    "It is expected to use the large dataset(12G) with comparatively complete information that the models could learn."
   ]
  },
  {
   "cell_type": "markdown",
   "metadata": {},
   "source": [
    "# Improvement"
   ]
  },
  {
   "cell_type": "markdown",
   "metadata": {},
   "source": [
    "Because there is only small portion of churn users among all the users, this is a imbalanced classification task. Oversampling and adjusting the loss function could alleviate the issue."
   ]
  },
  {
   "cell_type": "code",
   "execution_count": 98,
   "metadata": {},
   "outputs": [
    {
     "name": "stdout",
     "output_type": "stream",
     "text": [
      "processor\t: 0\r\n",
      "vendor_id\t: GenuineIntel\r\n",
      "cpu family\t: 6\r\n",
      "model\t\t: 63\r\n",
      "model name\t: Intel(R) Xeon(R) CPU @ 2.30GHz\r\n",
      "stepping\t: 0\r\n",
      "microcode\t: 0x1\r\n",
      "cpu MHz\t\t: 2299.998\r\n",
      "cache size\t: 46080 KB\r\n",
      "physical id\t: 0\r\n",
      "siblings\t: 1\r\n",
      "core id\t\t: 0\r\n",
      "cpu cores\t: 1\r\n",
      "apicid\t\t: 0\r\n",
      "initial apicid\t: 0\r\n",
      "fpu\t\t: yes\r\n",
      "fpu_exception\t: yes\r\n",
      "cpuid level\t: 13\r\n",
      "wp\t\t: yes\r\n",
      "flags\t\t: fpu vme de pse tsc msr pae mce cx8 apic sep mtrr pge mca cmov pat pse36 clflush mmx fxsr sse sse2 ss ht syscall nx pdpe1gb rdtscp lm constant_tsc rep_good nopl xtopology nonstop_tsc cpuid tsc_known_freq pni pclmulqdq ssse3 fma cx16 pcid sse4_1 sse4_2 x2apic movbe popcnt aes xsave avx f16c rdrand hypervisor lahf_lm abm invpcid_single pti ssbd ibrs ibpb stibp fsgsbase tsc_adjust bmi1 avx2 smep bmi2 erms invpcid xsaveopt arat md_clear arch_capabilities\r\n",
      "bugs\t\t: cpu_meltdown spectre_v1 spectre_v2 spec_store_bypass l1tf mds swapgs\r\n",
      "bogomips\t: 4599.99\r\n",
      "clflush size\t: 64\r\n",
      "cache_alignment\t: 64\r\n",
      "address sizes\t: 46 bits physical, 48 bits virtual\r\n",
      "power management:\r\n",
      "\r\n"
     ]
    }
   ],
   "source": [
    "!cat /proc/cpuinfo"
   ]
  }
 ],
 "metadata": {
  "kernelspec": {
   "display_name": "Python 3",
   "language": "python",
   "name": "python3"
  },
  "language_info": {
   "codemirror_mode": {
    "name": "ipython",
    "version": 3
   },
   "file_extension": ".py",
   "mimetype": "text/x-python",
   "name": "python",
   "nbconvert_exporter": "python",
   "pygments_lexer": "ipython3",
   "version": "3.6.3"
  }
 },
 "nbformat": 4,
 "nbformat_minor": 2
}
